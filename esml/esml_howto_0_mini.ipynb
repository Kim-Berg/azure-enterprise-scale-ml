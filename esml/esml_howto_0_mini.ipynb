{
 "cells": [
  {
   "cell_type": "code",
   "execution_count": 1,
   "metadata": {},
   "outputs": [
    {
     "output_type": "stream",
     "name": "stdout",
     "text": [
      "SDK Version: 1.26.0\n"
     ]
    }
   ],
   "source": [
    "import azureml.core\n",
    "print(\"SDK Version:\", azureml.core.VERSION)"
   ]
  },
  {
   "cell_type": "markdown",
   "metadata": {},
   "source": [
    "# ESML - accelerator: Quick 3 step DEMO\n",
    "- 1) `AutoMap datalake` & init ESML project\n",
    "- 2) `Train model & compare` scoring to existing active model in DEV, TEST, or PROD\n",
    "- 3) `Deploy model & Test` AKS webservice\n",
    "\n",
    "\n"
   ]
  },
  {
   "cell_type": "markdown",
   "metadata": {},
   "source": [
    "Uses `ESML accelerators` & factories, to `code faster` to abstract away `Azure ML Studio` (datasets/versioning/experiments) automated createion, and adds `NEW` concepts.\n",
    "- EMSL enables `enterprise CONCEPTS` (Project/Model/Dev_Test_Prod)` - able to scale across Azure subscriptions in DEV, TEST, PROD for a model.\n",
    "- ESML includes `accelerators for data refinement, with CONCEPTS`: Bronze, Silver, Gold, able to `share refined data ACROSS projects` & models\n",
    "- ESML includes `accelerators for ML CONCEPTS` such as `Split to TRAIN,VALIDATE, TEST` (X_test, y_test to auto-generate charting)\n",
    "![](./images/split_gold_and_train_automl_small.png)"
   ]
  },
  {
   "cell_type": "markdown",
   "metadata": {},
   "source": [
    "# 1) `ESML - Autolake-mapping` generates Azure ML Datasets + Feature engineering: `Bronze->Silver->Gold`"
   ]
  },
  {
   "source": [
    "######  NB! This,InteractiveLoginAuthentication, is only needed to run 1st time, then when ws_config is written, use later CELL in notebook, that just reads that file\n",
    "from azureml.core import Workspace\n",
    "from azureml.core.authentication import InteractiveLoginAuthentication\n",
    "sys.path.append(os.path.abspath(\"./common/\"))  # NOQA: E402\n",
    "from esml import ESMLDataset, ESMLProject\n",
    "\n",
    "p = ESMLProject()\n",
    "p.dev_test_prod=\"dev\"\n",
    "auth = InteractiveLoginAuthentication(tenant_id = p.tenant)\n",
    "ws, config_name = p.authenticate_workspace_and_write_config(auth)\n",
    "######  NB!"
   ],
   "cell_type": "code",
   "metadata": {},
   "execution_count": 13,
   "outputs": []
  },
  {
   "cell_type": "code",
   "execution_count": 14,
   "metadata": {},
   "outputs": [],
   "source": [
    "demo_mode = False\n",
    "unregister_all_datasets=False"
   ]
  },
  {
   "cell_type": "code",
   "execution_count": 15,
   "metadata": {},
   "outputs": [],
   "source": [
    "import sys, os\n",
    "import pandas as pd \n",
    "from azureml.core import Workspace\n",
    "sys.path.append(os.path.abspath(\"./common/\"))  # NOQA: E402\n",
    "from esml import ESMLDataset, ESMLProject\n",
    "\n",
    "if(demo_mode):\n",
    "    p = ESMLProject(True) # Demo settings, will search in internal TEMPLATE SETTINGS folder '../settings'\n",
    "    print(\"DEMO mode - using internal TEMPLATE settings\")\n",
    "else:\n",
    "    p = ESMLProject() # Will search in ROOT for your copied SETTINGS folder '../../../settings', you should copy template settings from '../settings'\n",
    "\n",
    "ws = p.get_workspace_from_config() #2) Load DEV or TEST or PROD Azure ML Studio workspace\n",
    "\n",
    "if(unregister_all_datasets):\n",
    "    p.unregister_all_datasets(ws) # For DEMO purpose\n",
    "    "
   ]
  },
  {
   "cell_type": "code",
   "execution_count": 16,
   "metadata": {},
   "outputs": [
    {
     "output_type": "stream",
     "name": "stdout",
     "text": [
      "Training\n\n - ds01_diabetes\nmaster/1_projects/project002/03_diabetes_model_reg/train/ds01_diabetes/in/dev/2020/01/01/\nmaster/1_projects/project002/03_diabetes_model_reg/train/ds01_diabetes/out/bronze/dev/\nmaster/1_projects/project002/03_diabetes_model_reg/train/ds01_diabetes/out/silver/dev/\n\n - ds02_other\nmaster/1_projects/project002/03_diabetes_model_reg/train/ds02_other/in/dev/2020/01/01/\nmaster/1_projects/project002/03_diabetes_model_reg/train/ds02_other/out/bronze/dev/\nmaster/1_projects/project002/03_diabetes_model_reg/train/ds02_other/out/silver/dev/\nTraining GOLD \n\nmaster/1_projects/project002/03_diabetes_model_reg/train/gold/dev/\n \n\nENVIRONMENT - DEV, TEST, or PROD?\nACTIVE ENVIRONMENT = dev\nACTIVE subscription = ca0a8c40-b06a-4e4e-8434-63c03a1dee34\n- MSFT-WEU-EAP_PROJECT02_AI-DEV-RG\n- msft-weu-DEV-eap-proj02_ai-amls\n- westeurope\n- MSFT-WEU-EAP_CMN_AI-DEV-RG\n- msft-weu-dev-cmnai-vnet\n- msft-weu-dev-cmnai-sn-aml\n"
     ]
    }
   ],
   "source": [
    "p.describe()"
   ]
  },
  {
   "cell_type": "code",
   "execution_count": 19,
   "metadata": {},
   "outputs": [
    {
     "output_type": "stream",
     "name": "stdout",
     "text": [
      "...\n",
      "Using GEN2 as Datastore\n",
      "ds01_diabetes\n",
      "..\n",
      "ds02_other\n",
      "..\n",
      "\n",
      "####### Automap & Autoregister - SUCCESS!\n",
      "1) Auto mapped 2 ESML Dataset with registered Azure ML Datasets (potentially all 3: IN,BRONZE, SILVER) in Datastore project002lake \n",
      "\n",
      "Dataset 'ds01_diabetes' status:\n",
      " - IN_Folder_has_files\n",
      " - BRONZE_Folder_has_files\n",
      " - SILVER_Folder_has_files\n",
      "Dataset 'ds02_other' status:\n",
      " - IN_Folder_has_files\n",
      " - BRONZE_Folder_has_files\n",
      " - SILVER_Folder_has_files\n",
      "\n",
      "2) Registered each Dataset with suffixes (_IN_CSV, _BRONZE, _SILVER) \n",
      " Tip: Use ESMLProject.Datasets list or .DatasetByName(myDatasetName) to read/write\n",
      "#######\n"
     ]
    }
   ],
   "source": [
    "datastore = p.init(ws) # 3) Automapping from datalake to Azure ML datasets"
   ]
  },
  {
   "cell_type": "code",
   "execution_count": 8,
   "metadata": {},
   "outputs": [
    {
     "output_type": "stream",
     "name": "stdout",
     "text": [
      "..\n"
     ]
    }
   ],
   "source": [
    "# Feture engineering: Bronze 2 Gold - working with Azure ML Datasets with Bronze, Silver, Gold concept\n",
    "esml_dataset = p.DatasetByName(\"ds01_diabetes\") # Get dataset\n",
    "df_bronze = esml_dataset.Bronze.to_pandas_dataframe()\n",
    "p.save_silver(esml_dataset,df_bronze) #Bronze -> Silver\n",
    "\n",
    "df = esml_dataset.Silver.to_pandas_dataframe() \n",
    "#df = df[df.AGE > 0.015] \n",
    "gold_train = p.save_gold(df)  #Silver -> Gold"
   ]
  },
  {
   "cell_type": "markdown",
   "metadata": {},
   "source": [
    "## SUMMARY - step 1\n",
    "- ESML has now `Automap` and `Autoregister` Azure ML Datasets as: `IN, SILVER, BRONZE, GOLD`\n",
    "- ESML has read configuration for correct environment (DEV, TEST, PROD). \n",
    "    - Both small customers, and large Enterprise customers often wants:  DEV, TEST, PROD in `diffferent Azure ML workspaces` (and different subscriptions)\n",
    "- User has done feature engineering, and saved GOLD `p.save_gold`"
   ]
  },
  {
   "cell_type": "code",
   "execution_count": null,
   "metadata": {},
   "outputs": [],
   "source": [
    "label = \"Y\"\n",
    "train_6, validate_set_2, test_set_2 = p.split_gold_3(0.6,label) "
   ]
  },
  {
   "cell_type": "markdown",
   "metadata": {},
   "source": [
    "# 2) `ESML` Train model in `5 codelines`"
   ]
  },
  {
   "cell_type": "code",
   "execution_count": null,
   "metadata": {},
   "outputs": [],
   "source": [
    "from esml import ESMLDataset, ESMLProject\n",
    "from baselayer_azure_ml import AutoMLFactory,azure_metric_regression,azure_metric_classification\n",
    "from azureml.train.automl import AutoMLConfig\n",
    "\n",
    "automl_performance_config = p.get_automl_performance_config() # 1)Get config, for active environment (dev,test or prod)\n",
    "aml_compute = p.get_training_aml_compute(ws) # 2)Get compute, for active environment\n",
    "\n",
    "label = \"Y\"\n",
    "train_6, validate_set_2, test_set_2 = p.split_gold_3(0.6,label) # 3) Auto-registerin AZURE (M03_GOLD_TRAIN | M03_GOLD_VALIDATE | M03_GOLD_TEST)          # Alt: p.Gold.random_split(percentage=0.8, seed=23)\n",
    "\n",
    "automl_config = AutoMLConfig(task = 'regression', # 4) Override the ENV config, for model(that inhertits from enterprise DEV_TEST_PROD config baseline)\n",
    "                            primary_metric = azure_metric_regression.MAE, # # Note: Regression(MAPE) are not possible in AutoML\n",
    "                            compute_target = aml_compute,\n",
    "                            training_data = p.GoldTrain, # is 'train_6' pandas dataframe, but as an Azure ML Dataset\n",
    "                            experiment_exit_score = '0.208', # DEMO purpose\n",
    "                            label_column_name = label,\n",
    "                            **automl_performance_config\n",
    "                        )\n",
    "train_as_pipeline = False\n",
    "best_run, fitted_model, experiment = AutoMLFactory(p).train_pipeline(automl_config) if train_as_pipeline else AutoMLFactory(p).train_as_run(automl_config)"
   ]
  },
  {
   "cell_type": "markdown",
   "metadata": {},
   "source": [
    "- ESML has now fetched `configuration & train compute` for enterprise `environment (DEV,TEST or PROD)`\n",
    "- ESML has `autogenerated` a AutoML-experiment, optinally as `pipline`, in correct environment.\n",
    "- User has overridden some AutoML settings (`label, split percentage`, `target metric`), and use the `1-liner TRAIN` code snippet "
   ]
  },
  {
   "cell_type": "markdown",
   "metadata": {},
   "source": [
    "## 2b) ESML Scoring compare `1-codeline`: Promote model or not? If better, then `Register model`\n",
    "- `IF` newly trained model in `current` environment (`DEV`, `TEST` or `PROD`) scores BETTER than existing model in `target` environment, then `new model` can be registered and promoted."
   ]
  },
  {
   "cell_type": "code",
   "execution_count": 8,
   "metadata": {},
   "outputs": [
    {
     "output_type": "execute_result",
     "data": {
      "text/plain": [
       "'dev'"
      ]
     },
     "metadata": {},
     "execution_count": 8
    }
   ],
   "source": [
    "p.dev_test_prod"
   ]
  },
  {
   "cell_type": "code",
   "execution_count": 9,
   "metadata": {},
   "outputs": [
    {
     "output_type": "stream",
     "name": "stdout",
     "text": [
      "Example: If new model scores better in DEV, we can promote this to TEST\n",
      "Loading AutoML config settings from: dev\n",
      "targe=source environement. Compare model version in DEV/TEST/PROD with latest registered in same DEV/TEST/PROD workspace (same workspace & subscriptiom comparison)\n",
      "MAPE (Mean average Percentage Error): 42.401880827391494\n",
      "MAE (normalized_mean_absolute_error): 0.18985294159960237\n",
      "R2 (r2_score): 0.14943375483825816\n",
      "Spearman (spearman_correlation): 0.3538059523639213\n",
      "TARGET is in the same Azure ML Studio workspace as SOURCE, comparing with latest registered model...\n",
      "target_best_run_id AutoML_cdd4d98e-f82a-43da-bc2b-99aab7df25f3\n",
      "MAPE (Mean average Percentage Error): 37.36539689710541\n",
      "MAE (normalized_mean_absolute_error): 0.1641754076941266\n",
      "R2 (r2_score): 0.46617256831419573\n",
      "Spearman (spearman_correlation): 0.6726695514799195\n",
      "Current Production model normalized mean mse: 0.1641754076941266, New trained model mse: 0.18985294159960237\n",
      "\n",
      "OBS! 'debug_always_promote_model' config-flag active - new model will probably always perform better, added +10 to all errors on ACTIVE model at comparison\n",
      "New trained model 0.18985294159960237 performs better in MAE compared to old 10.164175407694126\n",
      "New trained model performs better in R2, thus it will be registered\n",
      "New trained model performs better in MAPE and are >= in R2 and SPEARMAN correlation, thus it is promoted to be registered\n",
      "\n",
      "Promote model?  True\n",
      "New Model: AutoML4c044b2bb1 in environment dev\n",
      "Existing Model: AutoMLcdd4d98ef0 in environment dev\n",
      "Loading AutoML config settings from: dev\n",
      "Loading AutoML config settings from: dev\n",
      "model.version 1\n",
      "Model name AutoML4c044b2bb1 is registered.\n"
     ]
    }
   ],
   "source": [
    "from baselayer_azure_ml import AutoMLFactory\n",
    "target_env = p.dev_test_prod #\"dev\", test, prod  = Target environment. Does Model A score better than Model B?\n",
    "print(\"Example: If new model scores better in DEV, we can promote this to TEST\")\n",
    "\n",
    "promote, m1_name, r1_id, m2_name, r2_run_id = AutoMLFactory(p).compare_scoring_current_vs_new_model(target_env)\n",
    "\n",
    "print(\"Promote model?  {}\".format(promote))\n",
    "print(\"New Model: {} in environment {}\".format(m1_name, p.dev_test_prod))\n",
    "print(\"Existing Model: {} in environment {}\".format(m2_name,target_env))\n",
    "\n",
    "if (promote and p.dev_test_prod == target_env):# Can only register a model in same workspace (test->test) - need to retrain if going from dev->test\n",
    "    AutoMLFactory(p).register_active_model(target_env)\n"
   ]
  },
  {
   "cell_type": "markdown",
   "metadata": {},
   "source": [
    "# 3) ESML `Deploy model ONLINE` in `2 lines of code` (AKS) \n",
    "- Deploy \"offline\" MODEL from old `run` in environment To →  `DEV`, `TEST` or `PROD` environment\n",
    "- ESML saves `API_key in Azure keyvault automatically`\n",
    "- ESML auto-config solves 4 common 'errors/things': `correct compute name` and `valid replicas, valid agents, valid auto scaling`\n",
    "    - Tip: You can adjust the number of replicas, and different CPU/memory configuration, or using a different compute target."
   ]
  },
  {
   "cell_type": "code",
   "execution_count": 10,
   "metadata": {},
   "outputs": [
    {
     "output_type": "execute_result",
     "data": {
      "text/plain": [
       "('dev', 'msft-weu-DEV-eap-proj02_ai-amls')"
      ]
     },
     "metadata": {},
     "execution_count": 10
    }
   ],
   "source": [
    "p.dev_test_prod,ws.name"
   ]
  },
  {
   "cell_type": "code",
   "execution_count": 9,
   "metadata": {},
   "outputs": [
    {
     "output_type": "stream",
     "name": "stdout",
     "text": [
      "Note: OVERRIDING enterprise performance settings with project specifics. (to change, set flag in 'dev_test_prod_settings.json' -> override_enterprise_settings_with_model_specific=False)\n",
      "Loading AutoML config settings from: dev\n",
      "Loading AutoML config settings from: dev\n",
      "Deploying model: AutoML4c044b2bb1 with verison: 1 to environment: dev with overwrite_endpoint=True\n",
      "Note: OVERRIDING enterprise performance settings with project specifics. (to change, set flag in 'dev_test_prod_settings.json' -> override_enterprise_settings_with_model_specific=False)\n",
      "Found existing AksWebservice endpoint, deleting it, since overwrite=True\n",
      "Note: OVERRIDING enterprise performance settings with project specifics. (to change, set flag in 'dev_test_prod_settings.json' -> override_enterprise_settings_with_model_specific=False)\n",
      "Found existing cluster, esml-dev-prj02, using it.\n",
      "Note: Autoscale_enabled=False, or since aks_dev_test=True in config, autoscaling is automatically shut off, e.g. overridden in config (since not supported) for environment dev\n",
      "Tips: You can try get_logs(): https://aka.ms/debugimage#dockerlog or local deployment: https://aka.ms/debugimage#debug-locally to debug if deployment takes longer than 10 minutes.\n",
      "Running\n",
      "2021-04-21 18:55:28+02:00 Creating Container Registry if not exists.\n",
      "2021-04-21 18:55:28+02:00 Registering the environment.\n",
      "2021-04-21 18:55:29+02:00 Use the existing image.\n",
      "2021-04-21 18:55:32+02:00 Creating resources in AKS..\n",
      "2021-04-21 18:55:33+02:00 Submitting deployment to compute.\n",
      "2021-04-21 18:55:33+02:00 Checking the status of deployment esml-dev-p02-m03-aksapi..\n",
      "2021-04-21 18:55:56+02:00 Checking the status of inference endpoint esml-dev-p02-m03-aksapi.\n",
      "Succeeded\n",
      "AKS service creation operation finished, operation \"Succeeded\"\n",
      "Healthy\n",
      "2021-04-21T16:55:48,344637923+00:00 - iot-server/run \n",
      "2021-04-21T16:55:48,349092656+00:00 - gunicorn/run \n",
      "2021-04-21T16:55:48,354380876+00:00 - rsyslog/run \n",
      "2021-04-21T16:55:48,360170789+00:00 - nginx/run \n",
      "/usr/sbin/nginx: /azureml-envs/azureml_1c91e9a5baadb44a18d64bdd7f599d89/lib/libcrypto.so.1.0.0: no version information available (required by /usr/sbin/nginx)\n",
      "/usr/sbin/nginx: /azureml-envs/azureml_1c91e9a5baadb44a18d64bdd7f599d89/lib/libcrypto.so.1.0.0: no version information available (required by /usr/sbin/nginx)\n",
      "/usr/sbin/nginx: /azureml-envs/azureml_1c91e9a5baadb44a18d64bdd7f599d89/lib/libssl.so.1.0.0: no version information available (required by /usr/sbin/nginx)\n",
      "/usr/sbin/nginx: /azureml-envs/azureml_1c91e9a5baadb44a18d64bdd7f599d89/lib/libssl.so.1.0.0: no version information available (required by /usr/sbin/nginx)\n",
      "/usr/sbin/nginx: /azureml-envs/azureml_1c91e9a5baadb44a18d64bdd7f599d89/lib/libssl.so.1.0.0: no version information available (required by /usr/sbin/nginx)\n",
      "rsyslogd: /azureml-envs/azureml_1c91e9a5baadb44a18d64bdd7f599d89/lib/libuuid.so.1: no version information available (required by rsyslogd)\n",
      "EdgeHubConnectionString and IOTEDGE_IOTHUBHOSTNAME are not set. Exiting...\n",
      "2021-04-21T16:55:48,460116577+00:00 - iot-server/finish 1 0\n",
      "2021-04-21T16:55:48,461762252+00:00 - Exit code 1 is normal. Not restarting iot-server.\n",
      "Starting gunicorn 19.9.0\n",
      "Listening at: http://127.0.0.1:31311 (10)\n",
      "Using worker: sync\n",
      "worker timeout is set to 300\n",
      "Booting worker with pid: 39\n",
      "SPARK_HOME not set. Skipping PySpark Initialization.\n",
      "Generating new fontManager, this may take some time...\n",
      "Initializing logger\n",
      "2021-04-21 16:55:49,732 | root | INFO | Starting up app insights client\n",
      "2021-04-21 16:55:49,732 | root | INFO | Starting up request id generator\n",
      "2021-04-21 16:55:49,732 | root | INFO | Starting up app insight hooks\n",
      "2021-04-21 16:55:49,732 | root | INFO | Invoking user's init function\n",
      "2021-04-21 16:55:52,088 | azureml.core | WARNING | Failure while loading azureml_run_type_providers. Failed to load entrypoint automl = azureml.train.automl.run:AutoMLRun._from_run_dto with exception cannot import name 'RunType'.\n",
      "Failure while loading azureml_run_type_providers. Failed to load entrypoint automl = azureml.train.automl.run:AutoMLRun._from_run_dto with exception cannot import name 'RunType'.\n",
      "2021-04-21 16:55:52,341 | root | INFO | Users's init has completed successfully\n",
      "2021-04-21 16:55:52,343 | root | INFO | Skipping middleware: dbg_model_info as it's not enabled.\n",
      "2021-04-21 16:55:52,343 | root | INFO | Skipping middleware: dbg_resource_usage as it's not enabled.\n",
      "2021-04-21 16:55:52,344 | root | INFO | Scoring timeout setting is not found. Use default timeout: 3600000 ms\n",
      "2021-04-21 16:55:56,294 | root | INFO | 200\n",
      "127.0.0.1 - - [21/Apr/2021:16:55:56 +0000] \"GET /swagger.json HTTP/1.0\" 200 2634 \"-\" \"-\"\n",
      "2021-04-21 16:56:00,678 | root | INFO | 200\n",
      "127.0.0.1 - - [21/Apr/2021:16:56:00 +0000] \"GET /swagger.json HTTP/1.0\" 200 2634 \"-\" \"-\"\n",
      "\n",
      "Deployed AKS Webservice: esml-dev-p02-m03-aksapi \n",
      "Webservice Uri: https://esmlcmn7skp17.westeurope.cloudapp.azure.com:443/api/v1/service/esml-dev-p02-m03-aksapi/score \n",
      "Webservice API_key are stored in keyvault with name: esml-dev-p02-m03-api \n",
      "Webservice API_URI are stored in keyvault with name: esml-dev-p02-m03-api \n",
      "Webservice Swagger Uri: https://esmlcmn7skp17.westeurope.cloudapp.azure.com:443/api/v1/service/esml-dev-p02-m03-aksapi/swagger.json\n"
     ]
    }
   ],
   "source": [
    "inference_config, model, best_run = p.get_active_model_inference_config(ws) #  AutoML support \n",
    "service,api_uri, kv_aks_api_secret= p.deploy_automl_model_to_aks(model,inference_config)\n",
    "\n",
    "#Howto: Inject your own deployment config\n",
    "# own_deploy_config_to_inject = p.ComputeFactory.get_deploy_config(p.dev_test_prod,False, \"02\",\"01\")  # 1) Create your config, or use config-baseline, then modify\n",
    "# service,api_uri, kv_aks_api_secret= p.deploy_automl_model_to_aks(model,inference_config,own_deploy_config_to_inject) #2) pass as argument\n",
    "#"
   ]
  },
  {
   "cell_type": "markdown",
   "metadata": {},
   "source": [
    "## 3b) ESML Test AKS webservice, `2 lines of code`"
   ]
  },
  {
   "cell_type": "code",
   "execution_count": 20,
   "metadata": {},
   "outputs": [
    {
     "output_type": "error",
     "ename": "AttributeError",
     "evalue": "'NoneType' object has no attribute 'name'",
     "traceback": [
      "\u001b[1;31m---------------------------------------------------------------------------\u001b[0m",
      "\u001b[1;31mAttributeError\u001b[0m                            Traceback (most recent call last)",
      "\u001b[1;32m<ipython-input-20-ef93e85eff60>\u001b[0m in \u001b[0;36m<module>\u001b[1;34m\u001b[0m\n\u001b[1;32m----> 1\u001b[1;33m \u001b[0mX_test\u001b[0m\u001b[1;33m,\u001b[0m \u001b[0my_test\u001b[0m\u001b[1;33m,\u001b[0m \u001b[0mtags\u001b[0m \u001b[1;33m=\u001b[0m \u001b[0mp\u001b[0m\u001b[1;33m.\u001b[0m\u001b[0mget_gold_validate_Xy\u001b[0m\u001b[1;33m(\u001b[0m\u001b[1;33m)\u001b[0m \u001b[1;31m# Get the X_test data, ESML knows the SPLIT and LABEL already (due to training)\u001b[0m\u001b[1;33m\u001b[0m\u001b[1;33m\u001b[0m\u001b[0m\n\u001b[0m\u001b[0;32m      2\u001b[0m \u001b[0mprint\u001b[0m\u001b[1;33m(\u001b[0m\u001b[0mtags\u001b[0m\u001b[1;33m)\u001b[0m\u001b[1;33m\u001b[0m\u001b[1;33m\u001b[0m\u001b[0m\n\u001b[0;32m      3\u001b[0m \u001b[1;33m\u001b[0m\u001b[0m\n\u001b[0;32m      4\u001b[0m \u001b[0mcaller_user_id\u001b[0m \u001b[1;33m=\u001b[0m \u001b[1;34m'81965d9c-40ca-4e47-9723-5a608a32a0e4'\u001b[0m\u001b[1;33m\u001b[0m\u001b[1;33m\u001b[0m\u001b[0m\n\u001b[0;32m      5\u001b[0m \u001b[0mdf\u001b[0m \u001b[1;33m=\u001b[0m \u001b[0mp\u001b[0m\u001b[1;33m.\u001b[0m\u001b[0mcall_webservice\u001b[0m\u001b[1;33m(\u001b[0m\u001b[0mp\u001b[0m\u001b[1;33m.\u001b[0m\u001b[0mws\u001b[0m\u001b[1;33m,\u001b[0m \u001b[0mX_test\u001b[0m\u001b[1;33m,\u001b[0m\u001b[0mcaller_user_id\u001b[0m\u001b[1;33m)\u001b[0m \u001b[1;31m# Auto-fetch key from keyvault, and calls the webservice\u001b[0m\u001b[1;33m\u001b[0m\u001b[1;33m\u001b[0m\u001b[0m\n",
      "\u001b[1;32mc:\\Users\\jostrm\\OneDrive - Microsoft\\0_GIT\\2_My\\github\\azure-enterprise-scale-ml\\azure-enterprise-scale-ml\\esml\\common\\esml.py\u001b[0m in \u001b[0;36mget_gold_validate_Xy\u001b[1;34m(self, label, ds_version)\u001b[0m\n\u001b[0;32m   1058\u001b[0m                                         \u001b[0mname\u001b[0m \u001b[1;33m=\u001b[0m  \u001b[0mself\u001b[0m\u001b[1;33m.\u001b[0m\u001b[0mGoldValidate\u001b[0m\u001b[1;33m.\u001b[0m\u001b[0mname\u001b[0m\u001b[1;33m,\u001b[0m \u001b[1;31m#  'M03_GOLD_Validate'\u001b[0m\u001b[1;33m\u001b[0m\u001b[1;33m\u001b[0m\u001b[0m\n\u001b[0;32m   1059\u001b[0m                                         version = ds_version)\n\u001b[1;32m-> 1060\u001b[1;33m         \u001b[1;32mif\u001b[0m\u001b[1;33m(\u001b[0m\u001b[0mlabel\u001b[0m \u001b[1;32mis\u001b[0m \u001b[1;32mNone\u001b[0m\u001b[1;33m)\u001b[0m\u001b[1;33m:\u001b[0m \u001b[1;31m# Try reading from TAGS\u001b[0m\u001b[1;33m\u001b[0m\u001b[1;33m\u001b[0m\u001b[0m\n\u001b[0m\u001b[0;32m   1061\u001b[0m             \u001b[1;32mtry\u001b[0m\u001b[1;33m:\u001b[0m\u001b[1;33m\u001b[0m\u001b[1;33m\u001b[0m\u001b[0m\n\u001b[0;32m   1062\u001b[0m                 \u001b[0mlabel\u001b[0m \u001b[1;33m=\u001b[0m \u001b[0mgt\u001b[0m\u001b[1;33m.\u001b[0m\u001b[0mtags\u001b[0m\u001b[1;33m[\u001b[0m\u001b[1;34m\"label\"\u001b[0m\u001b[1;33m]\u001b[0m\u001b[1;33m\u001b[0m\u001b[1;33m\u001b[0m\u001b[0m\n",
      "\u001b[1;31mAttributeError\u001b[0m: 'NoneType' object has no attribute 'name'"
     ]
    }
   ],
   "source": [
    "X_test, y_test, tags = p.get_gold_validate_Xy() # Get the X_test data, ESML knows the SPLIT and LABEL already (due to training)\n",
    "print(tags)\n",
    "\n",
    "caller_user_id = '81965d9c-40ca-4e47-9723-5a608a32a0e4'\n",
    "df = p.call_webservice(p.ws, X_test,caller_user_id) # Auto-fetch key from keyvault, and calls the webservice\n",
    "df.head()"
   ]
  },
  {
   "source": [
    "# 4 Get Scoring from AutoLake - with filter\n",
    "- `Filters`:  Date, caller_id, model_v_used_that_day"
   ],
   "cell_type": "markdown",
   "metadata": {}
  },
  {
   "cell_type": "code",
   "execution_count": null,
   "metadata": {},
   "outputs": [],
   "source": [
    "import datetime as dt\n",
    "now = dt.datetime.now()\n",
    "date_filter = now.strftime('%Y_%m_%d') \n",
    "\n",
    "# FILTERS\n",
    "print(date_filter)\n",
    "caller_user_id = '81965d9c-40ca-4e47-9723-5a608a32a0e4'\n",
    "model_v_used_when_scoring_that_day = \"1\"\n",
    "ds_list1, df_all1 = p.get_scored(date_filter, model_v_used_when_scoring_that_day,caller_user_id)\n",
    "\n",
    "print(\"Datasets found in filter\", len(ds_list1))\n",
    "print(\"Example: How many rows in 1st dataset? \", ds_list1[0].to_pandas_dataframe().shape[0])\n",
    "print(\"All rows\", df_all1.shape[0])\n",
    "\n",
    "df_all1.head()"
   ]
  },
  {
   "cell_type": "markdown",
   "metadata": {},
   "source": [
    "# END"
   ]
  },
  {
   "cell_type": "code",
   "execution_count": null,
   "metadata": {},
   "outputs": [],
   "source": []
  }
 ],
 "metadata": {
  "kernelspec": {
   "name": "python3612jvsc74a57bd03fec2c5a411dce07235ef28c8752b6cecf1f94423de7e7c24e62fc38b1bc47de",
   "display_name": "Python 3.6.12 64-bit ('azure_automl': conda)"
  },
  "language_info": {
   "codemirror_mode": {
    "name": "ipython",
    "version": 3
   },
   "file_extension": ".py",
   "mimetype": "text/x-python",
   "name": "python",
   "nbconvert_exporter": "python",
   "pygments_lexer": "ipython3",
   "version": "3.6.12-final"
  }
 },
 "nbformat": 4,
 "nbformat_minor": 2
}