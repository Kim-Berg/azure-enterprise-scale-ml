{
 "metadata": {
  "language_info": {
   "codemirror_mode": {
    "name": "ipython",
    "version": 3
   },
   "file_extension": ".py",
   "mimetype": "text/x-python",
   "name": "python",
   "nbconvert_exporter": "python",
   "pygments_lexer": "ipython3",
   "version": "3.6.12"
  },
  "orig_nbformat": 2,
  "kernelspec": {
   "name": "python3612jvsc74a57bd03fec2c5a411dce07235ef28c8752b6cecf1f94423de7e7c24e62fc38b1bc47de",
   "display_name": "Python 3.6.12 64-bit ('azure_automl': conda)"
  }
 },
 "nbformat": 4,
 "nbformat_minor": 2,
 "cells": [
  {
   "source": [
    "## 0) Prerequisites:AZURE - You have provisoned the ESML Azure blueprint, using the `NAMING CONVENTION accelerator`\n",
    "- `COMMON resource group`\n",
    "- `PROJECT resourcegrop` \n",
    "- ..and configured `settings` folder"
   ],
   "cell_type": "markdown",
   "metadata": {}
  },
  {
   "cell_type": "code",
   "execution_count": 2,
   "metadata": {},
   "outputs": [
    {
     "output_type": "stream",
     "name": "stdout",
     "text": [
      "ESML Azure Blueprint (or Bicep) will have created these resources for DEV,TEST, PROD (or at least for the DEV environment)\n\nEnvironment:  dev\nAzure naming convention:\n\nESML COMMON:\nmsft-esmlcmn-weu-dev-rg\n saesmlcmnweudev001\n adf-esmlcmn-weu-dev-001\n kv-esmlcmn-weu-dev\n kv-esmlcmn-weu-dev\n vnet-esmlcmn-weu-dev-001\n snet-esmlcmn-001\n\nPROJECT SPECIFIC\nmsft-esml-prj001-weu-dev-rg\n aml-esmlprj001-weu-dev-001\n kv-esmlprj001-weu-dev001\n saesmlprj001weudev001\n ai-esmlprj001-weu-dev\n adf-esmlprj001-weu-dev-001\n snet-esmlcmn-001\n snet-esmlcmn-dbxpub-001\n snet-esmlcmn-dbxpriv-001\n\nEnvironment:  test\nAzure naming convention:\n\nESML COMMON:\nmsft-esmlcmn-weu-test-rg\n saesmlcmnweutest001\n adf-esmlcmn-weu-test-001\n kv-esmlcmn-weu-test\n kv-esmlcmn-weu-test\n vnet-esmlcmn-weu-test-001\n snet-esmlcmn-001\n\nPROJECT SPECIFIC\nmsft-esml-prj001-weu-test-rg\n aml-esmlprj001-weu-test-001\n kv-esmlprj001-weu-test001\n saesmlprj001weutest001\n ai-esmlprj001-weu-test\n adf-esmlprj001-weu-test-001\n snet-esmlcmn-001\n snet-esmlcmn-dbxpub-001\n snet-esmlcmn-dbxpriv-001\n\nEnvironment:  prod\nAzure naming convention:\n\nESML COMMON:\nmsft-esmlcmn-weu-prod-rg\n saesmlcmnweuprod001\n adf-esmlcmn-weu-prod-001\n kv-esmlcmn-weu-prod\n kv-esmlcmn-weu-prod\n vnet-esmlcmn-weu-prod-001\n snet-esmlcmn-001\n\nPROJECT SPECIFIC\nmsft-esml-prj001-weu-prod-rg\n aml-esmlprj001-weu-prod-001\n kv-esmlprj001-weu-prod001\n saesmlprj001weuprod001\n ai-esmlprj001-weu-prod\n adf-esmlprj001-weu-prod-001\n snet-esmlcmn-001\n snet-esmlcmn-dbxpub-001\n snet-esmlcmn-dbxpriv-001\nTENANT level - AuthN/AuthZ ############## used for ALL environments(dev,test,prod)\n\nCOMMON\n AD group= msft-esmlcmn-owner\n Service principle= sp-esmlcmn\n\nPROJECT SPECIFIC\n AD group= msft-esmlprj001-contributor\n Service principle= sp-esmlcmn\n\nTENANT level - END\n"
     ]
    }
   ],
   "source": [
    "import repackage\n",
    "import sys, os\n",
    "repackage.add(\"./company_specific_convention/\")\n",
    "sys.path.append(os.path.abspath(\"./company_specific_convention/\"))  # NOQA: E402\n",
    "from esml_naming_convention import naming_convention\n",
    "\n",
    "print(\"ESML Azure Blueprint (or Bicep) will have created these resources for DEV,TEST, PROD (or at least for the DEV environment)\")\n",
    "c = naming_convention()\n",
    "c.generate()"
   ]
  },
  {
   "cell_type": "code",
   "execution_count": null,
   "metadata": {},
   "outputs": [],
   "source": []
  }
 ]
}