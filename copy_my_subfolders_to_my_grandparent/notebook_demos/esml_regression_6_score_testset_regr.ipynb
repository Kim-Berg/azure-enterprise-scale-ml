{
 "cells": [
  {
   "cell_type": "markdown",
   "source": [
    "# ESML - accelerator: Batch scoring pipeline\n",
    "- 1) `AutoMap datalake` & init ESML project\n",
    "- 2) `Get earlier trained model`\n",
    "- 3) `Score with GOLD_TEST` and calculate ML-performance\n",
    "\n",
    "\n"
   ],
   "metadata": {}
  },
  {
   "cell_type": "markdown",
   "source": [
    "######  NB! This,InteractiveLoginAuthentication, is only needed to run 1st time, then when ws_config is written, use later CELL in notebook, that just reads that file\n",
    "import repackage\n",
    "repackage.add(\"../azure-enterprise-scale-ml/esml/common/\")\n",
    "from azureml.core import Workspace\n",
    "from azureml.core.authentication import InteractiveLoginAuthentication\n",
    "from esml import ESMLDataset, ESMLProject\n",
    "\n",
    "p = ESMLProject()\n",
    "p.dev_test_prod=\"dev\"\n",
    "auth = InteractiveLoginAuthentication(tenant_id = p.tenant)\n",
    "ws, config_name = p.authenticate_workspace_and_write_config(auth)\n",
    "######  NB!"
   ],
   "metadata": {}
  },
  {
   "cell_type": "code",
   "execution_count": 1,
   "source": [
    "unregister_all_datasets=False"
   ],
   "outputs": [],
   "metadata": {}
  },
  {
   "cell_type": "code",
   "execution_count": 2,
   "source": [
    "import repackage\r\n",
    "repackage.add(\"../azure-enterprise-scale-ml/esml/common/\")\r\n",
    "from esml import ESMLProject\r\n",
    "\r\n",
    "p = ESMLProject() # Will search in ROOT for your copied SETTINGS folder '../../../settings', you should copy template settings from '../settings'\r\n",
    "p.active_model = 11\r\n",
    "p.ws = p.get_workspace_from_config() #2) Load DEV or TEST or PROD Azure ML Studio workspace\r\n",
    "p.inference_mode = False\r\n",
    "\r\n",
    "if(unregister_all_datasets):\r\n",
    "    p.unregister_all_datasets(p.ws) # For DEMO purpose\r\n",
    "    "
   ],
   "outputs": [
    {
     "output_type": "stream",
     "name": "stderr",
     "text": [
      "Warning: Falling back to use azure cli login credentials.\n",
      "If you run your code in unattended mode, i.e., where you can't give a user input, then we recommend to use ServicePrincipalAuthentication or MsiAuthentication.\n",
      "Please refer to aka.ms/aml-notebook-auth for different authentication mechanisms in azureml-sdk.\n"
     ]
    }
   ],
   "metadata": {}
  },
  {
   "cell_type": "code",
   "execution_count": 3,
   "source": [
    "p.describe()"
   ],
   "outputs": [
    {
     "output_type": "stream",
     "name": "stdout",
     "text": [
      "Inference version: 1\n",
      "\n",
      " - ds01_diabetes\n",
      "projects/project002/03_diabetes_model_reg/train/ds01_diabetes/in/dev/2021/01/01/\n",
      "projects/project002/03_diabetes_model_reg/train/ds01_diabetes/out/bronze/dev/\n",
      "projects/project002/03_diabetes_model_reg/train/ds01_diabetes/out/silver/dev/\n",
      "\n",
      " - ds02_other\n",
      "projects/project002/03_diabetes_model_reg/train/ds02_other/in/dev/2021/01/01/\n",
      "projects/project002/03_diabetes_model_reg/train/ds02_other/out/bronze/dev/\n",
      "projects/project002/03_diabetes_model_reg/train/ds02_other/out/silver/dev/\n",
      " \n",
      "\n",
      "Training GOLD (p.GoldPath)\n",
      "projects/project002/03_diabetes_model_reg/train/gold/dev/\n",
      " \n",
      "\n",
      "[A) USAGE]: to_score_folder, scored_folder, date_folder = p.get_gold_scored_unique_path()\n",
      "A)INFERENCE ONLINE: GOLD to score (example if realtime - today)\n",
      "projects/project002/03_diabetes_model_reg/inference/1/gold/dev/2021_06_21/949d14d888964e8faf219250046d5aa8/\n",
      " \n",
      "\n",
      "A)INFERENCE ONLINE: GOLD scored (example if realtime today)\n",
      "projects/project002/03_diabetes_model_reg/inference/1/scored/dev/2021_06_21/949d14d888964e8faf219250046d5aa8/\n",
      " \n",
      "\n",
      "[B) USAGE]: to_score_folder_batch, scored_folder, date_folder = p.get_gold_scored_unique_path(p.date_scoring_folder)\n",
      "B)INFERENCE BATCH: GOLD to score (example batch, datetime from config)\n",
      "projects/project002/03_diabetes_model_reg/inference/1/gold/dev/2021_06_08/28d4ca02f2874965a5cfc9e07afaefe0/\n",
      " \n",
      "\n",
      "B)INFERENCE BATCH: GOLD scored (example batch, datetime from config)\n",
      "projects/project002/03_diabetes_model_reg/inference/1/scored/dev/2021_06_08/28d4ca02f2874965a5cfc9e07afaefe0/\n",
      " \n",
      "\n",
      "C) INFERENCE BATCH (SCENARIO 2): TODAY I scored data from X days AGO  (second datefolder from config - X days ago)\n",
      "projects/project002/03_diabetes_model_reg/inference/1/gold/dev/2021_06_08/28d4ca02f2874965a5cfc9e07afaefe0/2021_06_08/\n",
      "projects/project002/03_diabetes_model_reg/inference/1/scored/dev/2021_06_08/28d4ca02f2874965a5cfc9e07afaefe0/2021_06_08/\n",
      " \n",
      "\n",
      "ENVIRONMENT - DEV, TEST, or PROD?  [USAGE: p.dev_test_prod]\n",
      "ACTIVE ENVIRONMENT = dev\n",
      "ACTIVE subscription = ca0a8c40-b06a-4e4e-8434-63c03a1dee34\n",
      "- MSFT-WEU-EAP_PROJECT02_AI-DEV-RG\n",
      "- msft-weu-DEV-eap-proj02_ai-amls\n",
      "- westeurope\n",
      "- MSFT-WEU-EAP_CMN_AI-DEV-RG\n",
      "Active vNet: msft-weu-dev-cmnai-vnet\n",
      "Active SubNet: \n",
      "[USAGE] for the above: p.vNetForActiveEnvironment()\n",
      "Active Lake (storage account)  msftweudevcmnai2\n",
      "[USAGE] for the above: p.getLakeForActiveEnvironment()\n",
      "AML for docker: True\n"
     ]
    }
   ],
   "metadata": {}
  },
  {
   "cell_type": "code",
   "execution_count": 5,
   "source": [
    "datastore = p.init(p.ws) # 3) Automapping from datalake to Azure ML datasets"
   ],
   "outputs": [
    {
     "output_type": "stream",
     "name": "stdout",
     "text": [
      "...\n",
      "Using GEN2 as Datastore\n",
      "Searching for setting in ESML datalake...\n",
      "ESML in-folder settings override = TRUE \n",
      " - Found settings in the ESML AutoLake  [active_in_folder.json,active_scoring_in_folder.json], to override ArgParse/GIT config with.\n",
      " - TRAIN in date:  2021/01/01\n",
      " - INFERENCE in date: 2021/06/08 and ModelVersion to score with: 1 (0=latest)\n",
      "\n",
      "Load data as Datasets....\n",
      "ds01_diabetes\n",
      "\n",
      "####### Automap & Autoregister - SUCCESS!\n",
      "1) Auto mapped 1 ESML Dataset with registered Azure ML Datasets (potentially all 3: IN,BRONZE, SILVER) in Datastore project002 \n",
      "\n",
      "Dataset 'ds01_diabetes' status:\n",
      " - IN_Folder_has_files\n",
      " - BRONZE_Folder_has_files\n",
      " - SILVER_Folder_has_files\n",
      "\n",
      "2) Registered each Dataset with suffixes (_IN, _BRONZE, _SILVER) \n",
      " Tip: Use ESMLProject.Datasets list or .DatasetByName(myDatasetName) to read/write\n",
      "#######\n"
     ]
    }
   ],
   "metadata": {}
  },
  {
   "cell_type": "code",
   "execution_count": 6,
   "source": [
    "# Feture engineering: Bronze 2 Gold - working with Azure ML Datasets with Bronze, Silver, Gold concept\r\n",
    "esml_dataset = p.DatasetByName(\"ds01_diabetes\") # Get dataset\r\n",
    "df_bronze = esml_dataset.Bronze.to_pandas_dataframe()\r\n",
    "p.save_silver(esml_dataset,df_bronze) #Bronze -> Silver\r\n",
    "\r\n",
    "df = esml_dataset.Silver.to_pandas_dataframe() \r\n",
    "df_filtered = df[df.AGE > 0.015] \r\n",
    "gold_train = p.save_gold(df_filtered)  #Silver -> Gold"
   ],
   "outputs": [],
   "metadata": {}
  },
  {
   "cell_type": "markdown",
   "source": [
    "## SUMMARY - step 1\n",
    "- ESML has now `Automap` and `Autoregister` Azure ML Datasets as: `IN, SILVER, BRONZE, GOLD`\n",
    "- ESML has read configuration for correct environment (DEV, TEST, PROD). \n",
    "    - Both small customers, and large Enterprise customers often wants:  DEV, TEST, PROD in `diffferent Azure ML workspaces` (and different subscriptions)\n",
    "- User has done feature engineering, and saved GOLD `p.save_gold`"
   ],
   "metadata": {}
  },
  {
   "cell_type": "markdown",
   "source": [
    "# 2) `Regression` - Get diabetes model\n",
    "https://docs.microsoft.com/en-us/azure/synapse-analytics/spark/apache-spark-azure-machine-learning-tutorial"
   ],
   "metadata": {}
  },
  {
   "cell_type": "markdown",
   "source": [
    "# TEST_SET scoring: REGRESSION\n",
    " - Autoregisters in Azure ML Studio, the TEST-scoring as TAGS on the GOLD_TEST dataset i\n",
    " - locally on build server, or via pipeline."
   ],
   "metadata": {}
  },
  {
   "cell_type": "code",
   "execution_count": 3,
   "source": [
    "datastore = p.connect_to_lake()"
   ],
   "outputs": [
    {
     "output_type": "stream",
     "name": "stdout",
     "text": [
      "Using GEN2 as Datastore\n"
     ]
    }
   ],
   "metadata": {}
  },
  {
   "cell_type": "code",
   "execution_count": 5,
   "source": [
    "from baselayer_azure_ml import ESMLTestScoringFactory\r\n",
    "\r\n",
    "label = p.active_model[\"label\"]\r\n",
    "#p.split_gold_3(0.6,label)\r\n",
    "rmse, r2, mean_abs_percent_error,mae,spearman_corr,plt = ESMLTestScoringFactory(p).get_test_scoring_4_regression(label)\r\n",
    "print(\"RMSE:\")\r\n",
    "print(rmse)\r\n",
    "print()\r\n",
    "print(\"R2:\")\r\n",
    "print(r2)\r\n",
    "print()\r\n",
    "print(\"MAPE:\")\r\n",
    "print(mean_abs_percent_error)\r\n",
    "print()\r\n",
    "print(\"MAE:\")\r\n",
    "print(mae)\r\n",
    "print()\r\n",
    "print(\"Spearman:\")\r\n",
    "print(spearman_corr)"
   ],
   "outputs": [
    {
     "output_type": "stream",
     "name": "stdout",
     "text": [
      "found model via REMOTE FILTER: Experiment TAGS: model name and version\n"
     ]
    },
    {
     "output_type": "stream",
     "name": "stderr",
     "text": [
      "WARNING:root:The version of the SDK does not match the version the model was trained on.\n",
      "WARNING:root:The consistency in the result may not be guaranteed.\n",
      "WARNING:root:Package:azureml-automl-core, training version:1.33.0, current version:1.26.0\n",
      "Package:azureml-automl-runtime, training version:1.33.0, current version:1.26.0\n",
      "Package:azureml-core, training version:1.33.0, current version:1.26.0\n",
      "Package:azureml-dataprep, training version:2.20.1, current version:2.13.2\n",
      "Package:azureml-dataprep-native, training version:38.0.0, current version:32.0.0\n",
      "Package:azureml-dataprep-rslex, training version:1.18.0, current version:1.11.2\n",
      "Package:azureml-dataset-runtime, training version:1.33.0, current version:1.26.0\n",
      "Package:azureml-defaults, training version:1.33.0, current version:1.26.0\n",
      "Package:azureml-interpret, training version:1.33.0, current version:1.26.0\n",
      "Package:azureml-pipeline-core, training version:1.33.0, current version:1.26.0\n",
      "Package:azureml-telemetry, training version:1.33.0, current version:1.26.0\n",
      "Package:azureml-train-automl-client, training version:1.33.0, current version:1.26.0\n",
      "Package:azureml-train-automl-runtime, training version:1.33.0, current version:1.26.0\n",
      "WARNING:root:Below packages were used for model training but missing in current environment:\n",
      "WARNING:root:Package:azureml-mlflow, training version:1.33.0\n",
      "Package:azureml-responsibleai, training version:1.33.0\n",
      "WARNING:root:Please ensure the version of your local conda dependencies match the version on which your model was trained in order to properly retrieve your model.\n"
     ]
    },
    {
     "output_type": "stream",
     "name": "stdout",
     "text": [
      "Replacing tag run_id -> AutoML_ce3e2fee-d26c-45f3-bea5-8bbef7bb6546 with run_id -> AutoML_ce3e2fee-d26c-45f3-bea5-8bbef7bb6546\n",
      "Replacing tag model_name -> AutoMLce3e2feed0 with model_name -> AutoMLce3e2feed0\n",
      "Replacing tag trained_in_environment -> dev with trained_in_environment -> dev\n",
      "Replacing tag trained_in_workspace -> msft-weu-DEV-eap-proj02_ai-amls with trained_in_workspace -> msft-weu-DEV-eap-proj02_ai-amls\n",
      "Replacing tag experiment_name -> 11_diabetes_model_reg with experiment_name -> 11_diabetes_model_reg\n",
      "Replacing tag test_set_RMSE -> 57.169434 with test_set_RMSE -> 57.169434\n",
      "Replacing tag test_set_R2 -> 0.319053 with test_set_R2 -> 0.319053\n",
      "Replacing tag test_set_MAPE -> 0.272946 with test_set_MAPE -> 0.272946\n",
      "Replacing tag test_set_Spearman_Correlation -> 0.596206 with test_set_Spearman_Correlation -> 0.596206\n",
      "Model tag add operation complete.\n",
      "RMSE:\n",
      "57.16943442166354\n",
      "\n",
      "R2:\n",
      "0.3190528794944473\n",
      "\n",
      "MAPE:\n",
      "0.2729455667922768\n",
      "\n",
      "MAE:\n",
      "45.35322553078156\n",
      "\n",
      "Spearman:\n",
      "0.5962062875330425\n"
     ]
    },
    {
     "output_type": "display_data",
     "data": {
      "image/png": "[encoded data removed]",
      "text/plain": [
       "<Figure size 720x504 with 1 Axes>"
      ]
     },
     "metadata": {}
    }
   ],
   "metadata": {
    "tags": []
   }
  },
  {
   "cell_type": "code",
   "execution_count": 6,
   "source": [
    "print(\"From Azure ML Dataset - fetch from Azure ML Studio Dataset tags\")\r\n",
    "print(\"RMSE {:.5}\".format(p.GoldTest.tags[\"RMSE\"]))"
   ],
   "outputs": [
    {
     "output_type": "stream",
     "name": "stdout",
     "text": [
      "From Azure ML Dataset - fetch from Azure ML Studio Dataset tags\n",
      "RMSE 57.16\n"
     ]
    }
   ],
   "metadata": {}
  },
  {
   "cell_type": "code",
   "execution_count": 7,
   "source": [
    "print(\"From MODEL - fetch from Azure ML Studio MODEL tags\")\r\n",
    "print(\"Model name: \", p.BestModel.name)\r\n",
    "print(\"RMSE: {:.5}\".format(p.BestModel.tags[\"test_set_RMSE\"]))"
   ],
   "outputs": [
    {
     "output_type": "stream",
     "name": "stdout",
     "text": [
      "From MODEL - fetch from Azure ML Studio MODEL tags\n",
      "Loading AutoML config settings from: dev\n"
     ]
    },
    {
     "output_type": "stream",
     "name": "stderr",
     "text": [
      "WARNING:root:The version of the SDK does not match the version the model was trained on.\n",
      "WARNING:root:The consistency in the result may not be guaranteed.\n",
      "WARNING:root:Package:azureml-automl-core, training version:1.33.0, current version:1.26.0\n",
      "Package:azureml-automl-runtime, training version:1.33.0, current version:1.26.0\n",
      "Package:azureml-core, training version:1.33.0, current version:1.26.0\n",
      "Package:azureml-dataprep, training version:2.20.1, current version:2.13.2\n",
      "Package:azureml-dataprep-native, training version:38.0.0, current version:32.0.0\n",
      "Package:azureml-dataprep-rslex, training version:1.18.0, current version:1.11.2\n",
      "Package:azureml-dataset-runtime, training version:1.33.0, current version:1.26.0\n",
      "Package:azureml-defaults, training version:1.33.0, current version:1.26.0\n",
      "Package:azureml-interpret, training version:1.33.0, current version:1.26.0\n",
      "Package:azureml-pipeline-core, training version:1.33.0, current version:1.26.0\n",
      "Package:azureml-telemetry, training version:1.33.0, current version:1.26.0\n",
      "Package:azureml-train-automl-client, training version:1.33.0, current version:1.26.0\n",
      "Package:azureml-train-automl-runtime, training version:1.33.0, current version:1.26.0\n",
      "WARNING:root:Below packages were used for model training but missing in current environment:\n",
      "WARNING:root:Package:azureml-mlflow, training version:1.33.0\n",
      "Package:azureml-responsibleai, training version:1.33.0\n",
      "WARNING:root:Please ensure the version of your local conda dependencies match the version on which your model was trained in order to properly retrieve your model.\n"
     ]
    },
    {
     "output_type": "stream",
     "name": "stdout",
     "text": [
      "Model name:  AutoMLce3e2feed0\n",
      "RMSE: 57.16\n"
     ]
    }
   ],
   "metadata": {
    "tags": []
   }
  },
  {
   "cell_type": "markdown",
   "source": [
    "# TEST SCORE END - REGRESSION"
   ],
   "metadata": {}
  },
  {
   "cell_type": "markdown",
   "source": [
    "# END"
   ],
   "metadata": {}
  }
 ],
 "metadata": {
  "kernelspec": {
   "name": "python3",
   "display_name": "Python 3.6.12 64-bit ('azure_automl': conda)"
  },
  "language_info": {
   "codemirror_mode": {
    "name": "ipython",
    "version": 3
   },
   "file_extension": ".py",
   "mimetype": "text/x-python",
   "name": "python",
   "nbconvert_exporter": "python",
   "pygments_lexer": "ipython3",
   "version": "3.6.12"
  },
  "interpreter": {
   "hash": "3fec2c5a411dce07235ef28c8752b6cecf1f94423de7e7c24e62fc38b1bc47de"
  }
 },
 "nbformat": 4,
 "nbformat_minor": 2
}