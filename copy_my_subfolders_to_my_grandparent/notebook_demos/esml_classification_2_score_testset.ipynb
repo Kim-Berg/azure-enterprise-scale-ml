{
 "cells": [
  {
   "cell_type": "markdown",
   "source": [
    "######  NB! This,InteractiveLoginAuthentication, is only needed to run 1st time, then when ws_config is written, use later CELL in notebook, that just reads that file\n",
    "import repackage\n",
    "repackage.add(\"../azure-enterprise-scale-ml/esml/common/\")\n",
    "from azureml.core import Workspace\n",
    "from azureml.core.authentication import InteractiveLoginAuthentication\n",
    "from esml import ESMLDataset, ESMLProject\n",
    "\n",
    "p = ESMLProject()\n",
    "p.dev_test_prod=\"dev\"\n",
    "auth = InteractiveLoginAuthentication(tenant_id = p.tenant)\n",
    "ws, config_name = p.authenticate_workspace_and_write_config(auth)\n",
    "######  NB!"
   ],
   "metadata": {}
  },
  {
   "cell_type": "markdown",
   "source": [
    "# ESML - accelerator: Batch scoring pipeline\n",
    "- 1) `AutoMap datalake` & init ESML project\n",
    "- 2) `Get earlier trained model`\n",
    "- 3) `Score with GOLD_TEST` and calculate ML-performance\n",
    "\n",
    "\n"
   ],
   "metadata": {}
  },
  {
   "cell_type": "code",
   "execution_count": 1,
   "source": [
    "import repackage\r\n",
    "repackage.add(\"../azure-enterprise-scale-ml/esml/common/\")\r\n",
    "from esml import ESMLDataset, ESMLProject\r\n",
    "import pandas as pd\r\n",
    "\r\n",
    "p = ESMLProject() # Will search in ROOT for your copied SETTINGS folder '../../../settings', you should copy template settings from '../settings'\r\n",
    "p.ws = p.get_workspace_from_config() #2) Load DEV or TEST or PROD Azure ML Studio workspace\r\n",
    "    "
   ],
   "outputs": [
    {
     "output_type": "stream",
     "name": "stderr",
     "text": [
      "Warning: Falling back to use azure cli login credentials.\n",
      "If you run your code in unattended mode, i.e., where you can't give a user input, then we recommend to use ServicePrincipalAuthentication or MsiAuthentication.\n",
      "Please refer to aka.ms/aml-notebook-auth for different authentication mechanisms in azureml-sdk.\n"
     ]
    }
   ],
   "metadata": {}
  },
  {
   "cell_type": "code",
   "execution_count": null,
   "source": [
    "#p.describe()"
   ],
   "outputs": [],
   "metadata": {}
  },
  {
   "cell_type": "code",
   "execution_count": 2,
   "source": [
    "try:\r\n",
    "    print(p.GoldTest.to_pandas_dataframe().head()) # gold_test_1 = Dataset.get_by_name(ws, name=p.dataset_gold_test_name_azure)\r\n",
    "except: \r\n",
    "    print (\"you need to have splitted GOLD dataset, GoldTest need to exist. Change next cell from MARKDOWN, to CODE, and run that. Try this again... \")"
   ],
   "outputs": [
    {
     "output_type": "stream",
     "name": "stdout",
     "text": [
      "   Survived  Pclass                                         Name     Sex  \\\n",
      "0         1       3                              Mr. Sahid Nakid    male   \n",
      "1         1       3                         Mr. Hanna Assi Barah    male   \n",
      "2         0       3                            Mr. Edward Willey    male   \n",
      "3         1       2                     Master. Viljo Hamalainen    male   \n",
      "4         1       3  Mrs. Guillaume Joseph (Emma) de Messemaeker  female   \n",
      "\n",
      "     Age  Siblings/Spouses Aboard  Parents/Children Aboard     Fare  \n",
      "0  20.00                        1                        1  15.7417  \n",
      "1  20.00                        0                        0   7.2292  \n",
      "2  21.00                        0                        0   7.5500  \n",
      "3   0.67                        1                        1  14.5000  \n",
      "4  36.00                        1                        0  17.4000  \n"
     ]
    }
   ],
   "metadata": {}
  },
  {
   "cell_type": "markdown",
   "source": [
    "p.inference_mode = False\n",
    "datastore = p.init(ws)\n",
    "\n",
    "esml_dataset = p.DatasetByName(\"ds01_titanic\") \n",
    "df_bronze = esml_dataset.Bronze.to_pandas_dataframe()\n",
    "p.save_silver(esml_dataset,df_bronze) \n",
    "df = esml_dataset.Silver.to_pandas_dataframe() \n",
    "gold_train = p.save_gold(df)\n",
    "label = \"Survived\"\n",
    "train_set, validate_set, test_set = p.split_gold_3(0.6,label) "
   ],
   "metadata": {}
  },
  {
   "cell_type": "markdown",
   "source": [
    "# TEST_SET scoring: CLASSIFICATION\n",
    " - Autoregisters in Azure ML Studio, the TEST-scoring as TAGS on the GOLD_TEST dataset\n",
    " - locally on build server, or via pipeline."
   ],
   "metadata": {}
  },
  {
   "cell_type": "markdown",
   "source": [
    "from azureml.train.automl import AutoMLConfig\n",
    "\n",
    "automl_config = AutoMLConfig(task = 'classification', # 4) Override the ENV config, for model(that inhertits from enterprise DEV_TEST_PROD config baseline)\n",
    "                            primary_metric = \"Accuracy\", # # Note: Regression(MAPE) are not possible in AutoML\n",
    "                            compute_target = None,\n",
    "                            training_data = None, # is 'train_6' pandas dataframe, but as an Azure ML Dataset\n",
    "                            experiment_exit_score = '0.922', # DEMO purpose (0.308 for diabetes regression, 0.6 for classification titanic)\n",
    "                            label_column_name = \"Survived\"\n",
    "                        )\n",
    "\n",
    "automl_config.user_settings['label_column_name']"
   ],
   "metadata": {}
  },
  {
   "cell_type": "markdown",
   "source": [
    "my_def_of_what_model_is_better_function = lambda sklearn_model_new,sklearn_model_current : (sklearn_model_new > sklearn_model_current) \n",
    "\n",
    "def my_function(my_lambda):\n",
    "    model_a_new = 5\n",
    "    model_b_current = 2\n",
    "    if(my_lambda(model_a_new,model_b_current)):\n",
    "        print(\"Model A, newly trained, is better\")\n",
    "    else:\n",
    "        print(\"Model B, Current, is better\")\n",
    "\n",
    "my_function(my_def_of_what_model_is_better_function)"
   ],
   "metadata": {}
  },
  {
   "cell_type": "markdown",
   "source": [
    "source_best_run.tags\n",
    "source_best_run.id\n",
    "source_best_run.properties['predicted_cost']\n",
    "source_best_run.properties"
   ],
   "metadata": {}
  },
  {
   "cell_type": "code",
   "execution_count": null,
   "source": [
    "label = p.active_model[\"label\"]\r\n",
    "try:\r\n",
    "    p.GoldTest.name\r\n",
    "except: \r\n",
    "    p.connect_to_lake()\r\n",
    "    train_6, validate_set_2, test_set_2 = p.split_gold_3(0.6,label)"
   ],
   "outputs": [],
   "metadata": {}
  },
  {
   "cell_type": "code",
   "execution_count": 4,
   "source": [
    "from baselayer_azure_ml import ESMLTestScoringFactory\r\n",
    "\r\n",
    "label = p.active_model[\"label\"]\r\n",
    "auc,accuracy,f1, precision,recall,matrix,matthews, plt = ESMLTestScoringFactory(p).get_test_scoring_7_classification(label)\r\n",
    "\r\n",
    "print(\"AUC:\")\r\n",
    "print(auc)\r\n",
    "print()\r\n",
    "print(\"Accuracy:\")\r\n",
    "print(accuracy)\r\n",
    "print()\r\n",
    "print(\"F1 Score:\")\r\n",
    "print(f1)\r\n",
    "print()\r\n",
    "print(\"Precision:\")\r\n",
    "print(precision)\r\n",
    "print()\r\n",
    "print(\"Recall:\")\r\n",
    "print(recall)\r\n",
    "print()\r\n",
    "print(\"Confusion Matrix:\")\r\n",
    "print(matrix)\r\n",
    "print(\"matthews :\")\r\n",
    "print(matthews)\r\n"
   ],
   "outputs": [
    {
     "output_type": "stream",
     "name": "stdout",
     "text": [
      "found model via REMOTE FILTER: Experiment TAGS: model name and version\n"
     ]
    },
    {
     "output_type": "stream",
     "name": "stderr",
     "text": [
      "WARNING:root:The version of the SDK does not match the version the model was trained on.\n",
      "WARNING:root:The consistency in the result may not be guaranteed.\n",
      "WARNING:root:Package:azureml-automl-core, training version:1.30.0, current version:1.26.0\n",
      "Package:azureml-automl-runtime, training version:1.30.0, current version:1.26.0\n",
      "Package:azureml-core, training version:1.30.0, current version:1.26.0\n",
      "Package:azureml-dataprep, training version:2.15.1, current version:2.13.2\n",
      "Package:azureml-dataprep-native, training version:33.0.0, current version:32.0.0\n",
      "Package:azureml-dataprep-rslex, training version:1.13.0, current version:1.11.2\n",
      "Package:azureml-dataset-runtime, training version:1.30.0, current version:1.26.0\n",
      "Package:azureml-defaults, training version:1.30.0, current version:1.26.0\n",
      "Package:azureml-interpret, training version:1.30.0, current version:1.26.0\n",
      "Package:azureml-pipeline-core, training version:1.30.0, current version:1.26.0\n",
      "Package:azureml-telemetry, training version:1.30.0, current version:1.26.0\n",
      "Package:azureml-train-automl-client, training version:1.30.0, current version:1.26.0\n",
      "Package:azureml-train-automl-runtime, training version:1.30.0, current version:1.26.0\n",
      "WARNING:root:Below packages were used for model training but missing in current environment:\n",
      "WARNING:root:Package:azureml-mlflow, training version:1.30.0\n",
      "WARNING:root:Please ensure the version of your local conda dependencies match the version on which your model was trained in order to properly retrieve your model.\n"
     ]
    },
    {
     "output_type": "stream",
     "name": "stdout",
     "text": [
      "Replacing tag run_id -> AutoML_41dbdbdc-52bc-4ac3-8a2b-a353d418908c with run_id -> AutoML_41dbdbdc-52bc-4ac3-8a2b-a353d418908c\n",
      "Replacing tag model_name -> AutoML41dbdbdc58 with model_name -> AutoML41dbdbdc58\n",
      "Replacing tag trained_in_environment -> dev with trained_in_environment -> dev\n",
      "Replacing tag trained_in_workspace -> msft-weu-DEV-eap-proj02_ai-amls with trained_in_workspace -> msft-weu-DEV-eap-proj02_ai-amls\n",
      "Replacing tag experiment_name -> 10_titanic_model_clas with experiment_name -> 10_titanic_model_clas\n",
      "Replacing tag test_set_ROC_AUC -> 0.848795 with test_set_ROC_AUC -> 0.848795\n",
      "Replacing tag test_set_Accuracy -> 0.831461 with test_set_Accuracy -> 0.831461\n",
      "Replacing tag test_set_F1_Score -> 0.788732 with test_set_F1_Score -> 0.788732\n",
      "Replacing tag test_set_Precision -> 0.712110 with test_set_Precision -> 0.712110\n",
      "Replacing tag test_set_Recall -> 0.777778 with test_set_Recall -> 0.777778\n",
      "Replacing tag test_set_Matthews_Correlation -> 0.648770 with test_set_Matthews_Correlation -> 0.648770\n",
      "Replacing tag test_set_CM -> [[92 14]\n",
      " [16 56]] with test_set_CM -> [[92 14]\n",
      " [16 56]]\n",
      "Model tag add operation complete.\n",
      "AUC:\n",
      "0.8487945492662474\n",
      "\n",
      "Accuracy:\n",
      "0.8314606741573034\n",
      "\n",
      "F1 Score:\n",
      "0.7887323943661971\n",
      "\n",
      "Precision:\n",
      "0.7121098626716604\n",
      "\n",
      "Recall:\n",
      "0.7777777777777778\n",
      "\n",
      "Confusion Matrix:\n",
      "[[92 14]\n",
      " [16 56]]\n",
      "matthews :\n",
      "0.6487697927331703\n"
     ]
    },
    {
     "output_type": "display_data",
     "data": {
      "image/png": "[encoded data removed]",
      "text/plain": [
       "<Figure size 432x288 with 1 Axes>"
      ]
     },
     "metadata": {
      "needs_background": "light"
     }
    }
   ],
   "metadata": {
    "tags": []
   }
  },
  {
   "cell_type": "markdown",
   "source": [
    "# END - CLASSIFICATION, TEST_SET scoring"
   ],
   "metadata": {}
  },
  {
   "cell_type": "markdown",
   "source": [
    "# 2) CLASSIFICATION - predict_proba"
   ],
   "metadata": {}
  },
  {
   "cell_type": "code",
   "execution_count": null,
   "source": [
    "# ESML specific start\r\n",
    "source_best_run, fitted_model, experiment = p.get_best_model(p.ws)\r\n",
    "X_test = p.GoldTest.to_pandas_dataframe() # X_test\r\n",
    "# ESML end\r\n",
    "\r\n",
    "from sklearn.metrics import mean_squared_error, r2_score,recall_score,average_precision_score,f1_score,roc_auc_score,accuracy_score,roc_curve,confusion_matrix\r\n",
    "\r\n",
    "y_test = X_test.pop(label).to_frame() # y_test (true labels)\r\n",
    "y_predict = fitted_model.predict(X_test) # y_predict (predicted labels)\r\n",
    "y_predict_proba = fitted_model.predict_proba(X_test) # y_predict (predicted probabilities)\r\n",
    "\r\n",
    "predict_proba = y_predict_proba[:, 1] # Positive values only\r\n",
    "auc = roc_auc_score(y_test, predict_proba)\r\n",
    "fpr, tpr, thresholds = roc_curve(y_test, predict_proba)\r\n",
    "\r\n",
    "accuracy, precision, recall, f1, matrix = \\\r\n",
    "accuracy_score(y_test, y_predict),\\\r\n",
    "average_precision_score(y_test, y_predict),\\\r\n",
    "recall_score(y_test, y_predict),\\\r\n",
    "f1_score(y_test,y_predict), \\\r\n",
    "confusion_matrix(y_test, y_predict)\r\n"
   ],
   "outputs": [],
   "metadata": {}
  },
  {
   "cell_type": "code",
   "execution_count": null,
   "source": [
    "print(\"ROC AUC\", auc)"
   ],
   "outputs": [],
   "metadata": {}
  },
  {
   "cell_type": "code",
   "execution_count": null,
   "source": [
    "probs =  y_predict_proba[:, 1].tolist() # positive. negative: [:, 0]\r\n",
    "result = {'predict_survive': y_predict.tolist(), 'probability': probs}\r\n",
    "df_res = pd.DataFrame.from_dict(result)\r\n",
    "\r\n",
    "all_result = X_test.join(df_res)\r\n",
    "all_result.head()"
   ],
   "outputs": [],
   "metadata": {}
  },
  {
   "cell_type": "code",
   "execution_count": null,
   "source": [],
   "outputs": [],
   "metadata": {}
  }
 ],
 "metadata": {
  "kernelspec": {
   "name": "python3",
   "display_name": "Python 3.6.12 64-bit ('azure_automl': conda)"
  },
  "language_info": {
   "codemirror_mode": {
    "name": "ipython",
    "version": 3
   },
   "file_extension": ".py",
   "mimetype": "text/x-python",
   "name": "python",
   "nbconvert_exporter": "python",
   "pygments_lexer": "ipython3",
   "version": "3.6.12"
  },
  "interpreter": {
   "hash": "3fec2c5a411dce07235ef28c8752b6cecf1f94423de7e7c24e62fc38b1bc47de"
  }
 },
 "nbformat": 4,
 "nbformat_minor": 2
}