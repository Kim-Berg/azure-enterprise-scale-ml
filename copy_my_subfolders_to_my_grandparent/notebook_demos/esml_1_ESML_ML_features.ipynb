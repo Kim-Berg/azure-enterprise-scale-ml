{
 "cells": [
  {
   "cell_type": "code",
   "execution_count": null,
   "source": [
    "import repackage\r\n",
    "repackage.add(\"../azure-enterprise-scale-ml/esml/common/\")\r\n",
    "from esml import ESMLProject\r\n",
    "import pandas as pd\r\n",
    "\r\n",
    "p = ESMLProject() # Will search in ROOT for your copied SETTINGS folder '../../../settings', you should copy template settings from '../settings'\r\n",
    "p.inference_mode = False\r\n",
    "\r\n",
    "p.active_model = 1 # Must be a MULTI-CLASSIFICATION model for this DEMO\r\n",
    "p.ws = p.get_workspace_from_config() #2) Load DEV or TEST or PROD Azure ML Studio workspace\r\n",
    "p.connect_to_lake"
   ],
   "outputs": [],
   "metadata": {}
  },
  {
   "cell_type": "markdown",
   "source": [
    "## `Autosplit` and register as Azure ML Datasets (avoid boring registering work, over and over, `since each project/model needs spliing dat for ML`)"
   ],
   "metadata": {}
  },
  {
   "cell_type": "code",
   "execution_count": null,
   "source": [
    "# GET TESTSET\r\n",
    "label = p.active_model[\"label\"]\r\n",
    "try:\r\n",
    "    p.GoldTest.name\r\n",
    "except: \r\n",
    "    p.connect_to_lake()\r\n",
    "    train_6, validate_set_2, test_set_2 = p.split_gold_3(0.6,label)"
   ],
   "outputs": [],
   "metadata": {}
  },
  {
   "cell_type": "markdown",
   "source": [
    "# Multiclass Classification: 2 ways of calculating METRICS. Example: `roc_auc_score`"
   ],
   "metadata": {}
  },
  {
   "cell_type": "markdown",
   "source": [
    "### Alt A) Get best model via ESML, and `caluclate scoring metrics yourself` (over and over for each project)"
   ],
   "metadata": {}
  },
  {
   "cell_type": "code",
   "execution_count": null,
   "source": [
    "# GET BEST MODEL - accoring to YOU - settings\\project_specific\\model\\model_settings.json\r\n",
    "experiment, model,main_run, best_automl_run,fitted_model = p.get_best_model_and_run_via_experiment_name_and_ws(p.ws)"
   ],
   "outputs": [],
   "metadata": {}
  },
  {
   "cell_type": "code",
   "execution_count": 10,
   "source": [
    "# MANUALLY: Calculate TEST_SET roc_auc_score\r\n",
    "\r\n",
    "from sklearn.metrics import roc_auc_score\r\n",
    "\r\n",
    "X_test = p.GoldTest.to_pandas_dataframe()\r\n",
    "y_test = X_test.pop(label).to_frame() # y_test (true labels)\r\n",
    "y_predict = fitted_model.predict(X_test) # y_predict (predicted labels)\r\n",
    "y_predict_proba = None\r\n",
    "\r\n",
    "if fitted_model is not None and hasattr(fitted_model, 'predict_proba') and fitted_model.predict_proba is not None:\r\n",
    "    y_predict_proba = fitted_model.predict_proba(X_test) \r\n",
    "    predict_proba = None\r\n",
    "    predict_proba = y_predict_proba[:,1]\r\n",
    "\r\n",
    "multi_class = False\r\n",
    "if (multi_class):\r\n",
    "    auc = roc_auc_score(y_true=y_test, y_score=y_predict_proba,multi_class='ovr') # ovo\r\n",
    "else:\r\n",
    "    auc = roc_auc_score(y_test, predict_proba)\r\n",
    "    \r\n",
    "print(\"roc_auc_score\", auc)\r\n",
    "\r\n",
    "print(\"And then...you need to log it (not showed here), such as regiser this in Azure ML Studio on model and test_set. ESML alternative does this auto, via TAGS\")"
   ],
   "outputs": [
    {
     "output_type": "stream",
     "name": "stdout",
     "text": [
      "roc_auc_score 0.8539046121593292\n",
      "And then...you need to log it (not showed here), such as regiser this in Azure ML Studio on model and test_set. ESML alternative does this auto\n"
     ]
    }
   ],
   "metadata": {}
  },
  {
   "cell_type": "markdown",
   "source": [
    "## Alt B) Get best model via ESML, `auto-calucalulation`  (same consistent calulcation, for each project in your organisation)\r\n",
    "- Supports both: `Binary` or `Multiclass` classficiaton for roc_auc_score"
   ],
   "metadata": {}
  },
  {
   "cell_type": "code",
   "execution_count": 6,
   "source": [
    "# TEST_SET SCORING - ESML Automatically, 7 metrics\r\n",
    "from baselayer_azure_ml import ESMLTestScoringFactory\r\n",
    "label = p.active_model[\"label\"]\r\n",
    "\r\n",
    "multi_class = None # 'ovr', 'ovo'\r\n",
    "auc,accuracy,f1, precision,recall,matrix,matthews, plt = ESMLTestScoringFactory(p).get_test_scoring_7_classification(label,multi_class) # ovo or ovr for MULTI-CLASSIFICATION\r\n",
    "\r\n",
    "print(\"AUC:\")\r\n",
    "print(auc)\r\n",
    "print()\r\n",
    "print(\"Accuracy:\")\r\n",
    "print(accuracy)\r\n",
    "print()\r\n",
    "print(\"F1 Score:\")\r\n",
    "print(f1)\r\n",
    "print()\r\n",
    "print(\"Precision:\")\r\n",
    "print(precision)\r\n",
    "print()\r\n",
    "print(\"Recall:\")\r\n",
    "print(recall)\r\n",
    "print()\r\n",
    "print(\"Matthews correlation:\")\r\n",
    "print(matthews)\r\n",
    "print()\r\n",
    "print(\"Confusion Matrix:\")\r\n",
    "print(matrix)\r\n"
   ],
   "outputs": [
    {
     "output_type": "stream",
     "name": "stdout",
     "text": [
      "found model via REMOTE FILTER: Experiment TAGS: model_name\n"
     ]
    },
    {
     "output_type": "stream",
     "name": "stderr",
     "text": [
      "WARNING:root:The version of the SDK does not match the version the model was trained on.\n",
      "WARNING:root:The consistency in the result may not be guaranteed.\n",
      "WARNING:root:Package:azureml-automl-core, training version:1.34.0, current version:1.26.0\n",
      "Package:azureml-automl-runtime, training version:1.34.0, current version:1.26.0.post1\n",
      "Package:azureml-core, training version:1.34.0, current version:1.26.0.post1\n",
      "Package:azureml-dataprep, training version:2.22.2, current version:2.13.2\n",
      "Package:azureml-dataprep-native, training version:38.0.0, current version:32.0.0\n",
      "Package:azureml-dataprep-rslex, training version:1.20.2, current version:1.11.2\n",
      "Package:azureml-dataset-runtime, training version:1.34.0, current version:1.26.0\n",
      "Package:azureml-defaults, training version:1.34.0, current version:1.26.0\n",
      "Package:azureml-interpret, training version:1.34.0, current version:1.26.0\n",
      "Package:azureml-pipeline-core, training version:1.34.0, current version:1.26.0\n",
      "Package:azureml-telemetry, training version:1.34.0, current version:1.26.0\n",
      "Package:azureml-train-automl-client, training version:1.34.0, current version:1.26.0\n",
      "Package:azureml-train-automl-runtime, training version:1.34.0, current version:1.26.0.post1\n",
      "WARNING:root:Below packages were used for model training but missing in current environment:\n",
      "WARNING:root:Package:azureml-inference-server-http, training version:0.3.1\n",
      "Package:azureml-mlflow, training version:1.34.0\n",
      "Package:azureml-responsibleai, training version:1.34.0\n",
      "WARNING:root:Please ensure the version of your local conda dependencies match the version on which your model was trained in order to properly retrieve your model.\n"
     ]
    },
    {
     "output_type": "stream",
     "name": "stdout",
     "text": [
      "Replacing tag run_id -> AutoML_7e3ddc93-d7a6-4989-87d2-b538e6a24281 with run_id -> AutoML_7e3ddc93-d7a6-4989-87d2-b538e6a24281\n",
      "Replacing tag model_name -> AutoML7e3ddc93d7 with model_name -> AutoML7e3ddc93d7\n",
      "Replacing tag trained_in_environment -> dev with trained_in_environment -> dev\n",
      "Replacing tag trained_in_workspace -> msft-weu-DEV-eap-proj02_ai-amls with trained_in_workspace -> msft-weu-DEV-eap-proj02_ai-amls\n",
      "Replacing tag experiment_name -> 10_titanic_model_clas with experiment_name -> 10_titanic_model_clas\n",
      "Replacing tag test_set_ROC_AUC -> 0.853905 with test_set_ROC_AUC -> 0.853905\n",
      "Replacing tag test_set_Accuracy -> 0.837079 with test_set_Accuracy -> 0.837079\n",
      "Replacing tag test_set_F1_Score -> 0.794326 with test_set_F1_Score -> 0.794326\n",
      "Replacing tag test_set_Precision -> 0.721128 with test_set_Precision -> 0.721128\n",
      "Replacing tag test_set_Recall -> 0.777778 with test_set_Recall -> 0.777778\n",
      "Replacing tag test_set_Matthews_Correlation -> 0.659953 with test_set_Matthews_Correlation -> 0.659953\n",
      "Replacing tag test_set_CM -> [[93 13]\n",
      " [16 56]] with test_set_CM -> [[93 13]\n",
      " [16 56]]\n",
      "Model tag add operation complete.\n",
      "AUC:\n",
      "0.8539046121593292\n",
      "\n",
      "Accuracy:\n",
      "0.8370786516853933\n",
      "\n",
      "F1 Score:\n",
      "0.7943262411347518\n",
      "\n",
      "Precision:\n",
      "0.7211275760371999\n",
      "\n",
      "Recall:\n",
      "0.7777777777777778\n",
      "\n",
      "Matthews correlation:\n",
      "0.6599530330356351\n",
      "\n",
      "Confusion Matrix:\n",
      "[[93 13]\n",
      " [16 56]]\n"
     ]
    },
    {
     "output_type": "display_data",
     "data": {
      "image/png": "[encoded data removed]",
      "text/plain": [
       "<Figure size 432x288 with 1 Axes>"
      ]
     },
     "metadata": {
      "needs_background": "light"
     }
    }
   ],
   "metadata": {}
  }
 ],
 "metadata": {
  "orig_nbformat": 4,
  "language_info": {
   "name": "python",
   "version": "3.6.13",
   "mimetype": "text/x-python",
   "codemirror_mode": {
    "name": "ipython",
    "version": 3
   },
   "pygments_lexer": "ipython3",
   "nbconvert_exporter": "python",
   "file_extension": ".py"
  },
  "kernelspec": {
   "name": "python3",
   "display_name": "Python 3.6.13 64-bit ('azure_automl_esml': conda)"
  },
  "interpreter": {
   "hash": "bff138c6506cd8bb18be416ddb0a9a1b79f251dbd17a0136ba14c04424a65323"
  }
 },
 "nbformat": 4,
 "nbformat_minor": 2
}