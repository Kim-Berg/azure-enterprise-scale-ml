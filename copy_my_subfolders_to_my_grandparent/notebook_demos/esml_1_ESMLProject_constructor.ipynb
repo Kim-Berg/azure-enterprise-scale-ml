{
 "cells": [
  {
   "cell_type": "code",
   "execution_count": 1,
   "source": [
    "import repackage\r\n",
    "repackage.add(\"../azure-enterprise-scale-ml/esml/common/\")\r\n",
    "from esml import ESMLProject"
   ],
   "outputs": [],
   "metadata": {}
  },
  {
   "cell_type": "markdown",
   "source": [
    "# 1) Choose ACTIVE DATA (training or scoring)"
   ],
   "metadata": {}
  },
  {
   "cell_type": "markdown",
   "source": [
    "## 1A) Empty contructor (R&D scenario: Run notebooks `or` Production scenario: Define BATCH-pipeline))\r\n",
    "- Reads from settings folder for `lake_settings`,  for static model definition [`label, datasets to use`]\r\n",
    "- Read from DataLake `train/active` folder for [`train_in_folder_date`] and `inference/active`for [`scoring_folder_date,inference_model_version,train_in_folder_date`]\r\n",
    "    - Note: If no json in datalake, it falls back on LOCAL `setting/active` code folder (GIT)\r\n",
    "- Note: `p.describe()` will show the LOCAL code folder...it is not until you run `p.init()` or `p.connect_to_lake()` we know IF lake `active` files exists, and overrides"
   ],
   "metadata": {}
  },
  {
   "cell_type": "code",
   "execution_count": 32,
   "source": [
    "p = ESMLProject() # Great when \"working with 1 model at the time\" (R&D or PRODUCTION for pipeline-creation)\r\n",
    "p.inference_mode = True\r\n",
    "#p.active_model = 12 #  settings/project_specific/model/lake_settings.json\r\n",
    "p.describe()"
   ],
   "outputs": [
    {
     "output_type": "stream",
     "name": "stdout",
     "text": [
      "Using lake_settings.json with ESML version 1.4 - Models array support including LABEL\n",
      "Inference version: 2\n",
      "\n",
      " - ds01_diabetes\n",
      "projects/project002/11_diabetes_model_reg/inference/2/ds01_diabetes/in/dev/2021/06/11/\n",
      "projects/project002/11_diabetes_model_reg/inference/2/ds01_diabetes/out/bronze/dev/\n",
      "projects/project002/11_diabetes_model_reg/inference/2/ds01_diabetes/out/silver/dev/\n",
      "\n",
      " - ds02_other\n",
      "projects/project002/11_diabetes_model_reg/inference/2/ds02_other/in/dev/2021/06/11/\n",
      "projects/project002/11_diabetes_model_reg/inference/2/ds02_other/out/bronze/dev/\n",
      "projects/project002/11_diabetes_model_reg/inference/2/ds02_other/out/silver/dev/\n",
      " \n",
      "\n",
      "Training GOLD (p.GoldPath)\n",
      "projects/project002/11_diabetes_model_reg/inference/2/gold/dev/\n",
      " \n",
      "\n",
      "[A) USAGE]: to_score_folder, scored_folder, date_folder = p.get_gold_scored_unique_path()\n",
      "A)INFERENCE ONLINE: GOLD to score (example if realtime - today)\n",
      "projects/project002/11_diabetes_model_reg/inference/2/gold/dev/2021_10_05/979585b4f1cc4257b62732bf6cd9b3e0/\n",
      " \n",
      "\n",
      "A)INFERENCE ONLINE: GOLD scored (example if realtime today)\n",
      "projects/project002/11_diabetes_model_reg/inference/2/scored/dev/2021_10_05/979585b4f1cc4257b62732bf6cd9b3e0/\n",
      " \n",
      "\n",
      "[B) USAGE]: to_score_folder_batch, scored_folder, date_folder = p.get_gold_scored_unique_path(p.date_scoring_folder)\n",
      "B)INFERENCE BATCH: GOLD to score (example batch, datetime from config)\n",
      "projects/project002/11_diabetes_model_reg/inference/2/gold/dev/2021_06_11/742a09fe83244ab88eb2a791595625b3/\n",
      " \n",
      "\n",
      "B)INFERENCE BATCH: GOLD scored (example batch, datetime from config)\n",
      "projects/project002/11_diabetes_model_reg/inference/2/scored/dev/2021_06_11/742a09fe83244ab88eb2a791595625b3/\n",
      " \n",
      "\n",
      "C) INFERENCE BATCH (SCENARIO 2): TODAY I scored data from X days AGO  (second datefolder from config - X days ago)\n",
      "projects/project002/11_diabetes_model_reg/inference/2/gold/dev/2021_06_11/742a09fe83244ab88eb2a791595625b3/2021_06_11/\n",
      "projects/project002/11_diabetes_model_reg/inference/2/scored/dev/2021_06_11/742a09fe83244ab88eb2a791595625b3/2021_06_11/\n",
      " \n",
      "\n",
      "ENVIRONMENT - DEV, TEST, or PROD?  [USAGE: p.dev_test_prod]\n",
      "ACTIVE ENVIRONMENT = dev\n",
      "ACTIVE subscription = ca0a8c40-b06a-4e4e-8434-63c03a1dee34\n",
      "- MSFT-WEU-EAP_PROJECT02_AI-DEV-RG\n",
      "- msft-weu-DEV-eap-proj02_ai-amls\n",
      "- westeurope\n",
      "- MSFT-WEU-EAP_CMN_AI-DEV-RG\n",
      "Active vNet: msft-weu-dev-cmnai-vnet\n",
      "Active SubNet: \n",
      "[USAGE] for the above: p.vNetForActiveEnvironment()\n",
      "Active Lake (storage account)  msftweudevcmnai2\n",
      "[USAGE] for the above: p.getLakeForActiveEnvironment()\n",
      "AML for docker: True\n"
     ]
    }
   ],
   "metadata": {}
  },
  {
   "cell_type": "markdown",
   "source": [
    "## Lets see if DATLAKE contains `active` folders with files, that overrides our local settings"
   ],
   "metadata": {}
  },
  {
   "cell_type": "code",
   "execution_count": 33,
   "source": [
    "p.ws = p.get_workspace_from_config()\r\n",
    "data_store = p.connect_to_lake()"
   ],
   "outputs": [
    {
     "output_type": "stream",
     "name": "stdout",
     "text": [
      "Using GEN2 as Datastore\n",
      "Searching for setting in ESML datalake...\n",
      "ESML in-folder settings override = TRUE \n",
      " - Found settings in the ESML AutoLake  [active_in_folder.json,active_scoring_in_folder.json], to override ArgParse/GIT config with.\n",
      " - TRAIN in date:  2021/01/01\n",
      " - INFERENCE in date: 2021/06/08 and ModelVersion to score with: 1 (0=latest)\n"
     ]
    }
   ],
   "metadata": {}
  },
  {
   "cell_type": "code",
   "execution_count": 37,
   "source": [
    "print(\"AFTER we connected to the DATALAKE, if ACTIVE folder with files exists in datalake, parameters will be overriden by the DATLAKE parameters\")\r\n",
    "print(\"This is a convenient way to have SETTINGS per model, in the datalake, for Azure Data factory or other service to overwrite...not having to know about ESML SDK. No dependency to Python\")\r\n",
    "print(\"\")\r\n",
    "print(\"Model version:\", p.inferenceModelVersion)\r\n",
    "print(\"IN DATA - date_folder:\", p.InDateFolder)"
   ],
   "outputs": [
    {
     "output_type": "stream",
     "name": "stdout",
     "text": [
      "AFTER we connected to the DATALAKE, if ACTIVE folder with files exists in datalake, parameters will be overriden by the DATLAKE parameters\n",
      "This is a convenient way to have SETTINGS per model, in the datalake, for Azure Data factory or other service to overwrite...not having to know about ESML SDK. No dependency to Python\n",
      "\n",
      "Model version: 1\n",
      "IN DATA - date_folder: 2021/01/01\n"
     ]
    }
   ],
   "metadata": {}
  },
  {
   "cell_type": "markdown",
   "source": [],
   "metadata": {}
  },
  {
   "cell_type": "markdown",
   "source": [
    "## 1B) Contructor with parameters (MLOps scenario: SCORING or RETRAINING pipeline)\r\n",
    "- Reads from settings folder for `lake_settings`, for static model definition `[label, datasets to use]`\r\n",
    "- Overrides LOCAL `active` folder. `AND override` even if .json exists in DATALAKE `active` folders, or in local code `active` folder \r\n",
    "    - This overwrites the local .json files (GIT), AND also prohibits DATALAKE files to override. \r\n",
    "\r\n",
    "### Note: `p.describe()` will show the LOCAL code folder...it is not until you run `p.init()` or `p.connect_to_lake()` we know IF lake `active` files exists, and see that lake-override is prohibited\r\n",
    "- This will show in output logs: `ESML in-folder settings override = FALSE.`\r\n",
    "- Contructor wins over all external injection of settings"
   ],
   "metadata": {}
  },
  {
   "cell_type": "markdown",
   "source": [
    "### 1b) USUAL SCENARIO: MLOps scenario or Scoring scenario\r\n",
    "- `MLOps`: Parameters Azure Devops (or Azure Datafactory) passes for continous `RETRAINING (CI/CD)`, to initate the ESMLProject constructor\r\n",
    "- `Scoring`: Parameters Azure Datafactory passes to the Azure ML Pipline for continous `SCORING`"
   ],
   "metadata": {}
  },
  {
   "cell_type": "code",
   "execution_count": 39,
   "source": [
    "param_esml_env = \"dev\" \r\n",
    "param_inference_model_version = \"2\" # DATALAKE(my_model/inference/active) | settings/project_specific/active/active_scoring_in_folder.json\r\n",
    "param_scoring_folder_date = \"2021-06-11 00:00:01.243860\" # DATALAKE(my_model/inference/active) | settings/project_specific/active/active_scoring_in_folder.json\r\n",
    "\r\n",
    "param_train_in_folder_date = \"2021-01-11 00:00:01.243860\" # DATALAKE(my_model/train/active) | settings/project_specific/active/active_in_folder.json"
   ],
   "outputs": [],
   "metadata": {}
  },
  {
   "cell_type": "code",
   "execution_count": 40,
   "source": [
    "p = ESMLProject(param_esml_env,param_inference_model_version,param_scoring_folder_date,param_train_in_folder_date)\r\n",
    "p.inference_mode = True\r\n",
    "p.active_model = 12\r\n",
    "\r\n",
    "#p.ws = p.get_workspace_from_config() #2) Ensure workspace is set\r\n",
    "p.describe()"
   ],
   "outputs": [
    {
     "output_type": "stream",
     "name": "stdout",
     "text": [
      "Using lake_settings.json with ESML version 1.4 - Models array support including LABEL\n",
      "json_date_in_folder {'dev_in_folder_date': '2021-01-11 00:00:01.243860', 'test_in_folder_date': '2020-01-01 15:35:01.243860', 'prod_in_folder_date': '2020-01-01 15:35:01.243860'}\n",
      "json_date_scoring_folder {'dev_scoring_folder_date': '2021-06-11 00:00:01.243860', 'test_scoring_folder_date': '2020-01-01 15:35:01.243860', 'prod_scoring_folder_date': '2020-01-01 15:35:01.243860', 'dev_inference_model_version': '2', 'test_inference_model_version': '0', 'prod_inference_model_version': '0'}\n",
      "Inference version: 2\n",
      "\n",
      " - ds01_vw\n",
      "projects/project002/12_car_price_regression/inference/2/ds01_vw/in/dev/2021/06/11/\n",
      "projects/project002/12_car_price_regression/inference/2/ds01_vw/out/bronze/dev/\n",
      "projects/project002/12_car_price_regression/inference/2/ds01_vw/out/silver/dev/\n",
      "\n",
      " - ds02_audi\n",
      "projects/project002/12_car_price_regression/inference/2/ds02_audi/in/dev/2021/06/11/\n",
      "projects/project002/12_car_price_regression/inference/2/ds02_audi/out/bronze/dev/\n",
      "projects/project002/12_car_price_regression/inference/2/ds02_audi/out/silver/dev/\n",
      "\n",
      " - ds03_bmw\n",
      "projects/project002/12_car_price_regression/inference/2/ds03_bmw/in/dev/2021/06/11/\n",
      "projects/project002/12_car_price_regression/inference/2/ds03_bmw/out/bronze/dev/\n",
      "projects/project002/12_car_price_regression/inference/2/ds03_bmw/out/silver/dev/\n",
      " \n",
      "\n",
      "Training GOLD (p.GoldPath)\n",
      "projects/project002/12_car_price_regression/inference/2/gold/dev/\n",
      " \n",
      "\n",
      "[A) USAGE]: to_score_folder, scored_folder, date_folder = p.get_gold_scored_unique_path()\n",
      "A)INFERENCE ONLINE: GOLD to score (example if realtime - today)\n",
      "projects/project002/12_car_price_regression/inference/2/gold/dev/2021_10_05/06d4ab15c61849a6925e89e66c7e48fa/\n",
      " \n",
      "\n",
      "A)INFERENCE ONLINE: GOLD scored (example if realtime today)\n",
      "projects/project002/12_car_price_regression/inference/2/scored/dev/2021_10_05/06d4ab15c61849a6925e89e66c7e48fa/\n",
      " \n",
      "\n",
      "[B) USAGE]: to_score_folder_batch, scored_folder, date_folder = p.get_gold_scored_unique_path(p.date_scoring_folder)\n",
      "B)INFERENCE BATCH: GOLD to score (example batch, datetime from config)\n",
      "projects/project002/12_car_price_regression/inference/2/gold/dev/2021_06_11/d454aa0b3c6d462285a022f6f6af0300/\n",
      " \n",
      "\n",
      "B)INFERENCE BATCH: GOLD scored (example batch, datetime from config)\n",
      "projects/project002/12_car_price_regression/inference/2/scored/dev/2021_06_11/d454aa0b3c6d462285a022f6f6af0300/\n",
      " \n",
      "\n",
      "C) INFERENCE BATCH (SCENARIO 2): TODAY I scored data from X days AGO  (second datefolder from config - X days ago)\n",
      "projects/project002/12_car_price_regression/inference/2/gold/dev/2021_06_11/d454aa0b3c6d462285a022f6f6af0300/2021_06_11/\n",
      "projects/project002/12_car_price_regression/inference/2/scored/dev/2021_06_11/d454aa0b3c6d462285a022f6f6af0300/2021_06_11/\n",
      " \n",
      "\n",
      "ENVIRONMENT - DEV, TEST, or PROD?  [USAGE: p.dev_test_prod]\n",
      "ACTIVE ENVIRONMENT = dev\n",
      "ACTIVE subscription = ca0a8c40-b06a-4e4e-8434-63c03a1dee34\n",
      "- MSFT-WEU-EAP_PROJECT02_AI-DEV-RG\n",
      "- msft-weu-DEV-eap-proj02_ai-amls\n",
      "- westeurope\n",
      "- MSFT-WEU-EAP_CMN_AI-DEV-RG\n",
      "Active vNet: msft-weu-dev-cmnai-vnet\n",
      "Active SubNet: \n",
      "[USAGE] for the above: p.vNetForActiveEnvironment()\n",
      "Active Lake (storage account)  msftweudevcmnai2\n",
      "[USAGE] for the above: p.getLakeForActiveEnvironment()\n",
      "AML for docker: True\n"
     ]
    }
   ],
   "metadata": {}
  },
  {
   "cell_type": "markdown",
   "source": [
    "## Lets see if DATLAKE contains `active` folders with files, that overrides our local settings"
   ],
   "metadata": {}
  },
  {
   "cell_type": "code",
   "execution_count": 41,
   "source": [
    "p.ws = p.get_workspace_from_config()\r\n",
    "data_store = p.connect_to_lake()"
   ],
   "outputs": [
    {
     "output_type": "stream",
     "name": "stdout",
     "text": [
      "Using GEN2 as Datastore\n",
      "Searching for setting in ESML datalake...\n",
      "ESML in-folder settings override = FALSE. [active_in_folder.json,active_scoring_in_folder.json] not found. \n",
      " - Using [active_in_folder.json,active_scoring_in_folder.json] from ArgParse or GIT. No override from datalake settings\n"
     ]
    }
   ],
   "metadata": {}
  },
  {
   "cell_type": "code",
   "execution_count": 42,
   "source": [
    "print(\"Even AFTER we connected to the DATALAKE, the Constructor parameters persists, as can be seen\")\r\n",
    "print(\"Model version:\", p.inferenceModelVersion)\r\n",
    "print(\"IN DATA - date_folder:\", p.InDateFolder)"
   ],
   "outputs": [
    {
     "output_type": "stream",
     "name": "stdout",
     "text": [
      "Even AFTER we connected to the DATALAKE, the Constructor parameters persists, as can be seen\n",
      "Model version: 2\n",
      "IN DATA - date_folder: 2021/01/11\n"
     ]
    }
   ],
   "metadata": {}
  },
  {
   "cell_type": "markdown",
   "source": [
    "# 2) Choose ACTIVE MODEL & dataset filters: `LAKE_SETTINGS`\r\n",
    "- [`label, dataset_array`,`model_name`,`model_alias`] is sort of more `static` than the data that feeds into the `dataset` folders\r\n",
    "- How you initate the ESMLProject and choose ACTIVE DATA is one thing. Another thing is to selecte ACTIVE MODEL, and `dataset filters`"
   ],
   "metadata": {}
  },
  {
   "cell_type": "markdown",
   "source": [
    "## 2A) `STATIC` settings GIT: Model settings from (lake_settings.json) default\r\n",
    "- `MLOps purpose`: Azure Devops to use a GIT-branch for your model per environment, such as `M01_dev`, `M01_test`, `M01_prod`,"
   ],
   "metadata": {}
  },
  {
   "cell_type": "code",
   "execution_count": 45,
   "source": [
    "p = ESMLProject() # Great when \"working with 1 model at the time\" (R&D or PRODUCTION for pipeline-creation)\r\n",
    "p.inference_mode = True\r\n",
    "#p.active_model = 12 # Reads from: settings/project_specific/model/lake_settings.json\r\n",
    "p.describe()"
   ],
   "outputs": [
    {
     "output_type": "stream",
     "name": "stdout",
     "text": [
      "Using lake_settings.json with ESML version 1.4 - Models array support including LABEL\n",
      "Inference version: 2\n",
      "\n",
      " - ds01_diabetes\n",
      "projects/project002/11_diabetes_model_reg/inference/2/ds01_diabetes/in/dev/2021/06/11/\n",
      "projects/project002/11_diabetes_model_reg/inference/2/ds01_diabetes/out/bronze/dev/\n",
      "projects/project002/11_diabetes_model_reg/inference/2/ds01_diabetes/out/silver/dev/\n",
      "\n",
      " - ds02_other\n",
      "projects/project002/11_diabetes_model_reg/inference/2/ds02_other/in/dev/2021/06/11/\n",
      "projects/project002/11_diabetes_model_reg/inference/2/ds02_other/out/bronze/dev/\n",
      "projects/project002/11_diabetes_model_reg/inference/2/ds02_other/out/silver/dev/\n",
      " \n",
      "\n",
      "Training GOLD (p.GoldPath)\n",
      "projects/project002/11_diabetes_model_reg/inference/2/gold/dev/\n",
      " \n",
      "\n",
      "[A) USAGE]: to_score_folder, scored_folder, date_folder = p.get_gold_scored_unique_path()\n",
      "A)INFERENCE ONLINE: GOLD to score (example if realtime - today)\n",
      "projects/project002/11_diabetes_model_reg/inference/2/gold/dev/2021_10_06/e4b5047392554cbf8c9fb7782f854e1d/\n",
      " \n",
      "\n",
      "A)INFERENCE ONLINE: GOLD scored (example if realtime today)\n",
      "projects/project002/11_diabetes_model_reg/inference/2/scored/dev/2021_10_06/e4b5047392554cbf8c9fb7782f854e1d/\n",
      " \n",
      "\n",
      "[B) USAGE]: to_score_folder_batch, scored_folder, date_folder = p.get_gold_scored_unique_path(p.date_scoring_folder)\n",
      "B)INFERENCE BATCH: GOLD to score (example batch, datetime from config)\n",
      "projects/project002/11_diabetes_model_reg/inference/2/gold/dev/2021_06_11/6e3365ff17cb4da08305ffbafa7f0592/\n",
      " \n",
      "\n",
      "B)INFERENCE BATCH: GOLD scored (example batch, datetime from config)\n",
      "projects/project002/11_diabetes_model_reg/inference/2/scored/dev/2021_06_11/6e3365ff17cb4da08305ffbafa7f0592/\n",
      " \n",
      "\n",
      "C) INFERENCE BATCH (SCENARIO 2): TODAY I scored data from X days AGO  (second datefolder from config - X days ago)\n",
      "projects/project002/11_diabetes_model_reg/inference/2/gold/dev/2021_06_11/6e3365ff17cb4da08305ffbafa7f0592/2021_06_11/\n",
      "projects/project002/11_diabetes_model_reg/inference/2/scored/dev/2021_06_11/6e3365ff17cb4da08305ffbafa7f0592/2021_06_11/\n",
      " \n",
      "\n",
      "ENVIRONMENT - DEV, TEST, or PROD?  [USAGE: p.dev_test_prod]\n",
      "ACTIVE ENVIRONMENT = dev\n",
      "ACTIVE subscription = ca0a8c40-b06a-4e4e-8434-63c03a1dee34\n",
      "- MSFT-WEU-EAP_PROJECT02_AI-DEV-RG\n",
      "- msft-weu-DEV-eap-proj02_ai-amls\n",
      "- westeurope\n",
      "- MSFT-WEU-EAP_CMN_AI-DEV-RG\n",
      "Active vNet: msft-weu-dev-cmnai-vnet\n",
      "Active SubNet: \n",
      "[USAGE] for the above: p.vNetForActiveEnvironment()\n",
      "Active Lake (storage account)  msftweudevcmnai2\n",
      "[USAGE] for the above: p.getLakeForActiveEnvironment()\n",
      "AML for docker: True\n"
     ]
    }
   ],
   "metadata": {}
  },
  {
   "cell_type": "markdown",
   "source": [
    "## 2A) `DYNAMIC` settings GIT: Model settings from `p.active_model = 2`\r\n",
    "- `R&D Purpose`: To have each notebook `override` the model configs [`label, dataset_array`,`model_name`,`model_alias`]\r\n",
    "- `Production Purpose`: To have a notebook that creates a BATCH SCORING Pipeline for production, to `override` each model\r\n",
    "    - Example: If you have a multi-output regression use case, you can have a `loop` to just switch the "
   ],
   "metadata": {}
  },
  {
   "cell_type": "code",
   "execution_count": 47,
   "source": [
    "p = ESMLProject() # Great when \"working with 1 model at the time\" (R&D or PRODUCTION for pipeline-creation)\r\n",
    "p.inference_mode = True\r\n",
    "p.active_model = 10 # Overrides: settings/project_specific/model/lake_settings.json\r\n",
    "p.describe()"
   ],
   "outputs": [
    {
     "output_type": "stream",
     "name": "stdout",
     "text": [
      "Using lake_settings.json with ESML version 1.4 - Models array support including LABEL\n",
      "Inference version: 2\n",
      "\n",
      " - ds01_titanic\n",
      "projects/project002/10_titanic_model_clas/inference/2/ds01_titanic/in/dev/2021/06/11/\n",
      "projects/project002/10_titanic_model_clas/inference/2/ds01_titanic/out/bronze/dev/\n",
      "projects/project002/10_titanic_model_clas/inference/2/ds01_titanic/out/silver/dev/\n",
      "\n",
      " - ds02_haircolor\n",
      "projects/project002/10_titanic_model_clas/inference/2/ds02_haircolor/in/dev/2021/06/11/\n",
      "projects/project002/10_titanic_model_clas/inference/2/ds02_haircolor/out/bronze/dev/\n",
      "projects/project002/10_titanic_model_clas/inference/2/ds02_haircolor/out/silver/dev/\n",
      "\n",
      " - ds03_housing\n",
      "projects/project002/10_titanic_model_clas/inference/2/ds03_housing/in/dev/2021/06/11/\n",
      "projects/project002/10_titanic_model_clas/inference/2/ds03_housing/out/bronze/dev/\n",
      "projects/project002/10_titanic_model_clas/inference/2/ds03_housing/out/silver/dev/\n",
      "\n",
      " - ds04_lightsaber\n",
      "projects/project002/10_titanic_model_clas/inference/2/ds04_lightsaber/in/dev/2021/06/11/\n",
      "projects/project002/10_titanic_model_clas/inference/2/ds04_lightsaber/out/bronze/dev/\n",
      "projects/project002/10_titanic_model_clas/inference/2/ds04_lightsaber/out/silver/dev/\n",
      " \n",
      "\n",
      "Training GOLD (p.GoldPath)\n",
      "projects/project002/10_titanic_model_clas/inference/2/gold/dev/\n",
      " \n",
      "\n",
      "[A) USAGE]: to_score_folder, scored_folder, date_folder = p.get_gold_scored_unique_path()\n",
      "A)INFERENCE ONLINE: GOLD to score (example if realtime - today)\n",
      "projects/project002/10_titanic_model_clas/inference/2/gold/dev/2021_10_06/95e7af0e2e1c4beaa104f36847f8344b/\n",
      " \n",
      "\n",
      "A)INFERENCE ONLINE: GOLD scored (example if realtime today)\n",
      "projects/project002/10_titanic_model_clas/inference/2/scored/dev/2021_10_06/95e7af0e2e1c4beaa104f36847f8344b/\n",
      " \n",
      "\n",
      "[B) USAGE]: to_score_folder_batch, scored_folder, date_folder = p.get_gold_scored_unique_path(p.date_scoring_folder)\n",
      "B)INFERENCE BATCH: GOLD to score (example batch, datetime from config)\n",
      "projects/project002/10_titanic_model_clas/inference/2/gold/dev/2021_06_11/9faac4f556314204bbe9d20f3bc49fc6/\n",
      " \n",
      "\n",
      "B)INFERENCE BATCH: GOLD scored (example batch, datetime from config)\n",
      "projects/project002/10_titanic_model_clas/inference/2/scored/dev/2021_06_11/9faac4f556314204bbe9d20f3bc49fc6/\n",
      " \n",
      "\n",
      "C) INFERENCE BATCH (SCENARIO 2): TODAY I scored data from X days AGO  (second datefolder from config - X days ago)\n",
      "projects/project002/10_titanic_model_clas/inference/2/gold/dev/2021_06_11/9faac4f556314204bbe9d20f3bc49fc6/2021_06_11/\n",
      "projects/project002/10_titanic_model_clas/inference/2/scored/dev/2021_06_11/9faac4f556314204bbe9d20f3bc49fc6/2021_06_11/\n",
      " \n",
      "\n",
      "ENVIRONMENT - DEV, TEST, or PROD?  [USAGE: p.dev_test_prod]\n",
      "ACTIVE ENVIRONMENT = dev\n",
      "ACTIVE subscription = ca0a8c40-b06a-4e4e-8434-63c03a1dee34\n",
      "- MSFT-WEU-EAP_PROJECT02_AI-DEV-RG\n",
      "- msft-weu-DEV-eap-proj02_ai-amls\n",
      "- westeurope\n",
      "- MSFT-WEU-EAP_CMN_AI-DEV-RG\n",
      "Active vNet: msft-weu-dev-cmnai-vnet\n",
      "Active SubNet: \n",
      "[USAGE] for the above: p.vNetForActiveEnvironment()\n",
      "Active Lake (storage account)  msftweudevcmnai2\n",
      "[USAGE] for the above: p.getLakeForActiveEnvironment()\n",
      "AML for docker: True\n"
     ]
    }
   ],
   "metadata": {}
  }
 ],
 "metadata": {
  "orig_nbformat": 4,
  "language_info": {
   "name": "python",
   "version": "3.6.13",
   "mimetype": "text/x-python",
   "codemirror_mode": {
    "name": "ipython",
    "version": 3
   },
   "pygments_lexer": "ipython3",
   "nbconvert_exporter": "python",
   "file_extension": ".py"
  },
  "kernelspec": {
   "name": "python3",
   "display_name": "Python 3.6.13 64-bit ('azure_automl_esml': conda)"
  },
  "interpreter": {
   "hash": "bff138c6506cd8bb18be416ddb0a9a1b79f251dbd17a0136ba14c04424a65323"
  }
 },
 "nbformat": 4,
 "nbformat_minor": 2
}