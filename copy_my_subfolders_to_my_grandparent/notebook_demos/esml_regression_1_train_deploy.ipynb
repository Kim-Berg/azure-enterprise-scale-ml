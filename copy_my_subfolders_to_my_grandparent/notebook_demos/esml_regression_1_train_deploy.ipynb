{
 "cells": [
  {
   "cell_type": "code",
   "execution_count": 1,
   "source": [
    "import azureml.core\r\n",
    "print(\"SDK Version:\", azureml.core.VERSION)"
   ],
   "outputs": [
    {
     "output_type": "stream",
     "name": "stdout",
     "text": [
      "SDK Version: 1.26.0\n"
     ]
    }
   ],
   "metadata": {}
  },
  {
   "cell_type": "markdown",
   "source": [
    "# ESML - accelerator: Quick 3 step DEMO\n",
    "- 1) `AutoMap datalake` & init ESML project\n",
    "- 2) `Train model & compare` scoring to existing active model in DEV, TEST, or PROD\n",
    "- 3) `Deploy model & Test` AKS webservice\n",
    "\n",
    "\n"
   ],
   "metadata": {}
  },
  {
   "cell_type": "markdown",
   "source": [
    "Uses `ESML accelerators` & factories, to `code faster` to abstract away `Azure ML Studio` (datasets/versioning/experiments) automated createion, and adds `NEW` concepts.\n",
    "- EMSL enables `enterprise CONCEPTS` (Project/Model/Dev_Test_Prod)` - able to scale across Azure subscriptions in DEV, TEST, PROD for a model.\n",
    "- ESML includes `accelerators for data refinement, with CONCEPTS`: Bronze, Silver, Gold, able to `share refined data ACROSS projects` & models\n",
    "- ESML includes `accelerators for ML CONCEPTS` such as `Split to TRAIN,VALIDATE, TEST` (X_test, y_test to auto-generate charting)\n",
    "![](./images/split_gold_and_train_automl_small.png)"
   ],
   "metadata": {}
  },
  {
   "cell_type": "markdown",
   "source": [
    "# 1) `ESML - Autolake-mapping` generates Azure ML Datasets + Feature engineering: `Bronze->Silver->Gold`"
   ],
   "metadata": {}
  },
  {
   "cell_type": "markdown",
   "source": [
    "######  NB! This,InteractiveLoginAuthentication, is only needed to run 1st time, then when ws_config is written, use later CELL in notebook, that just reads that file\n",
    "import repackage\n",
    "repackage.add(\"../azure-enterprise-scale-ml/esml/common/\")\n",
    "from azureml.core import Workspace\n",
    "from azureml.core.authentication import InteractiveLoginAuthentication\n",
    "#sys.path.append(os.path.abspath(\"../azure-enterprise-scale-ml/esml/common/\"))  # NOQA: E402\n",
    "from esml import ESMLDataset, ESMLProject\n",
    "\n",
    "p = ESMLProject()\n",
    "#p.dev_test_prod=\"dev\"\n",
    "auth = InteractiveLoginAuthentication(tenant_id = p.tenant)\n",
    "ws, config_name = p.authenticate_workspace_and_write_config(auth)\n",
    "######  NB!"
   ],
   "metadata": {}
  },
  {
   "cell_type": "code",
   "execution_count": 2,
   "source": [
    "unregister_all_datasets=False"
   ],
   "outputs": [],
   "metadata": {}
  },
  {
   "cell_type": "code",
   "execution_count": 3,
   "source": [
    "import repackage\r\n",
    "repackage.add(\"../azure-enterprise-scale-ml/esml/common/\")\r\n",
    "from esml import ESMLDataset, ESMLProject\r\n",
    "\r\n",
    "p = ESMLProject() # Will search in ROOT for your copied SETTINGS folder '../../../settings', you should copy template settings from '../settings'\r\n",
    "p.ws = p.get_workspace_from_config() #2) Load DEV or TEST or PROD Azure ML Studio workspace\r\n",
    "\r\n",
    "if(unregister_all_datasets):\r\n",
    "    p.unregister_all_datasets(p.ws) # For DEMO purpose\r\n",
    "    "
   ],
   "outputs": [],
   "metadata": {}
  },
  {
   "cell_type": "code",
   "execution_count": 4,
   "source": [
    "p.inference_mode = False # We want \"TRAIN\" mode\r\n",
    "p.describe()"
   ],
   "outputs": [
    {
     "output_type": "stream",
     "name": "stdout",
     "text": [
      "Inference version: 1\n",
      "\n",
      " - ds01_diabetes\n",
      "projects/project002/11_diabetes_model_reg/train/ds01_diabetes/in/dev/2021/01/01/\n",
      "projects/project002/11_diabetes_model_reg/train/ds01_diabetes/out/bronze/dev/\n",
      "projects/project002/11_diabetes_model_reg/train/ds01_diabetes/out/silver/dev/\n",
      "\n",
      " - ds02_other\n",
      "projects/project002/11_diabetes_model_reg/train/ds02_other/in/dev/2021/01/01/\n",
      "projects/project002/11_diabetes_model_reg/train/ds02_other/out/bronze/dev/\n",
      "projects/project002/11_diabetes_model_reg/train/ds02_other/out/silver/dev/\n",
      " \n",
      "\n",
      "Training GOLD (p.GoldPath)\n",
      "projects/project002/11_diabetes_model_reg/train/gold/dev/\n",
      " \n",
      "\n",
      "[A) USAGE]: to_score_folder, scored_folder, date_folder = p.get_gold_scored_unique_path()\n",
      "A)INFERENCE ONLINE: GOLD to score (example if realtime - today)\n",
      "projects/project002/11_diabetes_model_reg/inference/1/gold/dev/2021_09_01/f7481ec4e76741cf94ee666c6d38a3a3/\n",
      " \n",
      "\n",
      "A)INFERENCE ONLINE: GOLD scored (example if realtime today)\n",
      "projects/project002/11_diabetes_model_reg/inference/1/scored/dev/2021_09_01/f7481ec4e76741cf94ee666c6d38a3a3/\n",
      " \n",
      "\n",
      "[B) USAGE]: to_score_folder_batch, scored_folder, date_folder = p.get_gold_scored_unique_path(p.date_scoring_folder)\n",
      "B)INFERENCE BATCH: GOLD to score (example batch, datetime from config)\n",
      "projects/project002/11_diabetes_model_reg/inference/1/gold/dev/2021_06_08/f605063b8ab94c9896de5b24ee032b77/\n",
      " \n",
      "\n",
      "B)INFERENCE BATCH: GOLD scored (example batch, datetime from config)\n",
      "projects/project002/11_diabetes_model_reg/inference/1/scored/dev/2021_06_08/f605063b8ab94c9896de5b24ee032b77/\n",
      " \n",
      "\n",
      "C) INFERENCE BATCH (SCENARIO 2): TODAY I scored data from X days AGO  (second datefolder from config - X days ago)\n",
      "projects/project002/11_diabetes_model_reg/inference/1/gold/dev/2021_06_08/f605063b8ab94c9896de5b24ee032b77/2021_06_08/\n",
      "projects/project002/11_diabetes_model_reg/inference/1/scored/dev/2021_06_08/f605063b8ab94c9896de5b24ee032b77/2021_06_08/\n",
      " \n",
      "\n",
      "ENVIRONMENT - DEV, TEST, or PROD?  [USAGE: p.dev_test_prod]\n",
      "ACTIVE ENVIRONMENT = dev\n",
      "ACTIVE subscription = ca0a8c40-b06a-4e4e-8434-63c03a1dee34\n",
      "- MSFT-WEU-EAP_PROJECT02_AI-DEV-RG\n",
      "- msft-weu-DEV-eap-proj02_ai-amls\n",
      "- westeurope\n",
      "- MSFT-WEU-EAP_CMN_AI-DEV-RG\n",
      "Active vNet: msft-weu-dev-cmnai-vnet\n",
      "Active SubNet: \n",
      "[USAGE] for the above: p.vNetForActiveEnvironment()\n",
      "Active Lake (storage account)  msftweudevcmnai2\n",
      "[USAGE] for the above: p.getLakeForActiveEnvironment()\n",
      "AML for docker: True\n"
     ]
    }
   ],
   "metadata": {}
  },
  {
   "cell_type": "code",
   "execution_count": 5,
   "source": [
    "datastore = p.init(p.ws) # 3) Automapping from datalake to Azure ML datasets"
   ],
   "outputs": [
    {
     "output_type": "stream",
     "name": "stdout",
     "text": [
      "...\n",
      "Using GEN2 as Datastore\n",
      "Searching for setting in ESML datalake...\n",
      "ESML in-folder settings override = TRUE \n",
      " - Found settings in the ESML AutoLake  [active_in_folder.json,active_scoring_in_folder.json], to override ArgParse/GIT config with.\n",
      " - TRAIN in date:  2021/01/01\n",
      " - INFERENCE in date: 2021/06/08 and ModelVersion to score with: 1 (0=latest)\n",
      "\n",
      "Inference mode (False = Training mode): False\n",
      "Load data as Datasets....\n",
      "ds01_diabetes\n",
      "ds02_other\n",
      "\n",
      "####### Automap & Autoregister - SUCCESS!\n",
      "1) Auto mapped 2 ESML Dataset with registered Azure ML Datasets (potentially all 3: IN,BRONZE, SILVER) in Datastore project002 \n",
      "\n",
      "Dataset 'ds01_diabetes' status:\n",
      " - IN_Folder_has_files\n",
      " - BRONZE_Folder_has_files\n",
      " - SILVER_Folder_has_files\n",
      "Dataset 'ds02_other' status:\n",
      " - IN_Folder_has_files\n",
      " - BRONZE_Folder_has_files\n",
      " - SILVER_Folder_has_files\n",
      "\n",
      "2) Registered each Dataset with suffixes (_IN, _BRONZE, _SILVER) \n",
      " Tip: Use ESMLProject.Datasets list or .DatasetByName(myDatasetName) to read/write\n",
      "#######\n"
     ]
    }
   ],
   "metadata": {
    "tags": []
   }
  },
  {
   "cell_type": "code",
   "execution_count": 5,
   "source": [
    "# Feture engineering: Bronze 2 Gold - working with Azure ML Datasets with Bronze, Silver, Gold concept\r\n",
    "esml_dataset = p.DatasetByName(\"ds01_diabetes\") # Get dataset\r\n",
    "df_bronze = esml_dataset.Bronze.to_pandas_dataframe()\r\n",
    "p.save_silver(esml_dataset,df_bronze) #Bronze -> Silver\r\n",
    "\r\n",
    "df = esml_dataset.Silver.to_pandas_dataframe() \r\n",
    "df_filtered = df[df.AGE > 0.015] \r\n",
    "gold_train = p.save_gold(df_filtered)  #Silver -> Gold"
   ],
   "outputs": [],
   "metadata": {}
  },
  {
   "cell_type": "markdown",
   "source": [
    "## SUMMARY - step 1\n",
    "- ESML has now `Automap` and `Autoregister` Azure ML Datasets as: `IN, SILVER, BRONZE, GOLD`\n",
    "- ESML has read configuration for correct environment (DEV, TEST, PROD). \n",
    "    - Both small customers, and large Enterprise customers often wants:  DEV, TEST, PROD in `diffferent Azure ML workspaces` (and different subscriptions)\n",
    "- User has done feature engineering, and saved GOLD `p.save_gold`"
   ],
   "metadata": {}
  },
  {
   "cell_type": "markdown",
   "source": [
    "# 2) `ESML` Train model in `5 codelines`"
   ],
   "metadata": {}
  },
  {
   "cell_type": "code",
   "execution_count": 6,
   "source": [
    "from esml import ESMLDataset, ESMLProject\r\n",
    "from baselayer_azure_ml import AutoMLFactory,azure_metric_regression,azure_metric_classification\r\n",
    "from azureml.train.automl import AutoMLConfig\r\n",
    "\r\n",
    "automl_performance_config = p.get_automl_performance_config() # 1)Get config, for active environment (dev,test or prod)\r\n",
    "aml_compute = p.get_training_aml_compute(p.ws) # 2)Get compute, for active environment\r\n",
    "\r\n",
    "label = \"Y\"\r\n",
    "train_6, validate_set_2, test_set_2 = p.split_gold_3(0.6,label) # 3) Auto-registerin AZURE (M03_GOLD_TRAIN | M03_GOLD_VALIDATE | M03_GOLD_TEST)          # Alt: p.Gold.random_split(percentage=0.8, seed=23)\r\n",
    "\r\n",
    "automl_config = AutoMLConfig(task = 'regression', # 4) Override the ENV config, for model(that inhertits from enterprise DEV_TEST_PROD config baseline)\r\n",
    "                            primary_metric = azure_metric_regression.MAE, # # Note: Regression(MAPE) are not possible in AutoML\r\n",
    "                            compute_target = aml_compute,\r\n",
    "                            training_data = p.GoldTrain, # is 'train_6' pandas dataframe, but as an Azure ML Dataset\r\n",
    "                            experiment_exit_score = '0.308', # DEMO purpose\r\n",
    "                            label_column_name = label,\r\n",
    "                            **automl_performance_config\r\n",
    "                        )\r\n",
    "via_pipeline = False\r\n",
    "# Consistent/same return values from both AutoML ALTERNATIVES (run or pipeline)\r\n",
    "best_run, fitted_model, experiment = AutoMLFactory(p).train_pipeline(automl_config) if via_pipeline else AutoMLFactory(p).train_as_run(automl_config)"
   ],
   "outputs": [
    {
     "output_type": "stream",
     "name": "stdout",
     "text": [
      "Loading AutoML config settings from: dev\n",
      "Note: OVERRIDING enterprise performance settings with project specifics. (to change, set flag in 'dev_test_prod_settings.json' -> override_enterprise_settings_with_model_specific=False)\n",
      "Using a model specific cluster, per configuration in project specific settings, (the integer of 'model_number' is the base for the name)\n",
      "Note: OVERRIDING enterprise performance settings with project specifics. (to change, set flag in 'dev_test_prod_settings.json' -> override_enterprise_settings_with_model_specific=False)\n",
      "Found existing cluster prj02-m11-dev for project and environment, using it.\n",
      "Succeeded\n",
      "AmlCompute wait for completion finished\n",
      "\n",
      "Minimum number of nodes requested have been provisioned\n",
      "image_build_compute = prj02-m11-dev\n",
      "Experiment name: 11_diabetes_model_reg\n",
      "Azure ML Studio Workspace: msft-weu-DEV-eap-proj02_ai-amls\n",
      "Start training run...\n",
      "Submitting remote run.\n",
      "No run_configuration provided, running on prj02-m11-dev with default configuration\n",
      "Running on remote compute: prj02-m11-dev\n"
     ]
    },
    {
     "output_type": "display_data",
     "data": {
      "text/plain": [
       "<IPython.core.display.HTML object>"
      ],
      "text/html": [
       "<table style=\"width:100%\"><tr><th>Experiment</th><th>Id</th><th>Type</th><th>Status</th><th>Details Page</th><th>Docs Page</th></tr><tr><td>11_diabetes_model_reg</td><td>AutoML_ce3e2fee-d26c-45f3-bea5-8bbef7bb6546</td><td>automl</td><td>NotStarted</td><td><a href=\"https://ml.azure.com/runs/AutoML_ce3e2fee-d26c-45f3-bea5-8bbef7bb6546?wsid=/subscriptions/ca0a8c40-b06a-4e4e-8434-63c03a1dee34/resourcegroups/MSFT-WEU-EAP_PROJECT02_AI-DEV-RG/workspaces/msft-weu-DEV-eap-proj02_ai-amls&amp;tid=72f988bf-86f1-41af-91ab-2d7cd011db47\" target=\"_blank\" rel=\"noopener\">Link to Azure Machine Learning studio</a></td><td><a href=\"https://docs.microsoft.com/en-us/python/api/overview/azure/ml/intro?view=azure-ml-py\" target=\"_blank\" rel=\"noopener\">Link to Documentation</a></td></tr></table>"
      ]
     },
     "metadata": {}
    },
    {
     "output_type": "stream",
     "name": "stdout",
     "text": [
      "\n",
      "Current status: FeaturesGeneration. Generating features for the dataset.\n",
      "Current status: ModelSelection. Beginning model selection.\n",
      "\n",
      "****************************************************************************************************\n",
      "DATA GUARDRAILS: \n",
      "\n",
      "TYPE:         Missing feature values imputation\n",
      "STATUS:       PASSED\n",
      "DESCRIPTION:  No feature missing values were detected in the training data.\n",
      "              Learn more about missing value imputation: https://aka.ms/AutomatedMLFeaturization\n",
      "\n",
      "****************************************************************************************************\n",
      "\n",
      "TYPE:         High cardinality feature detection\n",
      "STATUS:       PASSED\n",
      "DESCRIPTION:  Your inputs were analyzed, and no high cardinality features were detected.\n",
      "              Learn more about high cardinality feature handling: https://aka.ms/AutomatedMLFeaturization\n",
      "\n",
      "****************************************************************************************************\n",
      "\n",
      "****************************************************************************************************\n",
      "ITERATION: The iteration being evaluated.\n",
      "PIPELINE: A summary description of the pipeline being evaluated.\n",
      "DURATION: Time taken for the current iteration.\n",
      "METRIC: The result of computing score on the fitted pipeline.\n",
      "BEST: The best observed score thus far.\n",
      "****************************************************************************************************\n",
      "\n",
      " ITERATION   PIPELINE                                       DURATION      METRIC      BEST\n",
      "         0   MaxAbsScaler LightGBM                          0:01:20       0.1642    0.1642\n"
     ]
    },
    {
     "output_type": "stream",
     "name": "stderr",
     "text": [
      "WARNING:root:The version of the SDK does not match the version the model was trained on.\n",
      "WARNING:root:The consistency in the result may not be guaranteed.\n",
      "WARNING:root:Package:azureml-automl-core, training version:1.33.0, current version:1.26.0\n",
      "Package:azureml-automl-runtime, training version:1.33.0, current version:1.26.0\n",
      "Package:azureml-core, training version:1.33.0, current version:1.26.0\n",
      "Package:azureml-dataprep, training version:2.20.1, current version:2.13.2\n",
      "Package:azureml-dataprep-native, training version:38.0.0, current version:32.0.0\n",
      "Package:azureml-dataprep-rslex, training version:1.18.0, current version:1.11.2\n",
      "Package:azureml-dataset-runtime, training version:1.33.0, current version:1.26.0\n",
      "Package:azureml-defaults, training version:1.33.0, current version:1.26.0\n",
      "Package:azureml-interpret, training version:1.33.0, current version:1.26.0\n",
      "Package:azureml-pipeline-core, training version:1.33.0, current version:1.26.0\n",
      "Package:azureml-telemetry, training version:1.33.0, current version:1.26.0\n",
      "Package:azureml-train-automl-client, training version:1.33.0, current version:1.26.0\n",
      "Package:azureml-train-automl-runtime, training version:1.33.0, current version:1.26.0\n",
      "WARNING:root:Below packages were used for model training but missing in current environment:\n",
      "WARNING:root:Package:azureml-mlflow, training version:1.33.0\n",
      "Package:azureml-responsibleai, training version:1.33.0\n",
      "WARNING:root:Please ensure the version of your local conda dependencies match the version on which your model was trained in order to properly retrieve your model.\n"
     ]
    },
    {
     "output_type": "stream",
     "name": "stdout",
     "text": [
      "Run(Experiment: 11_diabetes_model_reg,\n",
      "Id: AutoML_ce3e2fee-d26c-45f3-bea5-8bbef7bb6546_0,\n",
      "Type: azureml.scriptrun,\n",
      "Status: Completed)\n",
      "RegressionPipeline(pipeline=Pipeline(memory=None,\n",
      "                                     steps=[('datatransformer',\n",
      "                                             DataTransformer(enable_dnn=None,\n",
      "                                                             enable_feature_sweeping=None,\n",
      "                                                             feature_sweeping_config=None,\n",
      "                                                             feature_sweeping_timeout=None,\n",
      "                                                             featurization_config=None,\n",
      "                                                             force_text_dnn=None,\n",
      "                                                             is_cross_validation=None,\n",
      "                                                             is_onnx_compatible=None,\n",
      "                                                             logger=None,\n",
      "                                                             observer=None,\n",
      "                                                             task=None,\n",
      "                                                             working_dir=None)),\n",
      "                                            ('Max...\n",
      "                                                               colsample_bytree=1.0,\n",
      "                                                               importance_type='split',\n",
      "                                                               learning_rate=0.1,\n",
      "                                                               max_depth=-1,\n",
      "                                                               min_child_samples=20,\n",
      "                                                               min_child_weight=0.001,\n",
      "                                                               min_split_gain=0.0,\n",
      "                                                               n_estimators=100,\n",
      "                                                               n_jobs=-1,\n",
      "                                                               num_leaves=31,\n",
      "                                                               objective=None,\n",
      "                                                               random_state=None,\n",
      "                                                               reg_alpha=0.0,\n",
      "                                                               reg_lambda=0.0,\n",
      "                                                               silent=True,\n",
      "                                                               subsample=1.0,\n",
      "                                                               subsample_for_bin=200000,\n",
      "                                                               subsample_freq=0,\n",
      "                                                               verbose=-1))],\n",
      "                                     verbose=False),\n",
      "                   stddev=[57.61506603968517])\n",
      "AutoML Model name: AutoMLce3e2feed0\n"
     ]
    }
   ],
   "metadata": {}
  },
  {
   "cell_type": "markdown",
   "source": [
    "- ESML has now fetched `configuration & train compute` for enterprise `environment (DEV,TEST or PROD)`\n",
    "- ESML has `autogenerated` a AutoML-experiment, optinally as `pipline`, in correct environment.\n",
    "- User has overridden some AutoML settings (`label, split percentage`, `target metric`), and use the `1-liner TRAIN` code snippet "
   ],
   "metadata": {}
  },
  {
   "cell_type": "code",
   "execution_count": 7,
   "source": [
    "p.dev_test_prod"
   ],
   "outputs": [
    {
     "output_type": "execute_result",
     "data": {
      "text/plain": [
       "'dev'"
      ]
     },
     "metadata": {},
     "execution_count": 7
    }
   ],
   "metadata": {}
  },
  {
   "cell_type": "markdown",
   "source": [
    "## 2b) ESML Scoring Drift/Concept Drift: Compare with `1-codeline`: Promote model or not? If better, then `Register model`\n",
    "- `IF` newly trained model in `current` environment (`DEV`, `TEST` or `PROD`) scores BETTER than existing model in `target` environment, then `new model` can be registered and promoted.\n",
    "- Q: Do we have `SCORING DRIFT / CONCEPT DRIFT?`\n",
    "- Q: Is a model trained on NEW data better? IS the one in production degraded? (not fit for the data it scores - real world changed, other CONCEPT)\n",
    "- A: - Lets check. Instead of `DataDrift`, lets look at `actual SCORING` on new data (and/or new code, feature engineering) - See if we should PROMOTE newly trained model..."
   ],
   "metadata": {}
  },
  {
   "cell_type": "code",
   "execution_count": 6,
   "source": [
    "from baselayer_azure_ml import AutoMLFactory\r\n",
    "target_env = p.dev_test_prod #\"dev\", test, prod  = Target environment. Does Model A score better than Model B?\r\n",
    "print(\"SCORING DRIFT: If new model scores better in DEV (new data, or new code), we can promote this to TEST & PROD \\n\")\r\n",
    "\r\n",
    "promote, m1_name, r1_id, m2_name, r2_run_id = AutoMLFactory(p).compare_scoring_current_vs_new_model(target_env)\r\n",
    "\r\n",
    "print(\"New Model: {} in environment {}\".format(m1_name, p.dev_test_prod))\r\n",
    "print(\"Existing Model: {} in environment {}\".format(m2_name,target_env))\r\n",
    "\r\n",
    "if (promote and p.dev_test_prod == target_env): # Can register a model in same workspace (test->test) - need to retrain if going from dev->test (but copy from test->prod) AutoML7d5ab21270\r\n",
    "    AutoMLFactory(p).register_active_model(target_env)\r\n"
   ],
   "outputs": [
    {
     "output_type": "stream",
     "name": "stdout",
     "text": [
      "SCORING DRIFT: If new model scores better in DEV (new data, or new code), we can promote this to TEST & PROD \n",
      "\n",
      "Loading AutoML config settings from: dev\n",
      "targe=source environement. Compare model version in DEV/TEST/PROD with latest registered in same DEV/TEST/PROD workspace (same workspace & subscriptiom comparison)\n",
      "\n"
     ]
    },
    {
     "output_type": "stream",
     "name": "stderr",
     "text": [
      "WARNING:root:The version of the SDK does not match the version the model was trained on.\n",
      "WARNING:root:The consistency in the result may not be guaranteed.\n",
      "WARNING:root:Package:azureml-automl-core, training version:1.33.0, current version:1.26.0\n",
      "Package:azureml-automl-runtime, training version:1.33.0, current version:1.26.0\n",
      "Package:azureml-core, training version:1.33.0, current version:1.26.0\n",
      "Package:azureml-dataprep, training version:2.20.1, current version:2.13.2\n",
      "Package:azureml-dataprep-native, training version:38.0.0, current version:32.0.0\n",
      "Package:azureml-dataprep-rslex, training version:1.18.0, current version:1.11.2\n",
      "Package:azureml-dataset-runtime, training version:1.33.0, current version:1.26.0\n",
      "Package:azureml-defaults, training version:1.33.0, current version:1.26.0\n",
      "Package:azureml-interpret, training version:1.33.0, current version:1.26.0\n",
      "Package:azureml-pipeline-core, training version:1.33.0, current version:1.26.0\n",
      "Package:azureml-telemetry, training version:1.33.0, current version:1.26.0\n",
      "Package:azureml-train-automl-client, training version:1.33.0, current version:1.26.0\n",
      "Package:azureml-train-automl-runtime, training version:1.33.0, current version:1.26.0\n",
      "WARNING:root:Below packages were used for model training but missing in current environment:\n",
      "WARNING:root:Package:azureml-mlflow, training version:1.33.0\n",
      "Package:azureml-responsibleai, training version:1.33.0\n",
      "WARNING:root:Please ensure the version of your local conda dependencies match the version on which your model was trained in order to properly retrieve your model.\n"
     ]
    },
    {
     "output_type": "stream",
     "name": "stdout",
     "text": [
      "TARGET is in the same Azure ML Studio workspace as SOURCE, comparing with latest registered model...\n",
      "target_best_run_id AutoML_41dbdbdc-52bc-4ac3-8a2b-a353d418908c\n"
     ]
    },
    {
     "output_type": "stream",
     "name": "stderr",
     "text": [
      "WARNING:root:The version of the SDK does not match the version the model was trained on.\n",
      "WARNING:root:The consistency in the result may not be guaranteed.\n",
      "WARNING:root:Package:azureml-automl-core, training version:1.30.0, current version:1.26.0\n",
      "Package:azureml-automl-runtime, training version:1.30.0, current version:1.26.0\n",
      "Package:azureml-core, training version:1.30.0, current version:1.26.0\n",
      "Package:azureml-dataprep, training version:2.15.1, current version:2.13.2\n",
      "Package:azureml-dataprep-native, training version:33.0.0, current version:32.0.0\n",
      "Package:azureml-dataprep-rslex, training version:1.13.0, current version:1.11.2\n",
      "Package:azureml-dataset-runtime, training version:1.30.0, current version:1.26.0\n",
      "Package:azureml-defaults, training version:1.30.0, current version:1.26.0\n",
      "Package:azureml-interpret, training version:1.30.0, current version:1.26.0\n",
      "Package:azureml-pipeline-core, training version:1.30.0, current version:1.26.0\n",
      "Package:azureml-telemetry, training version:1.30.0, current version:1.26.0\n",
      "Package:azureml-train-automl-client, training version:1.30.0, current version:1.26.0\n",
      "Package:azureml-train-automl-runtime, training version:1.30.0, current version:1.26.0\n",
      "WARNING:root:Below packages were used for model training but missing in current environment:\n",
      "WARNING:root:Package:azureml-mlflow, training version:1.30.0\n",
      "WARNING:root:Please ensure the version of your local conda dependencies match the version on which your model was trained in order to properly retrieve your model.\n"
     ]
    },
    {
     "output_type": "stream",
     "name": "stdout",
     "text": [
      "New trained model & cached RUN, has TASK_TYPE: regression and Best_Run_id: AutoML_ce3e2fee-d26c-45f3-bea5-8bbef7bb6546_0\n",
      "Target model & RUN, in Azure ML Studio workspace to compare with, has TASK_TYPE: classification and Best_Run_id: \n",
      "This is the first model. No target to compare with, hence we will PROMOTE\n",
      "New Model: AutoMLce3e2feed0 in environment dev\n",
      "Existing Model: AutoML41dbdbdc58 in environment dev\n",
      "Loading AutoML config settings from: dev\n",
      "Loading AutoML config settings from: dev\n"
     ]
    },
    {
     "output_type": "stream",
     "name": "stderr",
     "text": [
      "WARNING:azureml.WorkspaceClient:Converting non-string tag to string: (best_model_version: 1)\n"
     ]
    },
    {
     "output_type": "stream",
     "name": "stdout",
     "text": [
      "model.version 1\n",
      "Model name AutoMLce3e2feed0 is registered.\n"
     ]
    }
   ],
   "metadata": {}
  },
  {
   "cell_type": "markdown",
   "source": [
    "# TEST SET SCORING"
   ],
   "metadata": {}
  },
  {
   "cell_type": "code",
   "execution_count": 8,
   "source": [
    "#p.init()\r\n",
    "train_6, validate_set_2, test_set_2 = p.split_gold_3(0.6,\"Y\") "
   ],
   "outputs": [],
   "metadata": {}
  },
  {
   "cell_type": "code",
   "execution_count": 11,
   "source": [
    "import repackage\r\n",
    "repackage.add(\"../azure-enterprise-scale-ml/esml/common/\")\r\n",
    "from baselayer_azure_ml import ESMLTestScoringFactory\r\n",
    "\r\n",
    "label = \"Y\"\r\n",
    "rmse, r2, mean_abs_percent_error,mae,spearman_corr,plt = ESMLTestScoringFactory(p).get_test_scoring_4_regression(label)\r\n",
    "print(\"RMSE:\")\r\n",
    "print(rmse)\r\n",
    "print()\r\n",
    "print(\"R2:\")\r\n",
    "print(r2)\r\n",
    "print()\r\n",
    "print(\"MAPE:\")\r\n",
    "print(mean_abs_percent_error)\r\n",
    "print()\r\n",
    "print(\"MAE:\")\r\n",
    "print(mae)\r\n",
    "print()\r\n",
    "print(\"Spearman:\")\r\n",
    "print(spearman_corr)"
   ],
   "outputs": [
    {
     "output_type": "stream",
     "name": "stdout",
     "text": [
      "Loading AutoML config settings from: dev\n"
     ]
    },
    {
     "output_type": "stream",
     "name": "stderr",
     "text": [
      "WARNING:root:The version of the SDK does not match the version the model was trained on.\n",
      "WARNING:root:The consistency in the result may not be guaranteed.\n",
      "WARNING:root:Package:azureml-automl-core, training version:1.33.0, current version:1.26.0\n",
      "Package:azureml-automl-runtime, training version:1.33.0, current version:1.26.0\n",
      "Package:azureml-core, training version:1.33.0, current version:1.26.0\n",
      "Package:azureml-dataprep, training version:2.20.1, current version:2.13.2\n",
      "Package:azureml-dataprep-native, training version:38.0.0, current version:32.0.0\n",
      "Package:azureml-dataprep-rslex, training version:1.18.0, current version:1.11.2\n",
      "Package:azureml-dataset-runtime, training version:1.33.0, current version:1.26.0\n",
      "Package:azureml-defaults, training version:1.33.0, current version:1.26.0\n",
      "Package:azureml-interpret, training version:1.33.0, current version:1.26.0\n",
      "Package:azureml-pipeline-core, training version:1.33.0, current version:1.26.0\n",
      "Package:azureml-telemetry, training version:1.33.0, current version:1.26.0\n",
      "Package:azureml-train-automl-client, training version:1.33.0, current version:1.26.0\n",
      "Package:azureml-train-automl-runtime, training version:1.33.0, current version:1.26.0\n",
      "WARNING:root:Below packages were used for model training but missing in current environment:\n",
      "WARNING:root:Package:azureml-mlflow, training version:1.33.0\n",
      "Package:azureml-responsibleai, training version:1.33.0\n",
      "WARNING:root:Please ensure the version of your local conda dependencies match the version on which your model was trained in order to properly retrieve your model.\n"
     ]
    },
    {
     "output_type": "stream",
     "name": "stdout",
     "text": [
      "Replacing tag run_id -> AutoML_ce3e2fee-d26c-45f3-bea5-8bbef7bb6546 with run_id -> AutoML_ce3e2fee-d26c-45f3-bea5-8bbef7bb6546\n",
      "Replacing tag model_name -> AutoMLce3e2feed0 with model_name -> AutoMLce3e2feed0\n",
      "Replacing tag trained_in_environment -> dev with trained_in_environment -> dev\n",
      "Replacing tag trained_in_workspace -> msft-weu-DEV-eap-proj02_ai-amls with trained_in_workspace -> msft-weu-DEV-eap-proj02_ai-amls\n",
      "Replacing tag experiment_name -> 11_diabetes_model_reg with experiment_name -> 11_diabetes_model_reg\n",
      "Replacing tag test_set_RMSE -> 57.169434 with test_set_RMSE -> 57.169434\n",
      "Replacing tag test_set_R2 -> 0.319053 with test_set_R2 -> 0.319053\n",
      "Replacing tag test_set_MAPE -> 0.272946 with test_set_MAPE -> 0.272946\n",
      "Replacing tag test_set_Spearman_Correlation -> 0.596206 with test_set_Spearman_Correlation -> 0.596206\n",
      "Model tag add operation complete.\n",
      "RMSE:\n",
      "57.16943442166354\n",
      "\n",
      "R2:\n",
      "0.3190528794944473\n",
      "\n",
      "MAPE:\n",
      "0.2729455667922768\n",
      "\n",
      "MAE:\n",
      "45.35322553078156\n",
      "\n",
      "Spearman:\n",
      "0.5962062875330425\n"
     ]
    },
    {
     "output_type": "display_data",
     "data": {
      "text/plain": [
       "<Figure size 720x504 with 1 Axes>"
      ],
      "image/svg+xml": "<?xml version=\"1.0\" encoding=\"utf-8\" standalone=\"no\"?>\r\n<!DOCTYPE svg PUBLIC \"-//W3C//DTD SVG 1.1//EN\"\r\n  \"http://www.w3.org/Graphics/SVG/1.1/DTD/svg11.dtd\">\r\n<!-- Created with matplotlib (https://matplotlib.org/) -->\r\n<svg height=\"444.153625pt\" version=\"1.1\" viewBox=\"0 0 614.10125 444.153625\" width=\"614.10125pt\" xmlns=\"http://www.w3.org/2000/svg\" xmlns:xlink=\"http://www.w3.org/1999/xlink\">\r\n <metadata>\r\n  <rdf:RDF xmlns:cc=\"http://creativecommons.org/ns#\" xmlns:dc=\"http://purl.org/dc/elements/1.1/\" xmlns:rdf=\"http://www.w3.org/1999/02/22-rdf-syntax-ns#\">\r\n   <cc:Work>\r\n    <dc:type rdf:resource=\"http://purl.org/dc/dcmitype/StillImage\"/>\r\n    <dc:date>2021-09-01T02:21:54.058127</dc:date>\r\n    <dc:format>image/svg+xml</dc:format>\r\n    <dc:creator>\r\n     <cc:Agent>\r\n      <dc:title>Matplotlib v3.3.4, https://matplotlib.org/</dc:title>\r\n     </cc:Agent>\r\n    </dc:creator>\r\n   </cc:Work>\r\n  </rdf:RDF>\r\n </metadata>\r\n <defs>\r\n  <style type=\"text/css\">*{stroke-linecap:butt;stroke-linejoin:round;}</style>\r\n </defs>\r\n <g id=\"figure_1\">\r\n  <g id=\"patch_1\">\r\n   <path d=\"M 0 444.153625 \r\nL 614.10125 444.153625 \r\nL 614.10125 0 \r\nL 0 0 \r\nz\r\n\" style=\"fill:#ffffff;\"/>\r\n  </g>\r\n  <g id=\"axes_1\">\r\n   <g id=\"patch_2\">\r\n    <path d=\"M 48.90125 404.66175 \r\nL 606.90125 404.66175 \r\nL 606.90125 24.14175 \r\nL 48.90125 24.14175 \r\nz\r\n\" style=\"fill:#e5e5e5;\"/>\r\n   </g>\r\n   <g id=\"matplotlib.axis_1\">\r\n    <g id=\"xtick_1\">\r\n     <g id=\"line2d_1\">\r\n      <path clip-path=\"url(#p3b4010a9e9)\" d=\"M 80.029349 404.66175 \r\nL 80.029349 24.14175 \r\n\" style=\"fill:none;stroke:#ffffff;stroke-linecap:square;stroke-width:0.8;\"/>\r\n     </g>\r\n     <g id=\"line2d_2\">\r\n      <defs>\r\n       <path d=\"M 0 0 \r\nL 0 3.5 \r\n\" id=\"mfa185914b0\" style=\"stroke:#555555;stroke-width:0.8;\"/>\r\n      </defs>\r\n      <g>\r\n       <use style=\"fill:#555555;stroke:#555555;stroke-width:0.8;\" x=\"80.029349\" xlink:href=\"#mfa185914b0\" y=\"404.66175\"/>\r\n      </g>\r\n     </g>\r\n     <g id=\"text_1\">\r\n      <!-- 50 -->\r\n      <g style=\"fill:#555555;\" transform=\"translate(73.666849 419.260187)scale(0.1 -0.1)\">\r\n       <defs>\r\n        <path d=\"M 10.796875 72.90625 \r\nL 49.515625 72.90625 \r\nL 49.515625 64.59375 \r\nL 19.828125 64.59375 \r\nL 19.828125 46.734375 \r\nQ 21.96875 47.46875 24.109375 47.828125 \r\nQ 26.265625 48.1875 28.421875 48.1875 \r\nQ 40.625 48.1875 47.75 41.5 \r\nQ 54.890625 34.8125 54.890625 23.390625 \r\nQ 54.890625 11.625 47.5625 5.09375 \r\nQ 40.234375 -1.421875 26.90625 -1.421875 \r\nQ 22.3125 -1.421875 17.546875 -0.640625 \r\nQ 12.796875 0.140625 7.71875 1.703125 \r\nL 7.71875 11.625 \r\nQ 12.109375 9.234375 16.796875 8.0625 \r\nQ 21.484375 6.890625 26.703125 6.890625 \r\nQ 35.15625 6.890625 40.078125 11.328125 \r\nQ 45.015625 15.765625 45.015625 23.390625 \r\nQ 45.015625 31 40.078125 35.4375 \r\nQ 35.15625 39.890625 26.703125 39.890625 \r\nQ 22.75 39.890625 18.8125 39.015625 \r\nQ 14.890625 38.140625 10.796875 36.28125 \r\nz\r\n\" id=\"DejaVuSans-53\"/>\r\n        <path d=\"M 31.78125 66.40625 \r\nQ 24.171875 66.40625 20.328125 58.90625 \r\nQ 16.5 51.421875 16.5 36.375 \r\nQ 16.5 21.390625 20.328125 13.890625 \r\nQ 24.171875 6.390625 31.78125 6.390625 \r\nQ 39.453125 6.390625 43.28125 13.890625 \r\nQ 47.125 21.390625 47.125 36.375 \r\nQ 47.125 51.421875 43.28125 58.90625 \r\nQ 39.453125 66.40625 31.78125 66.40625 \r\nz\r\nM 31.78125 74.21875 \r\nQ 44.046875 74.21875 50.515625 64.515625 \r\nQ 56.984375 54.828125 56.984375 36.375 \r\nQ 56.984375 17.96875 50.515625 8.265625 \r\nQ 44.046875 -1.421875 31.78125 -1.421875 \r\nQ 19.53125 -1.421875 13.0625 8.265625 \r\nQ 6.59375 17.96875 6.59375 36.375 \r\nQ 6.59375 54.828125 13.0625 64.515625 \r\nQ 19.53125 74.21875 31.78125 74.21875 \r\nz\r\n\" id=\"DejaVuSans-48\"/>\r\n       </defs>\r\n       <use xlink:href=\"#DejaVuSans-53\"/>\r\n       <use x=\"63.623047\" xlink:href=\"#DejaVuSans-48\"/>\r\n      </g>\r\n     </g>\r\n    </g>\r\n    <g id=\"xtick_2\">\r\n     <g id=\"line2d_3\">\r\n      <path clip-path=\"url(#p3b4010a9e9)\" d=\"M 176.103729 404.66175 \r\nL 176.103729 24.14175 \r\n\" style=\"fill:none;stroke:#ffffff;stroke-linecap:square;stroke-width:0.8;\"/>\r\n     </g>\r\n     <g id=\"line2d_4\">\r\n      <g>\r\n       <use style=\"fill:#555555;stroke:#555555;stroke-width:0.8;\" x=\"176.103729\" xlink:href=\"#mfa185914b0\" y=\"404.66175\"/>\r\n      </g>\r\n     </g>\r\n     <g id=\"text_2\">\r\n      <!-- 100 -->\r\n      <g style=\"fill:#555555;\" transform=\"translate(166.559979 419.260187)scale(0.1 -0.1)\">\r\n       <defs>\r\n        <path d=\"M 12.40625 8.296875 \r\nL 28.515625 8.296875 \r\nL 28.515625 63.921875 \r\nL 10.984375 60.40625 \r\nL 10.984375 69.390625 \r\nL 28.421875 72.90625 \r\nL 38.28125 72.90625 \r\nL 38.28125 8.296875 \r\nL 54.390625 8.296875 \r\nL 54.390625 0 \r\nL 12.40625 0 \r\nz\r\n\" id=\"DejaVuSans-49\"/>\r\n       </defs>\r\n       <use xlink:href=\"#DejaVuSans-49\"/>\r\n       <use x=\"63.623047\" xlink:href=\"#DejaVuSans-48\"/>\r\n       <use x=\"127.246094\" xlink:href=\"#DejaVuSans-48\"/>\r\n      </g>\r\n     </g>\r\n    </g>\r\n    <g id=\"xtick_3\">\r\n     <g id=\"line2d_5\">\r\n      <path clip-path=\"url(#p3b4010a9e9)\" d=\"M 272.17811 404.66175 \r\nL 272.17811 24.14175 \r\n\" style=\"fill:none;stroke:#ffffff;stroke-linecap:square;stroke-width:0.8;\"/>\r\n     </g>\r\n     <g id=\"line2d_6\">\r\n      <g>\r\n       <use style=\"fill:#555555;stroke:#555555;stroke-width:0.8;\" x=\"272.17811\" xlink:href=\"#mfa185914b0\" y=\"404.66175\"/>\r\n      </g>\r\n     </g>\r\n     <g id=\"text_3\">\r\n      <!-- 150 -->\r\n      <g style=\"fill:#555555;\" transform=\"translate(262.63436 419.260187)scale(0.1 -0.1)\">\r\n       <use xlink:href=\"#DejaVuSans-49\"/>\r\n       <use x=\"63.623047\" xlink:href=\"#DejaVuSans-53\"/>\r\n       <use x=\"127.246094\" xlink:href=\"#DejaVuSans-48\"/>\r\n      </g>\r\n     </g>\r\n    </g>\r\n    <g id=\"xtick_4\">\r\n     <g id=\"line2d_7\">\r\n      <path clip-path=\"url(#p3b4010a9e9)\" d=\"M 368.25249 404.66175 \r\nL 368.25249 24.14175 \r\n\" style=\"fill:none;stroke:#ffffff;stroke-linecap:square;stroke-width:0.8;\"/>\r\n     </g>\r\n     <g id=\"line2d_8\">\r\n      <g>\r\n       <use style=\"fill:#555555;stroke:#555555;stroke-width:0.8;\" x=\"368.25249\" xlink:href=\"#mfa185914b0\" y=\"404.66175\"/>\r\n      </g>\r\n     </g>\r\n     <g id=\"text_4\">\r\n      <!-- 200 -->\r\n      <g style=\"fill:#555555;\" transform=\"translate(358.70874 419.260187)scale(0.1 -0.1)\">\r\n       <defs>\r\n        <path d=\"M 19.1875 8.296875 \r\nL 53.609375 8.296875 \r\nL 53.609375 0 \r\nL 7.328125 0 \r\nL 7.328125 8.296875 \r\nQ 12.9375 14.109375 22.625 23.890625 \r\nQ 32.328125 33.6875 34.8125 36.53125 \r\nQ 39.546875 41.84375 41.421875 45.53125 \r\nQ 43.3125 49.21875 43.3125 52.78125 \r\nQ 43.3125 58.59375 39.234375 62.25 \r\nQ 35.15625 65.921875 28.609375 65.921875 \r\nQ 23.96875 65.921875 18.8125 64.3125 \r\nQ 13.671875 62.703125 7.8125 59.421875 \r\nL 7.8125 69.390625 \r\nQ 13.765625 71.78125 18.9375 73 \r\nQ 24.125 74.21875 28.421875 74.21875 \r\nQ 39.75 74.21875 46.484375 68.546875 \r\nQ 53.21875 62.890625 53.21875 53.421875 \r\nQ 53.21875 48.921875 51.53125 44.890625 \r\nQ 49.859375 40.875 45.40625 35.40625 \r\nQ 44.1875 33.984375 37.640625 27.21875 \r\nQ 31.109375 20.453125 19.1875 8.296875 \r\nz\r\n\" id=\"DejaVuSans-50\"/>\r\n       </defs>\r\n       <use xlink:href=\"#DejaVuSans-50\"/>\r\n       <use x=\"63.623047\" xlink:href=\"#DejaVuSans-48\"/>\r\n       <use x=\"127.246094\" xlink:href=\"#DejaVuSans-48\"/>\r\n      </g>\r\n     </g>\r\n    </g>\r\n    <g id=\"xtick_5\">\r\n     <g id=\"line2d_9\">\r\n      <path clip-path=\"url(#p3b4010a9e9)\" d=\"M 464.32687 404.66175 \r\nL 464.32687 24.14175 \r\n\" style=\"fill:none;stroke:#ffffff;stroke-linecap:square;stroke-width:0.8;\"/>\r\n     </g>\r\n     <g id=\"line2d_10\">\r\n      <g>\r\n       <use style=\"fill:#555555;stroke:#555555;stroke-width:0.8;\" x=\"464.32687\" xlink:href=\"#mfa185914b0\" y=\"404.66175\"/>\r\n      </g>\r\n     </g>\r\n     <g id=\"text_5\">\r\n      <!-- 250 -->\r\n      <g style=\"fill:#555555;\" transform=\"translate(454.78312 419.260187)scale(0.1 -0.1)\">\r\n       <use xlink:href=\"#DejaVuSans-50\"/>\r\n       <use x=\"63.623047\" xlink:href=\"#DejaVuSans-53\"/>\r\n       <use x=\"127.246094\" xlink:href=\"#DejaVuSans-48\"/>\r\n      </g>\r\n     </g>\r\n    </g>\r\n    <g id=\"xtick_6\">\r\n     <g id=\"line2d_11\">\r\n      <path clip-path=\"url(#p3b4010a9e9)\" d=\"M 560.40125 404.66175 \r\nL 560.40125 24.14175 \r\n\" style=\"fill:none;stroke:#ffffff;stroke-linecap:square;stroke-width:0.8;\"/>\r\n     </g>\r\n     <g id=\"line2d_12\">\r\n      <g>\r\n       <use style=\"fill:#555555;stroke:#555555;stroke-width:0.8;\" x=\"560.40125\" xlink:href=\"#mfa185914b0\" y=\"404.66175\"/>\r\n      </g>\r\n     </g>\r\n     <g id=\"text_6\">\r\n      <!-- 300 -->\r\n      <g style=\"fill:#555555;\" transform=\"translate(550.8575 419.260187)scale(0.1 -0.1)\">\r\n       <defs>\r\n        <path d=\"M 40.578125 39.3125 \r\nQ 47.65625 37.796875 51.625 33 \r\nQ 55.609375 28.21875 55.609375 21.1875 \r\nQ 55.609375 10.40625 48.1875 4.484375 \r\nQ 40.765625 -1.421875 27.09375 -1.421875 \r\nQ 22.515625 -1.421875 17.65625 -0.515625 \r\nQ 12.796875 0.390625 7.625 2.203125 \r\nL 7.625 11.71875 \r\nQ 11.71875 9.328125 16.59375 8.109375 \r\nQ 21.484375 6.890625 26.8125 6.890625 \r\nQ 36.078125 6.890625 40.9375 10.546875 \r\nQ 45.796875 14.203125 45.796875 21.1875 \r\nQ 45.796875 27.640625 41.28125 31.265625 \r\nQ 36.765625 34.90625 28.71875 34.90625 \r\nL 20.21875 34.90625 \r\nL 20.21875 43.015625 \r\nL 29.109375 43.015625 \r\nQ 36.375 43.015625 40.234375 45.921875 \r\nQ 44.09375 48.828125 44.09375 54.296875 \r\nQ 44.09375 59.90625 40.109375 62.90625 \r\nQ 36.140625 65.921875 28.71875 65.921875 \r\nQ 24.65625 65.921875 20.015625 65.03125 \r\nQ 15.375 64.15625 9.8125 62.3125 \r\nL 9.8125 71.09375 \r\nQ 15.4375 72.65625 20.34375 73.4375 \r\nQ 25.25 74.21875 29.59375 74.21875 \r\nQ 40.828125 74.21875 47.359375 69.109375 \r\nQ 53.90625 64.015625 53.90625 55.328125 \r\nQ 53.90625 49.265625 50.4375 45.09375 \r\nQ 46.96875 40.921875 40.578125 39.3125 \r\nz\r\n\" id=\"DejaVuSans-51\"/>\r\n       </defs>\r\n       <use xlink:href=\"#DejaVuSans-51\"/>\r\n       <use x=\"63.623047\" xlink:href=\"#DejaVuSans-48\"/>\r\n       <use x=\"127.246094\" xlink:href=\"#DejaVuSans-48\"/>\r\n      </g>\r\n     </g>\r\n    </g>\r\n    <g id=\"text_7\">\r\n     <!-- Actual -->\r\n     <g style=\"fill:#555555;\" transform=\"translate(309.104375 434.458)scale(0.12 -0.12)\">\r\n      <defs>\r\n       <path d=\"M 34.1875 63.1875 \r\nL 20.796875 26.90625 \r\nL 47.609375 26.90625 \r\nz\r\nM 28.609375 72.90625 \r\nL 39.796875 72.90625 \r\nL 67.578125 0 \r\nL 57.328125 0 \r\nL 50.6875 18.703125 \r\nL 17.828125 18.703125 \r\nL 11.1875 0 \r\nL 0.78125 0 \r\nz\r\n\" id=\"DejaVuSans-65\"/>\r\n       <path d=\"M 48.78125 52.59375 \r\nL 48.78125 44.1875 \r\nQ 44.96875 46.296875 41.140625 47.34375 \r\nQ 37.3125 48.390625 33.40625 48.390625 \r\nQ 24.65625 48.390625 19.8125 42.84375 \r\nQ 14.984375 37.3125 14.984375 27.296875 \r\nQ 14.984375 17.28125 19.8125 11.734375 \r\nQ 24.65625 6.203125 33.40625 6.203125 \r\nQ 37.3125 6.203125 41.140625 7.25 \r\nQ 44.96875 8.296875 48.78125 10.40625 \r\nL 48.78125 2.09375 \r\nQ 45.015625 0.34375 40.984375 -0.53125 \r\nQ 36.96875 -1.421875 32.421875 -1.421875 \r\nQ 20.0625 -1.421875 12.78125 6.34375 \r\nQ 5.515625 14.109375 5.515625 27.296875 \r\nQ 5.515625 40.671875 12.859375 48.328125 \r\nQ 20.21875 56 33.015625 56 \r\nQ 37.15625 56 41.109375 55.140625 \r\nQ 45.0625 54.296875 48.78125 52.59375 \r\nz\r\n\" id=\"DejaVuSans-99\"/>\r\n       <path d=\"M 18.3125 70.21875 \r\nL 18.3125 54.6875 \r\nL 36.8125 54.6875 \r\nL 36.8125 47.703125 \r\nL 18.3125 47.703125 \r\nL 18.3125 18.015625 \r\nQ 18.3125 11.328125 20.140625 9.421875 \r\nQ 21.96875 7.515625 27.59375 7.515625 \r\nL 36.8125 7.515625 \r\nL 36.8125 0 \r\nL 27.59375 0 \r\nQ 17.1875 0 13.234375 3.875 \r\nQ 9.28125 7.765625 9.28125 18.015625 \r\nL 9.28125 47.703125 \r\nL 2.6875 47.703125 \r\nL 2.6875 54.6875 \r\nL 9.28125 54.6875 \r\nL 9.28125 70.21875 \r\nz\r\n\" id=\"DejaVuSans-116\"/>\r\n       <path d=\"M 8.5 21.578125 \r\nL 8.5 54.6875 \r\nL 17.484375 54.6875 \r\nL 17.484375 21.921875 \r\nQ 17.484375 14.15625 20.5 10.265625 \r\nQ 23.53125 6.390625 29.59375 6.390625 \r\nQ 36.859375 6.390625 41.078125 11.03125 \r\nQ 45.3125 15.671875 45.3125 23.6875 \r\nL 45.3125 54.6875 \r\nL 54.296875 54.6875 \r\nL 54.296875 0 \r\nL 45.3125 0 \r\nL 45.3125 8.40625 \r\nQ 42.046875 3.421875 37.71875 1 \r\nQ 33.40625 -1.421875 27.6875 -1.421875 \r\nQ 18.265625 -1.421875 13.375 4.4375 \r\nQ 8.5 10.296875 8.5 21.578125 \r\nz\r\nM 31.109375 56 \r\nz\r\n\" id=\"DejaVuSans-117\"/>\r\n       <path d=\"M 34.28125 27.484375 \r\nQ 23.390625 27.484375 19.1875 25 \r\nQ 14.984375 22.515625 14.984375 16.5 \r\nQ 14.984375 11.71875 18.140625 8.90625 \r\nQ 21.296875 6.109375 26.703125 6.109375 \r\nQ 34.1875 6.109375 38.703125 11.40625 \r\nQ 43.21875 16.703125 43.21875 25.484375 \r\nL 43.21875 27.484375 \r\nz\r\nM 52.203125 31.203125 \r\nL 52.203125 0 \r\nL 43.21875 0 \r\nL 43.21875 8.296875 \r\nQ 40.140625 3.328125 35.546875 0.953125 \r\nQ 30.953125 -1.421875 24.3125 -1.421875 \r\nQ 15.921875 -1.421875 10.953125 3.296875 \r\nQ 6 8.015625 6 15.921875 \r\nQ 6 25.140625 12.171875 29.828125 \r\nQ 18.359375 34.515625 30.609375 34.515625 \r\nL 43.21875 34.515625 \r\nL 43.21875 35.40625 \r\nQ 43.21875 41.609375 39.140625 45 \r\nQ 35.0625 48.390625 27.6875 48.390625 \r\nQ 23 48.390625 18.546875 47.265625 \r\nQ 14.109375 46.140625 10.015625 43.890625 \r\nL 10.015625 52.203125 \r\nQ 14.9375 54.109375 19.578125 55.046875 \r\nQ 24.21875 56 28.609375 56 \r\nQ 40.484375 56 46.34375 49.84375 \r\nQ 52.203125 43.703125 52.203125 31.203125 \r\nz\r\n\" id=\"DejaVuSans-97\"/>\r\n       <path d=\"M 9.421875 75.984375 \r\nL 18.40625 75.984375 \r\nL 18.40625 0 \r\nL 9.421875 0 \r\nz\r\n\" id=\"DejaVuSans-108\"/>\r\n      </defs>\r\n      <use xlink:href=\"#DejaVuSans-65\"/>\r\n      <use x=\"66.658203\" xlink:href=\"#DejaVuSans-99\"/>\r\n      <use x=\"121.638672\" xlink:href=\"#DejaVuSans-116\"/>\r\n      <use x=\"160.847656\" xlink:href=\"#DejaVuSans-117\"/>\r\n      <use x=\"224.226562\" xlink:href=\"#DejaVuSans-97\"/>\r\n      <use x=\"285.505859\" xlink:href=\"#DejaVuSans-108\"/>\r\n     </g>\r\n    </g>\r\n   </g>\r\n   <g id=\"matplotlib.axis_2\">\r\n    <g id=\"ytick_1\">\r\n     <g id=\"line2d_13\">\r\n      <path clip-path=\"url(#p3b4010a9e9)\" d=\"M 48.90125 383.434395 \r\nL 606.90125 383.434395 \r\n\" style=\"fill:none;stroke:#ffffff;stroke-linecap:square;stroke-width:0.8;\"/>\r\n     </g>\r\n     <g id=\"line2d_14\">\r\n      <defs>\r\n       <path d=\"M 0 0 \r\nL -3.5 0 \r\n\" id=\"maef256567b\" style=\"stroke:#555555;stroke-width:0.8;\"/>\r\n      </defs>\r\n      <g>\r\n       <use style=\"fill:#555555;stroke:#555555;stroke-width:0.8;\" x=\"48.90125\" xlink:href=\"#maef256567b\" y=\"383.434395\"/>\r\n      </g>\r\n     </g>\r\n     <g id=\"text_8\">\r\n      <!-- 50 -->\r\n      <g style=\"fill:#555555;\" transform=\"translate(29.17625 387.233613)scale(0.1 -0.1)\">\r\n       <use xlink:href=\"#DejaVuSans-53\"/>\r\n       <use x=\"63.623047\" xlink:href=\"#DejaVuSans-48\"/>\r\n      </g>\r\n     </g>\r\n    </g>\r\n    <g id=\"ytick_2\">\r\n     <g id=\"line2d_15\">\r\n      <path clip-path=\"url(#p3b4010a9e9)\" d=\"M 48.90125 317.917866 \r\nL 606.90125 317.917866 \r\n\" style=\"fill:none;stroke:#ffffff;stroke-linecap:square;stroke-width:0.8;\"/>\r\n     </g>\r\n     <g id=\"line2d_16\">\r\n      <g>\r\n       <use style=\"fill:#555555;stroke:#555555;stroke-width:0.8;\" x=\"48.90125\" xlink:href=\"#maef256567b\" y=\"317.917866\"/>\r\n      </g>\r\n     </g>\r\n     <g id=\"text_9\">\r\n      <!-- 100 -->\r\n      <g style=\"fill:#555555;\" transform=\"translate(22.81375 321.717084)scale(0.1 -0.1)\">\r\n       <use xlink:href=\"#DejaVuSans-49\"/>\r\n       <use x=\"63.623047\" xlink:href=\"#DejaVuSans-48\"/>\r\n       <use x=\"127.246094\" xlink:href=\"#DejaVuSans-48\"/>\r\n      </g>\r\n     </g>\r\n    </g>\r\n    <g id=\"ytick_3\">\r\n     <g id=\"line2d_17\">\r\n      <path clip-path=\"url(#p3b4010a9e9)\" d=\"M 48.90125 252.401337 \r\nL 606.90125 252.401337 \r\n\" style=\"fill:none;stroke:#ffffff;stroke-linecap:square;stroke-width:0.8;\"/>\r\n     </g>\r\n     <g id=\"line2d_18\">\r\n      <g>\r\n       <use style=\"fill:#555555;stroke:#555555;stroke-width:0.8;\" x=\"48.90125\" xlink:href=\"#maef256567b\" y=\"252.401337\"/>\r\n      </g>\r\n     </g>\r\n     <g id=\"text_10\">\r\n      <!-- 150 -->\r\n      <g style=\"fill:#555555;\" transform=\"translate(22.81375 256.200556)scale(0.1 -0.1)\">\r\n       <use xlink:href=\"#DejaVuSans-49\"/>\r\n       <use x=\"63.623047\" xlink:href=\"#DejaVuSans-53\"/>\r\n       <use x=\"127.246094\" xlink:href=\"#DejaVuSans-48\"/>\r\n      </g>\r\n     </g>\r\n    </g>\r\n    <g id=\"ytick_4\">\r\n     <g id=\"line2d_19\">\r\n      <path clip-path=\"url(#p3b4010a9e9)\" d=\"M 48.90125 186.884808 \r\nL 606.90125 186.884808 \r\n\" style=\"fill:none;stroke:#ffffff;stroke-linecap:square;stroke-width:0.8;\"/>\r\n     </g>\r\n     <g id=\"line2d_20\">\r\n      <g>\r\n       <use style=\"fill:#555555;stroke:#555555;stroke-width:0.8;\" x=\"48.90125\" xlink:href=\"#maef256567b\" y=\"186.884808\"/>\r\n      </g>\r\n     </g>\r\n     <g id=\"text_11\">\r\n      <!-- 200 -->\r\n      <g style=\"fill:#555555;\" transform=\"translate(22.81375 190.684027)scale(0.1 -0.1)\">\r\n       <use xlink:href=\"#DejaVuSans-50\"/>\r\n       <use x=\"63.623047\" xlink:href=\"#DejaVuSans-48\"/>\r\n       <use x=\"127.246094\" xlink:href=\"#DejaVuSans-48\"/>\r\n      </g>\r\n     </g>\r\n    </g>\r\n    <g id=\"ytick_5\">\r\n     <g id=\"line2d_21\">\r\n      <path clip-path=\"url(#p3b4010a9e9)\" d=\"M 48.90125 121.368279 \r\nL 606.90125 121.368279 \r\n\" style=\"fill:none;stroke:#ffffff;stroke-linecap:square;stroke-width:0.8;\"/>\r\n     </g>\r\n     <g id=\"line2d_22\">\r\n      <g>\r\n       <use style=\"fill:#555555;stroke:#555555;stroke-width:0.8;\" x=\"48.90125\" xlink:href=\"#maef256567b\" y=\"121.368279\"/>\r\n      </g>\r\n     </g>\r\n     <g id=\"text_12\">\r\n      <!-- 250 -->\r\n      <g style=\"fill:#555555;\" transform=\"translate(22.81375 125.167498)scale(0.1 -0.1)\">\r\n       <use xlink:href=\"#DejaVuSans-50\"/>\r\n       <use x=\"63.623047\" xlink:href=\"#DejaVuSans-53\"/>\r\n       <use x=\"127.246094\" xlink:href=\"#DejaVuSans-48\"/>\r\n      </g>\r\n     </g>\r\n    </g>\r\n    <g id=\"ytick_6\">\r\n     <g id=\"line2d_23\">\r\n      <path clip-path=\"url(#p3b4010a9e9)\" d=\"M 48.90125 55.85175 \r\nL 606.90125 55.85175 \r\n\" style=\"fill:none;stroke:#ffffff;stroke-linecap:square;stroke-width:0.8;\"/>\r\n     </g>\r\n     <g id=\"line2d_24\">\r\n      <g>\r\n       <use style=\"fill:#555555;stroke:#555555;stroke-width:0.8;\" x=\"48.90125\" xlink:href=\"#maef256567b\" y=\"55.85175\"/>\r\n      </g>\r\n     </g>\r\n     <g id=\"text_13\">\r\n      <!-- 300 -->\r\n      <g style=\"fill:#555555;\" transform=\"translate(22.81375 59.650969)scale(0.1 -0.1)\">\r\n       <use xlink:href=\"#DejaVuSans-51\"/>\r\n       <use x=\"63.623047\" xlink:href=\"#DejaVuSans-48\"/>\r\n       <use x=\"127.246094\" xlink:href=\"#DejaVuSans-48\"/>\r\n      </g>\r\n     </g>\r\n    </g>\r\n    <g id=\"text_14\">\r\n     <!-- Predicted -->\r\n     <g style=\"fill:#555555;\" transform=\"translate(16.318125 242.566125)rotate(-90)scale(0.12 -0.12)\">\r\n      <defs>\r\n       <path d=\"M 19.671875 64.796875 \r\nL 19.671875 37.40625 \r\nL 32.078125 37.40625 \r\nQ 38.96875 37.40625 42.71875 40.96875 \r\nQ 46.484375 44.53125 46.484375 51.125 \r\nQ 46.484375 57.671875 42.71875 61.234375 \r\nQ 38.96875 64.796875 32.078125 64.796875 \r\nz\r\nM 9.8125 72.90625 \r\nL 32.078125 72.90625 \r\nQ 44.34375 72.90625 50.609375 67.359375 \r\nQ 56.890625 61.8125 56.890625 51.125 \r\nQ 56.890625 40.328125 50.609375 34.8125 \r\nQ 44.34375 29.296875 32.078125 29.296875 \r\nL 19.671875 29.296875 \r\nL 19.671875 0 \r\nL 9.8125 0 \r\nz\r\n\" id=\"DejaVuSans-80\"/>\r\n       <path d=\"M 41.109375 46.296875 \r\nQ 39.59375 47.171875 37.8125 47.578125 \r\nQ 36.03125 48 33.890625 48 \r\nQ 26.265625 48 22.1875 43.046875 \r\nQ 18.109375 38.09375 18.109375 28.8125 \r\nL 18.109375 0 \r\nL 9.078125 0 \r\nL 9.078125 54.6875 \r\nL 18.109375 54.6875 \r\nL 18.109375 46.1875 \r\nQ 20.953125 51.171875 25.484375 53.578125 \r\nQ 30.03125 56 36.53125 56 \r\nQ 37.453125 56 38.578125 55.875 \r\nQ 39.703125 55.765625 41.0625 55.515625 \r\nz\r\n\" id=\"DejaVuSans-114\"/>\r\n       <path d=\"M 56.203125 29.59375 \r\nL 56.203125 25.203125 \r\nL 14.890625 25.203125 \r\nQ 15.484375 15.921875 20.484375 11.0625 \r\nQ 25.484375 6.203125 34.421875 6.203125 \r\nQ 39.59375 6.203125 44.453125 7.46875 \r\nQ 49.3125 8.734375 54.109375 11.28125 \r\nL 54.109375 2.78125 \r\nQ 49.265625 0.734375 44.1875 -0.34375 \r\nQ 39.109375 -1.421875 33.890625 -1.421875 \r\nQ 20.796875 -1.421875 13.15625 6.1875 \r\nQ 5.515625 13.8125 5.515625 26.8125 \r\nQ 5.515625 40.234375 12.765625 48.109375 \r\nQ 20.015625 56 32.328125 56 \r\nQ 43.359375 56 49.78125 48.890625 \r\nQ 56.203125 41.796875 56.203125 29.59375 \r\nz\r\nM 47.21875 32.234375 \r\nQ 47.125 39.59375 43.09375 43.984375 \r\nQ 39.0625 48.390625 32.421875 48.390625 \r\nQ 24.90625 48.390625 20.390625 44.140625 \r\nQ 15.875 39.890625 15.1875 32.171875 \r\nz\r\n\" id=\"DejaVuSans-101\"/>\r\n       <path d=\"M 45.40625 46.390625 \r\nL 45.40625 75.984375 \r\nL 54.390625 75.984375 \r\nL 54.390625 0 \r\nL 45.40625 0 \r\nL 45.40625 8.203125 \r\nQ 42.578125 3.328125 38.25 0.953125 \r\nQ 33.9375 -1.421875 27.875 -1.421875 \r\nQ 17.96875 -1.421875 11.734375 6.484375 \r\nQ 5.515625 14.40625 5.515625 27.296875 \r\nQ 5.515625 40.1875 11.734375 48.09375 \r\nQ 17.96875 56 27.875 56 \r\nQ 33.9375 56 38.25 53.625 \r\nQ 42.578125 51.265625 45.40625 46.390625 \r\nz\r\nM 14.796875 27.296875 \r\nQ 14.796875 17.390625 18.875 11.75 \r\nQ 22.953125 6.109375 30.078125 6.109375 \r\nQ 37.203125 6.109375 41.296875 11.75 \r\nQ 45.40625 17.390625 45.40625 27.296875 \r\nQ 45.40625 37.203125 41.296875 42.84375 \r\nQ 37.203125 48.484375 30.078125 48.484375 \r\nQ 22.953125 48.484375 18.875 42.84375 \r\nQ 14.796875 37.203125 14.796875 27.296875 \r\nz\r\n\" id=\"DejaVuSans-100\"/>\r\n       <path d=\"M 9.421875 54.6875 \r\nL 18.40625 54.6875 \r\nL 18.40625 0 \r\nL 9.421875 0 \r\nz\r\nM 9.421875 75.984375 \r\nL 18.40625 75.984375 \r\nL 18.40625 64.59375 \r\nL 9.421875 64.59375 \r\nz\r\n\" id=\"DejaVuSans-105\"/>\r\n      </defs>\r\n      <use xlink:href=\"#DejaVuSans-80\"/>\r\n      <use x=\"58.552734\" xlink:href=\"#DejaVuSans-114\"/>\r\n      <use x=\"97.416016\" xlink:href=\"#DejaVuSans-101\"/>\r\n      <use x=\"158.939453\" xlink:href=\"#DejaVuSans-100\"/>\r\n      <use x=\"222.416016\" xlink:href=\"#DejaVuSans-105\"/>\r\n      <use x=\"250.199219\" xlink:href=\"#DejaVuSans-99\"/>\r\n      <use x=\"305.179688\" xlink:href=\"#DejaVuSans-116\"/>\r\n      <use x=\"344.388672\" xlink:href=\"#DejaVuSans-101\"/>\r\n      <use x=\"405.912109\" xlink:href=\"#DejaVuSans-100\"/>\r\n     </g>\r\n    </g>\r\n   </g>\r\n   <g id=\"PathCollection_1\">\r\n    <defs>\r\n     <path d=\"M 0 3 \r\nC 0.795609 3 1.55874 2.683901 2.12132 2.12132 \r\nC 2.683901 1.55874 3 0.795609 3 0 \r\nC 3 -0.795609 2.683901 -1.55874 2.12132 -2.12132 \r\nC 1.55874 -2.683901 0.795609 -3 0 -3 \r\nC -0.795609 -3 -1.55874 -2.683901 -2.12132 -2.12132 \r\nC -2.683901 -1.55874 -3 -0.795609 -3 0 \r\nC -3 0.795609 -2.683901 1.55874 -2.12132 2.12132 \r\nC -1.55874 2.683901 -0.795609 3 0 3 \r\nz\r\n\" id=\"m7be839d9d9\" style=\"stroke:#e24a33;stroke-width:0.5;\"/>\r\n    </defs>\r\n    <g clip-path=\"url(#p3b4010a9e9)\">\r\n     <use style=\"fill:#e24a33;stroke:#e24a33;stroke-width:0.5;\" x=\"333.665713\" xlink:href=\"#m7be839d9d9\" y=\"246.740167\"/>\r\n     <use style=\"fill:#e24a33;stroke:#e24a33;stroke-width:0.5;\" x=\"429.740093\" xlink:href=\"#m7be839d9d9\" y=\"151.776745\"/>\r\n     <use style=\"fill:#e24a33;stroke:#e24a33;stroke-width:0.5;\" x=\"550.793812\" xlink:href=\"#m7be839d9d9\" y=\"78.733158\"/>\r\n     <use style=\"fill:#e24a33;stroke:#e24a33;stroke-width:0.5;\" x=\"435.504556\" xlink:href=\"#m7be839d9d9\" y=\"220.325976\"/>\r\n     <use style=\"fill:#e24a33;stroke:#e24a33;stroke-width:0.5;\" x=\"262.570671\" xlink:href=\"#m7be839d9d9\" y=\"208.040991\"/>\r\n     <use style=\"fill:#e24a33;stroke:#e24a33;stroke-width:0.5;\" x=\"189.554143\" xlink:href=\"#m7be839d9d9\" y=\"256.371548\"/>\r\n     <use style=\"fill:#e24a33;stroke:#e24a33;stroke-width:0.5;\" x=\"110.773151\" xlink:href=\"#m7be839d9d9\" y=\"292.571661\"/>\r\n     <use style=\"fill:#e24a33;stroke:#e24a33;stroke-width:0.5;\" x=\"362.488027\" xlink:href=\"#m7be839d9d9\" y=\"193.490632\"/>\r\n     <use style=\"fill:#e24a33;stroke:#e24a33;stroke-width:0.5;\" x=\"329.822738\" xlink:href=\"#m7be839d9d9\" y=\"97.17652\"/>\r\n     <use style=\"fill:#e24a33;stroke:#e24a33;stroke-width:0.5;\" x=\"383.62439\" xlink:href=\"#m7be839d9d9\" y=\"183.804959\"/>\r\n     <use style=\"fill:#e24a33;stroke:#e24a33;stroke-width:0.5;\" x=\"310.607862\" xlink:href=\"#m7be839d9d9\" y=\"297.356137\"/>\r\n     <use style=\"fill:#e24a33;stroke:#e24a33;stroke-width:0.5;\" x=\"120.380589\" xlink:href=\"#m7be839d9d9\" y=\"345.342065\"/>\r\n     <use style=\"fill:#e24a33;stroke:#e24a33;stroke-width:0.5;\" x=\"454.719432\" xlink:href=\"#m7be839d9d9\" y=\"245.202271\"/>\r\n     <use style=\"fill:#e24a33;stroke:#e24a33;stroke-width:0.5;\" x=\"391.310341\" xlink:href=\"#m7be839d9d9\" y=\"253.51067\"/>\r\n     <use style=\"fill:#e24a33;stroke:#e24a33;stroke-width:0.5;\" x=\"329.822738\" xlink:href=\"#m7be839d9d9\" y=\"247.257735\"/>\r\n     <use style=\"fill:#e24a33;stroke:#e24a33;stroke-width:0.5;\" x=\"260.649184\" xlink:href=\"#m7be839d9d9\" y=\"239.942958\"/>\r\n     <use style=\"fill:#e24a33;stroke:#e24a33;stroke-width:0.5;\" x=\"362.488027\" xlink:href=\"#m7be839d9d9\" y=\"230.967301\"/>\r\n     <use style=\"fill:#e24a33;stroke:#e24a33;stroke-width:0.5;\" x=\"347.116126\" xlink:href=\"#m7be839d9d9\" y=\"153.983704\"/>\r\n     <use style=\"fill:#e24a33;stroke:#e24a33;stroke-width:0.5;\" x=\"254.884721\" xlink:href=\"#m7be839d9d9\" y=\"154.328675\"/>\r\n     <use style=\"fill:#e24a33;stroke:#e24a33;stroke-width:0.5;\" x=\"523.892986\" xlink:href=\"#m7be839d9d9\" y=\"127.425762\"/>\r\n     <use style=\"fill:#e24a33;stroke:#e24a33;stroke-width:0.5;\" x=\"153.045878\" xlink:href=\"#m7be839d9d9\" y=\"300.396714\"/>\r\n     <use style=\"fill:#e24a33;stroke:#e24a33;stroke-width:0.5;\" x=\"297.157448\" xlink:href=\"#m7be839d9d9\" y=\"118.435211\"/>\r\n     <use style=\"fill:#e24a33;stroke:#e24a33;stroke-width:0.5;\" x=\"581.537614\" xlink:href=\"#m7be839d9d9\" y=\"178.617976\"/>\r\n     <use style=\"fill:#e24a33;stroke:#e24a33;stroke-width:0.5;\" x=\"579.616126\" xlink:href=\"#m7be839d9d9\" y=\"62.91188\"/>\r\n     <use style=\"fill:#e24a33;stroke:#e24a33;stroke-width:0.5;\" x=\"74.264886\" xlink:href=\"#m7be839d9d9\" y=\"271.196185\"/>\r\n     <use style=\"fill:#e24a33;stroke:#e24a33;stroke-width:0.5;\" x=\"283.707035\" xlink:href=\"#m7be839d9d9\" y=\"222.920926\"/>\r\n     <use style=\"fill:#e24a33;stroke:#e24a33;stroke-width:0.5;\" x=\"133.831002\" xlink:href=\"#m7be839d9d9\" y=\"291.623193\"/>\r\n     <use style=\"fill:#e24a33;stroke:#e24a33;stroke-width:0.5;\" x=\"218.376457\" xlink:href=\"#m7be839d9d9\" y=\"161.680311\"/>\r\n     <use style=\"fill:#e24a33;stroke:#e24a33;stroke-width:0.5;\" x=\"89.636787\" xlink:href=\"#m7be839d9d9\" y=\"289.225165\"/>\r\n     <use style=\"fill:#e24a33;stroke:#e24a33;stroke-width:0.5;\" x=\"237.591333\" xlink:href=\"#m7be839d9d9\" y=\"281.865716\"/>\r\n     <use style=\"fill:#e24a33;stroke:#e24a33;stroke-width:0.5;\" x=\"416.28968\" xlink:href=\"#m7be839d9d9\" y=\"196.909118\"/>\r\n     <use style=\"fill:#e24a33;stroke:#e24a33;stroke-width:0.5;\" x=\"339.430176\" xlink:href=\"#m7be839d9d9\" y=\"199.357094\"/>\r\n     <use style=\"fill:#e24a33;stroke:#e24a33;stroke-width:0.5;\" x=\"181.868192\" xlink:href=\"#m7be839d9d9\" y=\"317.193797\"/>\r\n     <use style=\"fill:#e24a33;stroke:#e24a33;stroke-width:0.5;\" x=\"179.946705\" xlink:href=\"#m7be839d9d9\" y=\"303.768637\"/>\r\n     <use style=\"fill:#e24a33;stroke:#e24a33;stroke-width:0.5;\" x=\"222.219432\" xlink:href=\"#m7be839d9d9\" y=\"149.581757\"/>\r\n     <use style=\"fill:#e24a33;stroke:#e24a33;stroke-width:0.5;\" x=\"214.533481\" xlink:href=\"#m7be839d9d9\" y=\"190.728162\"/>\r\n     <use style=\"fill:#e24a33;stroke:#e24a33;stroke-width:0.5;\" x=\"272.17811\" xlink:href=\"#m7be839d9d9\" y=\"95.289521\"/>\r\n    </g>\r\n   </g>\r\n   <g id=\"line2d_25\">\r\n    <path clip-path=\"url(#p3b4010a9e9)\" d=\"M 74.264886 387.365386 \r\nL 581.537614 41.438114 \r\n\" style=\"fill:none;stroke:#add8e6;stroke-linecap:square;stroke-width:1.5;\"/>\r\n   </g>\r\n   <g id=\"patch_3\">\r\n    <path d=\"M 48.90125 404.66175 \r\nL 48.90125 24.14175 \r\n\" style=\"fill:none;stroke:#ffffff;stroke-linecap:square;stroke-linejoin:miter;\"/>\r\n   </g>\r\n   <g id=\"patch_4\">\r\n    <path d=\"M 606.90125 404.66175 \r\nL 606.90125 24.14175 \r\n\" style=\"fill:none;stroke:#ffffff;stroke-linecap:square;stroke-linejoin:miter;\"/>\r\n   </g>\r\n   <g id=\"patch_5\">\r\n    <path d=\"M 48.90125 404.66175 \r\nL 606.90125 404.66175 \r\n\" style=\"fill:none;stroke:#ffffff;stroke-linecap:square;stroke-linejoin:miter;\"/>\r\n   </g>\r\n   <g id=\"patch_6\">\r\n    <path d=\"M 48.90125 24.14175 \r\nL 606.90125 24.14175 \r\n\" style=\"fill:none;stroke:#ffffff;stroke-linecap:square;stroke-linejoin:miter;\"/>\r\n   </g>\r\n   <g id=\"text_15\">\r\n    <!-- Actual VS Predicted (R^2=0.3190528794944473 ) -->\r\n    <g transform=\"translate(145.4645 18.14175)scale(0.144 -0.144)\">\r\n     <defs>\r\n      <path id=\"DejaVuSans-32\"/>\r\n      <path d=\"M 28.609375 0 \r\nL 0.78125 72.90625 \r\nL 11.078125 72.90625 \r\nL 34.1875 11.53125 \r\nL 57.328125 72.90625 \r\nL 67.578125 72.90625 \r\nL 39.796875 0 \r\nz\r\n\" id=\"DejaVuSans-86\"/>\r\n      <path d=\"M 53.515625 70.515625 \r\nL 53.515625 60.890625 \r\nQ 47.90625 63.578125 42.921875 64.890625 \r\nQ 37.9375 66.21875 33.296875 66.21875 \r\nQ 25.25 66.21875 20.875 63.09375 \r\nQ 16.5 59.96875 16.5 54.203125 \r\nQ 16.5 49.359375 19.40625 46.890625 \r\nQ 22.3125 44.4375 30.421875 42.921875 \r\nL 36.375 41.703125 \r\nQ 47.40625 39.59375 52.65625 34.296875 \r\nQ 57.90625 29 57.90625 20.125 \r\nQ 57.90625 9.515625 50.796875 4.046875 \r\nQ 43.703125 -1.421875 29.984375 -1.421875 \r\nQ 24.8125 -1.421875 18.96875 -0.25 \r\nQ 13.140625 0.921875 6.890625 3.21875 \r\nL 6.890625 13.375 \r\nQ 12.890625 10.015625 18.65625 8.296875 \r\nQ 24.421875 6.59375 29.984375 6.59375 \r\nQ 38.421875 6.59375 43.015625 9.90625 \r\nQ 47.609375 13.234375 47.609375 19.390625 \r\nQ 47.609375 24.75 44.3125 27.78125 \r\nQ 41.015625 30.8125 33.5 32.328125 \r\nL 27.484375 33.5 \r\nQ 16.453125 35.6875 11.515625 40.375 \r\nQ 6.59375 45.0625 6.59375 53.421875 \r\nQ 6.59375 63.09375 13.40625 68.65625 \r\nQ 20.21875 74.21875 32.171875 74.21875 \r\nQ 37.3125 74.21875 42.625 73.28125 \r\nQ 47.953125 72.359375 53.515625 70.515625 \r\nz\r\n\" id=\"DejaVuSans-83\"/>\r\n      <path d=\"M 31 75.875 \r\nQ 24.46875 64.65625 21.28125 53.65625 \r\nQ 18.109375 42.671875 18.109375 31.390625 \r\nQ 18.109375 20.125 21.3125 9.0625 \r\nQ 24.515625 -2 31 -13.1875 \r\nL 23.1875 -13.1875 \r\nQ 15.875 -1.703125 12.234375 9.375 \r\nQ 8.59375 20.453125 8.59375 31.390625 \r\nQ 8.59375 42.28125 12.203125 53.3125 \r\nQ 15.828125 64.359375 23.1875 75.875 \r\nz\r\n\" id=\"DejaVuSans-40\"/>\r\n      <path d=\"M 44.390625 34.1875 \r\nQ 47.5625 33.109375 50.5625 29.59375 \r\nQ 53.5625 26.078125 56.59375 19.921875 \r\nL 66.609375 0 \r\nL 56 0 \r\nL 46.6875 18.703125 \r\nQ 43.0625 26.03125 39.671875 28.421875 \r\nQ 36.28125 30.8125 30.421875 30.8125 \r\nL 19.671875 30.8125 \r\nL 19.671875 0 \r\nL 9.8125 0 \r\nL 9.8125 72.90625 \r\nL 32.078125 72.90625 \r\nQ 44.578125 72.90625 50.734375 67.671875 \r\nQ 56.890625 62.453125 56.890625 51.90625 \r\nQ 56.890625 45.015625 53.6875 40.46875 \r\nQ 50.484375 35.9375 44.390625 34.1875 \r\nz\r\nM 19.671875 64.796875 \r\nL 19.671875 38.921875 \r\nL 32.078125 38.921875 \r\nQ 39.203125 38.921875 42.84375 42.21875 \r\nQ 46.484375 45.515625 46.484375 51.90625 \r\nQ 46.484375 58.296875 42.84375 61.546875 \r\nQ 39.203125 64.796875 32.078125 64.796875 \r\nz\r\n\" id=\"DejaVuSans-82\"/>\r\n      <path d=\"M 46.6875 72.90625 \r\nL 73.1875 45.703125 \r\nL 63.375 45.703125 \r\nL 41.890625 64.984375 \r\nL 20.40625 45.703125 \r\nL 10.59375 45.703125 \r\nL 37.109375 72.90625 \r\nz\r\n\" id=\"DejaVuSans-94\"/>\r\n      <path d=\"M 10.59375 45.40625 \r\nL 73.1875 45.40625 \r\nL 73.1875 37.203125 \r\nL 10.59375 37.203125 \r\nz\r\nM 10.59375 25.484375 \r\nL 73.1875 25.484375 \r\nL 73.1875 17.1875 \r\nL 10.59375 17.1875 \r\nz\r\n\" id=\"DejaVuSans-61\"/>\r\n      <path d=\"M 10.6875 12.40625 \r\nL 21 12.40625 \r\nL 21 0 \r\nL 10.6875 0 \r\nz\r\n\" id=\"DejaVuSans-46\"/>\r\n      <path d=\"M 10.984375 1.515625 \r\nL 10.984375 10.5 \r\nQ 14.703125 8.734375 18.5 7.8125 \r\nQ 22.3125 6.890625 25.984375 6.890625 \r\nQ 35.75 6.890625 40.890625 13.453125 \r\nQ 46.046875 20.015625 46.78125 33.40625 \r\nQ 43.953125 29.203125 39.59375 26.953125 \r\nQ 35.25 24.703125 29.984375 24.703125 \r\nQ 19.046875 24.703125 12.671875 31.3125 \r\nQ 6.296875 37.9375 6.296875 49.421875 \r\nQ 6.296875 60.640625 12.9375 67.421875 \r\nQ 19.578125 74.21875 30.609375 74.21875 \r\nQ 43.265625 74.21875 49.921875 64.515625 \r\nQ 56.59375 54.828125 56.59375 36.375 \r\nQ 56.59375 19.140625 48.40625 8.859375 \r\nQ 40.234375 -1.421875 26.421875 -1.421875 \r\nQ 22.703125 -1.421875 18.890625 -0.6875 \r\nQ 15.09375 0.046875 10.984375 1.515625 \r\nz\r\nM 30.609375 32.421875 \r\nQ 37.25 32.421875 41.125 36.953125 \r\nQ 45.015625 41.5 45.015625 49.421875 \r\nQ 45.015625 57.28125 41.125 61.84375 \r\nQ 37.25 66.40625 30.609375 66.40625 \r\nQ 23.96875 66.40625 20.09375 61.84375 \r\nQ 16.21875 57.28125 16.21875 49.421875 \r\nQ 16.21875 41.5 20.09375 36.953125 \r\nQ 23.96875 32.421875 30.609375 32.421875 \r\nz\r\n\" id=\"DejaVuSans-57\"/>\r\n      <path d=\"M 31.78125 34.625 \r\nQ 24.75 34.625 20.71875 30.859375 \r\nQ 16.703125 27.09375 16.703125 20.515625 \r\nQ 16.703125 13.921875 20.71875 10.15625 \r\nQ 24.75 6.390625 31.78125 6.390625 \r\nQ 38.8125 6.390625 42.859375 10.171875 \r\nQ 46.921875 13.96875 46.921875 20.515625 \r\nQ 46.921875 27.09375 42.890625 30.859375 \r\nQ 38.875 34.625 31.78125 34.625 \r\nz\r\nM 21.921875 38.8125 \r\nQ 15.578125 40.375 12.03125 44.71875 \r\nQ 8.5 49.078125 8.5 55.328125 \r\nQ 8.5 64.0625 14.71875 69.140625 \r\nQ 20.953125 74.21875 31.78125 74.21875 \r\nQ 42.671875 74.21875 48.875 69.140625 \r\nQ 55.078125 64.0625 55.078125 55.328125 \r\nQ 55.078125 49.078125 51.53125 44.71875 \r\nQ 48 40.375 41.703125 38.8125 \r\nQ 48.828125 37.15625 52.796875 32.3125 \r\nQ 56.78125 27.484375 56.78125 20.515625 \r\nQ 56.78125 9.90625 50.3125 4.234375 \r\nQ 43.84375 -1.421875 31.78125 -1.421875 \r\nQ 19.734375 -1.421875 13.25 4.234375 \r\nQ 6.78125 9.90625 6.78125 20.515625 \r\nQ 6.78125 27.484375 10.78125 32.3125 \r\nQ 14.796875 37.15625 21.921875 38.8125 \r\nz\r\nM 18.3125 54.390625 \r\nQ 18.3125 48.734375 21.84375 45.5625 \r\nQ 25.390625 42.390625 31.78125 42.390625 \r\nQ 38.140625 42.390625 41.71875 45.5625 \r\nQ 45.3125 48.734375 45.3125 54.390625 \r\nQ 45.3125 60.0625 41.71875 63.234375 \r\nQ 38.140625 66.40625 31.78125 66.40625 \r\nQ 25.390625 66.40625 21.84375 63.234375 \r\nQ 18.3125 60.0625 18.3125 54.390625 \r\nz\r\n\" id=\"DejaVuSans-56\"/>\r\n      <path d=\"M 8.203125 72.90625 \r\nL 55.078125 72.90625 \r\nL 55.078125 68.703125 \r\nL 28.609375 0 \r\nL 18.3125 0 \r\nL 43.21875 64.59375 \r\nL 8.203125 64.59375 \r\nz\r\n\" id=\"DejaVuSans-55\"/>\r\n      <path d=\"M 37.796875 64.3125 \r\nL 12.890625 25.390625 \r\nL 37.796875 25.390625 \r\nz\r\nM 35.203125 72.90625 \r\nL 47.609375 72.90625 \r\nL 47.609375 25.390625 \r\nL 58.015625 25.390625 \r\nL 58.015625 17.1875 \r\nL 47.609375 17.1875 \r\nL 47.609375 0 \r\nL 37.796875 0 \r\nL 37.796875 17.1875 \r\nL 4.890625 17.1875 \r\nL 4.890625 26.703125 \r\nz\r\n\" id=\"DejaVuSans-52\"/>\r\n      <path d=\"M 8.015625 75.875 \r\nL 15.828125 75.875 \r\nQ 23.140625 64.359375 26.78125 53.3125 \r\nQ 30.421875 42.28125 30.421875 31.390625 \r\nQ 30.421875 20.453125 26.78125 9.375 \r\nQ 23.140625 -1.703125 15.828125 -13.1875 \r\nL 8.015625 -13.1875 \r\nQ 14.5 -2 17.703125 9.0625 \r\nQ 20.90625 20.125 20.90625 31.390625 \r\nQ 20.90625 42.671875 17.703125 53.65625 \r\nQ 14.5 64.65625 8.015625 75.875 \r\nz\r\n\" id=\"DejaVuSans-41\"/>\r\n     </defs>\r\n     <use xlink:href=\"#DejaVuSans-65\"/>\r\n     <use x=\"66.658203\" xlink:href=\"#DejaVuSans-99\"/>\r\n     <use x=\"121.638672\" xlink:href=\"#DejaVuSans-116\"/>\r\n     <use x=\"160.847656\" xlink:href=\"#DejaVuSans-117\"/>\r\n     <use x=\"224.226562\" xlink:href=\"#DejaVuSans-97\"/>\r\n     <use x=\"285.505859\" xlink:href=\"#DejaVuSans-108\"/>\r\n     <use x=\"313.289062\" xlink:href=\"#DejaVuSans-32\"/>\r\n     <use x=\"345.076172\" xlink:href=\"#DejaVuSans-86\"/>\r\n     <use x=\"413.484375\" xlink:href=\"#DejaVuSans-83\"/>\r\n     <use x=\"476.960938\" xlink:href=\"#DejaVuSans-32\"/>\r\n     <use x=\"508.748047\" xlink:href=\"#DejaVuSans-80\"/>\r\n     <use x=\"567.300781\" xlink:href=\"#DejaVuSans-114\"/>\r\n     <use x=\"606.164062\" xlink:href=\"#DejaVuSans-101\"/>\r\n     <use x=\"667.6875\" xlink:href=\"#DejaVuSans-100\"/>\r\n     <use x=\"731.164062\" xlink:href=\"#DejaVuSans-105\"/>\r\n     <use x=\"758.947266\" xlink:href=\"#DejaVuSans-99\"/>\r\n     <use x=\"813.927734\" xlink:href=\"#DejaVuSans-116\"/>\r\n     <use x=\"853.136719\" xlink:href=\"#DejaVuSans-101\"/>\r\n     <use x=\"914.660156\" xlink:href=\"#DejaVuSans-100\"/>\r\n     <use x=\"978.136719\" xlink:href=\"#DejaVuSans-32\"/>\r\n     <use x=\"1009.923828\" xlink:href=\"#DejaVuSans-40\"/>\r\n     <use x=\"1048.9375\" xlink:href=\"#DejaVuSans-82\"/>\r\n     <use x=\"1118.419922\" xlink:href=\"#DejaVuSans-94\"/>\r\n     <use x=\"1202.208984\" xlink:href=\"#DejaVuSans-50\"/>\r\n     <use x=\"1265.832031\" xlink:href=\"#DejaVuSans-61\"/>\r\n     <use x=\"1349.621094\" xlink:href=\"#DejaVuSans-48\"/>\r\n     <use x=\"1413.244141\" xlink:href=\"#DejaVuSans-46\"/>\r\n     <use x=\"1445.03125\" xlink:href=\"#DejaVuSans-51\"/>\r\n     <use x=\"1508.654297\" xlink:href=\"#DejaVuSans-49\"/>\r\n     <use x=\"1572.277344\" xlink:href=\"#DejaVuSans-57\"/>\r\n     <use x=\"1635.900391\" xlink:href=\"#DejaVuSans-48\"/>\r\n     <use x=\"1699.523438\" xlink:href=\"#DejaVuSans-53\"/>\r\n     <use x=\"1763.146484\" xlink:href=\"#DejaVuSans-50\"/>\r\n     <use x=\"1826.769531\" xlink:href=\"#DejaVuSans-56\"/>\r\n     <use x=\"1890.392578\" xlink:href=\"#DejaVuSans-55\"/>\r\n     <use x=\"1954.015625\" xlink:href=\"#DejaVuSans-57\"/>\r\n     <use x=\"2017.638672\" xlink:href=\"#DejaVuSans-52\"/>\r\n     <use x=\"2081.261719\" xlink:href=\"#DejaVuSans-57\"/>\r\n     <use x=\"2144.884766\" xlink:href=\"#DejaVuSans-52\"/>\r\n     <use x=\"2208.507812\" xlink:href=\"#DejaVuSans-52\"/>\r\n     <use x=\"2272.130859\" xlink:href=\"#DejaVuSans-52\"/>\r\n     <use x=\"2335.753906\" xlink:href=\"#DejaVuSans-55\"/>\r\n     <use x=\"2399.376953\" xlink:href=\"#DejaVuSans-51\"/>\r\n     <use x=\"2463\" xlink:href=\"#DejaVuSans-32\"/>\r\n     <use x=\"2494.787109\" xlink:href=\"#DejaVuSans-41\"/>\r\n    </g>\r\n   </g>\r\n  </g>\r\n </g>\r\n <defs>\r\n  <clipPath id=\"p3b4010a9e9\">\r\n   <rect height=\"380.52\" width=\"558\" x=\"48.90125\" y=\"24.14175\"/>\r\n  </clipPath>\r\n </defs>\r\n</svg>\r\n",
      "image/png": "[encoded data removed]"
     },
     "metadata": {}
    }
   ],
   "metadata": {}
  },
  {
   "cell_type": "markdown",
   "source": [
    "# 3) ESML `Deploy model ONLINE` in `2 lines of code` (AKS) \n",
    "- Deploy \"offline\" MODEL from old `run` in environment To →  `DEV`, `TEST` or `PROD` environment\n",
    "- ESML saves `API_key in Azure keyvault automatically`\n",
    "- ESML auto-config solves 4 common 'errors/things': `correct compute name` and `valid replicas, valid agents, valid auto scaling`\n",
    "    - Tip: You can adjust the number of replicas, and different CPU/memory configuration, or using a different compute target."
   ],
   "metadata": {}
  },
  {
   "cell_type": "code",
   "execution_count": null,
   "source": [
    "p.dev_test_prod,p.ws.name"
   ],
   "outputs": [
    {
     "output_type": "execute_result",
     "data": {
      "text/plain": [
       "('dev', 'msft-weu-DEV-eap-proj02_ai-amls')"
      ]
     },
     "metadata": {},
     "execution_count": 4
    }
   ],
   "metadata": {}
  },
  {
   "cell_type": "code",
   "execution_count": null,
   "source": [
    "inference_config, model, best_run = p.get_active_model_inference_config(p.ws) #  Get compute power & lib-dependecies for DOCKER...for correct (Dev,Test or Prod) environment.\r\n",
    "service,api_uri, kv_aks_api_secret= p.deploy_automl_model_to_aks(model,inference_config,True) # True=Overwrite. Deploy: AKS dockerized with correct config (Dev,Test or Prod subscription & networking)"
   ],
   "outputs": [
    {
     "output_type": "stream",
     "name": "stdout",
     "text": [
      "Loading AutoML config settings from: dev\n",
      "Loading AutoML config settings from: dev\n",
      "WARNING:root:The version of the SDK does not match the version the model was trained on.\n",
      "WARNING:root:The consistency in the result may not be guaranteed.\n",
      "WARNING:root:Package:azureml-automl-core, training version:1.30.0, current version:1.26.0\n",
      "Package:azureml-automl-runtime, training version:1.30.0, current version:1.26.0\n",
      "Package:azureml-core, training version:1.30.0, current version:1.26.0\n",
      "Package:azureml-dataprep, training version:2.15.1, current version:2.13.2\n",
      "Package:azureml-dataprep-native, training version:33.0.0, current version:32.0.0\n",
      "Package:azureml-dataprep-rslex, training version:1.13.0, current version:1.11.2\n",
      "Package:azureml-dataset-runtime, training version:1.30.0, current version:1.26.0\n",
      "Package:azureml-defaults, training version:1.30.0, current version:1.26.0\n",
      "Package:azureml-interpret, training version:1.30.0, current version:1.26.0\n",
      "Package:azureml-pipeline-core, training version:1.30.0, current version:1.26.0\n",
      "Package:azureml-telemetry, training version:1.30.0, current version:1.26.0\n",
      "Package:azureml-train-automl-client, training version:1.30.0, current version:1.26.0\n",
      "Package:azureml-train-automl-runtime, training version:1.30.0, current version:1.26.0\n",
      "WARNING:root:Below packages were used for model training but missing in current environment:\n",
      "WARNING:root:Package:azureml-mlflow, training version:1.30.0\n",
      "WARNING:root:Please ensure the version of your local conda dependencies match the version on which your model was trained in order to properly retrieve your model.\n",
      "Deploying model: AutoML482d1ef770 with verison: 1 to environment: dev with overwrite_endpoint=True\n",
      "Note: OVERRIDING enterprise performance settings with project specifics. (to change, set flag in 'dev_test_prod_settings.json' -> override_enterprise_settings_with_model_specific=False)\n",
      "image_build_compute = prj02-m03-dev\n",
      "Note: OVERRIDING enterprise performance settings with project specifics. (to change, set flag in 'dev_test_prod_settings.json' -> override_enterprise_settings_with_model_specific=False)\n",
      "Found existing cluster, esml-dev-prj02, using it.\n",
      "Note: Autoscale_enabled=False, or since aks_dev_test=True in config, autoscaling is automatically shut off, e.g. overridden in config (since not supported) for environment dev\n",
      "Tips: You can try get_logs(): https://aka.ms/debugimage#dockerlog or local deployment: https://aka.ms/debugimage#debug-locally to debug if deployment takes longer than 10 minutes.\n",
      "Running\n",
      "2021-06-21 00:49:33+02:00 Creating Container Registry if not exists.\n",
      "2021-06-21 00:49:33+02:00 Registering the environment.\n",
      "2021-06-21 00:49:34+02:00 Use the existing image.\n",
      "2021-06-21 00:49:35+02:00 Creating resources in AKS.\n",
      "2021-06-21 00:49:36+02:00 Submitting deployment to compute.\n",
      "2021-06-21 00:49:36+02:00 Checking the status of deployment esml-dev-p02-m03-aksapi..\n",
      "2021-06-21 00:49:46+02:00 Checking the status of inference endpoint esml-dev-p02-m03-aksapi.\n",
      "Succeeded\n",
      "AKS service creation operation finished, operation \"Succeeded\"\n",
      "Healthy\n",
      "2021-06-20T22:49:39,770587823+00:00 - rsyslog/run \n",
      "2021-06-20T22:49:39,770967819+00:00 - iot-server/run \n",
      "2021-06-20T22:49:39,780923696+00:00 - gunicorn/run \n",
      "rsyslogd: /azureml-envs/azureml_9f1639e55483048380059c02b396daba/lib/libuuid.so.1: no version information available (required by rsyslogd)\n",
      "2021-06-20T22:49:39,792328156+00:00 - nginx/run \n",
      "/usr/sbin/nginx: /azureml-envs/azureml_9f1639e55483048380059c02b396daba/lib/libcrypto.so.1.0.0: no version information available (required by /usr/sbin/nginx)\n",
      "/usr/sbin/nginx: /azureml-envs/azureml_9f1639e55483048380059c02b396daba/lib/libcrypto.so.1.0.0: no version information available (required by /usr/sbin/nginx)\n",
      "/usr/sbin/nginx: /azureml-envs/azureml_9f1639e55483048380059c02b396daba/lib/libssl.so.1.0.0: no version information available (required by /usr/sbin/nginx)\n",
      "/usr/sbin/nginx: /azureml-envs/azureml_9f1639e55483048380059c02b396daba/lib/libssl.so.1.0.0: no version information available (required by /usr/sbin/nginx)\n",
      "/usr/sbin/nginx: /azureml-envs/azureml_9f1639e55483048380059c02b396daba/lib/libssl.so.1.0.0: no version information available (required by /usr/sbin/nginx)\n",
      "EdgeHubConnectionString and IOTEDGE_IOTHUBHOSTNAME are not set. Exiting...\n",
      "2021-06-20T22:49:39,868431622+00:00 - iot-server/finish 1 0\n",
      "2021-06-20T22:49:39,869873104+00:00 - Exit code 1 is normal. Not restarting iot-server.\n",
      "Starting gunicorn 20.1.0\n",
      "Listening at: http://127.0.0.1:31311 (10)\n",
      "Using worker: sync\n",
      "worker timeout is set to 300\n",
      "Booting worker with pid: 39\n",
      "SPARK_HOME not set. Skipping PySpark Initialization.\n",
      "Generating new fontManager, this may take some time...\n",
      "Initializing logger\n",
      "2021-06-20 22:49:41,218 | root | INFO | Starting up app insights client\n",
      "2021-06-20 22:49:41,218 | root | INFO | Starting up request id generator\n",
      "2021-06-20 22:49:41,218 | root | INFO | Starting up app insight hooks\n",
      "2021-06-20 22:49:41,218 | root | INFO | Invoking user's init function\n",
      "2021-06-20 22:49:43,628 | azureml.core | WARNING | Failure while loading azureml_run_type_providers. Failed to load entrypoint automl = azureml.train.automl.run:AutoMLRun._from_run_dto with exception cannot import name 'RunType'.\n",
      "Failure while loading azureml_run_type_providers. Failed to load entrypoint automl = azureml.train.automl.run:AutoMLRun._from_run_dto with exception cannot import name 'RunType'.\n",
      "2021-06-20 22:49:43,883 | root | INFO | Users's init has completed successfully\n",
      "2021-06-20 22:49:43,886 | root | INFO | Skipping middleware: dbg_model_info as it's not enabled.\n",
      "2021-06-20 22:49:43,886 | root | INFO | Skipping middleware: dbg_resource_usage as it's not enabled.\n",
      "2021-06-20 22:49:43,887 | root | INFO | Scoring timeout is found from os.environ: 300000 ms\n",
      "2021-06-20 22:49:46,787 | root | INFO | 200\n",
      "127.0.0.1 - - [20/Jun/2021:22:49:46 +0000] \"GET /swagger.json HTTP/1.0\" 200 2711 \"-\" \"hackney/1.17.4\"\n",
      "2021-06-20 22:49:53,371 | root | INFO | 200\n",
      "127.0.0.1 - - [20/Jun/2021:22:49:53 +0000] \"GET /swagger.json HTTP/1.0\" 200 2711 \"-\" \"hackney/1.17.4\"\n",
      "\n",
      "Deployed AKS Webservice: esml-dev-p02-m03-aksapi \n",
      "Webservice Uri: https://esmlcmn7skp17.westeurope.cloudapp.azure.com:443/api/v1/service/esml-dev-p02-m03-aksapi/score \n",
      "Webservice API_Secret are stored in keyvault with name: esml-dev-p02-m03-apisecret \n",
      "Webservice API_URI are stored in keyvault with name: esml-dev-p02-m03-api \n",
      "Webservice Swagger Uri: https://esmlcmn7skp17.westeurope.cloudapp.azure.com:443/api/v1/service/esml-dev-p02-m03-aksapi/swagger.json\n"
     ]
    }
   ],
   "metadata": {}
  },
  {
   "cell_type": "markdown",
   "source": [
    "## 3b) ESML Test AKS webservice, `2 lines of code`"
   ],
   "metadata": {}
  },
  {
   "cell_type": "code",
   "execution_count": null,
   "source": [
    "p.inference_mode = False # We want \"SCORING\" mode"
   ],
   "outputs": [],
   "metadata": {}
  },
  {
   "cell_type": "code",
   "execution_count": 6,
   "source": [
    "#p.connect_to_lake() # only needed if NOT p.init() is done\r\n",
    "X_test, y_test, tags = p.get_gold_validate_Xy() # Get the X_test data, ESML knows the SPLIT and LABEL already (due to training)\r\n",
    "print(tags)\r\n",
    "caller_id = \"91965d9c-40ca-4e47-9723-5a608a32a0e4\"\r\n",
    "\r\n",
    "df = p.call_webservice(p.ws, X_test,caller_id) # Auto-fetch key from keyvault, and calls the webservice\r\n",
    "df.head()"
   ],
   "outputs": [
    {
     "output_type": "stream",
     "name": "stdout",
     "text": [
      "Using GEN2 as Datastore\n",
      "M03_GOLD_VALIDATE : (23, 11)\n",
      "X_test  (23, 10)\n",
      "y_test  (23,)\n",
      "{'split_percentage': '0.2', 'label': 'Y', 'model': '03_diabetes_model_reg'}\n",
      "Note: OVERRIDING enterprise performance settings with project specifics. (to change, set flag in 'dev_test_prod_settings.json' -> override_enterprise_settings_with_model_specific=False)\n",
      "Note: Fetching keys automatically via workspace keyvault.\n",
      "Saving scoring to lake for project folder project002 and inference_model_version: 1 ...\n",
      "...\n",
      "\n",
      "Saved DATA to score successfully in LAKE, as file 'to_score_91965d9c-40ca-4e47-9723-5a608a32a0e4.parquet'\n",
      "Saved SCORED data in LAKE, as file 'scored_91965d9c-40ca-4e47-9723-5a608a32a0e4.parquet'\n"
     ]
    },
    {
     "output_type": "execute_result",
     "data": {
      "text/plain": [
       "        AGE       SEX       BMI        BP        S1        S2        S3  \\\n",
       "0  0.081666  0.050680 -0.002973 -0.033214  0.042462  0.057871 -0.010266   \n",
       "1  0.045341  0.050680  0.060618  0.031053  0.028702 -0.047347 -0.054446   \n",
       "2  0.070769 -0.044642 -0.005128 -0.005671  0.087868  0.102965  0.011824   \n",
       "3  0.052606  0.050680 -0.009439  0.049415  0.050717 -0.019163 -0.013948   \n",
       "4  0.045341  0.050680 -0.008362 -0.033214 -0.007073  0.001191 -0.039719   \n",
       "\n",
       "         S4        S5        S6      result  \n",
       "0  0.034309 -0.000609 -0.001078  117.230116  \n",
       "1  0.071210  0.133599  0.135612  235.206148  \n",
       "2  0.034309 -0.008944  0.027917  148.781108  \n",
       "3  0.034309  0.119344 -0.017646  179.976727  \n",
       "4  0.034309  0.029936  0.027917  190.217620  "
      ],
      "text/html": [
       "<div>\n",
       "<style scoped>\n",
       "    .dataframe tbody tr th:only-of-type {\n",
       "        vertical-align: middle;\n",
       "    }\n",
       "\n",
       "    .dataframe tbody tr th {\n",
       "        vertical-align: top;\n",
       "    }\n",
       "\n",
       "    .dataframe thead th {\n",
       "        text-align: right;\n",
       "    }\n",
       "</style>\n",
       "<table border=\"1\" class=\"dataframe\">\n",
       "  <thead>\n",
       "    <tr style=\"text-align: right;\">\n",
       "      <th></th>\n",
       "      <th>AGE</th>\n",
       "      <th>SEX</th>\n",
       "      <th>BMI</th>\n",
       "      <th>BP</th>\n",
       "      <th>S1</th>\n",
       "      <th>S2</th>\n",
       "      <th>S3</th>\n",
       "      <th>S4</th>\n",
       "      <th>S5</th>\n",
       "      <th>S6</th>\n",
       "      <th>result</th>\n",
       "    </tr>\n",
       "  </thead>\n",
       "  <tbody>\n",
       "    <tr>\n",
       "      <th>0</th>\n",
       "      <td>0.081666</td>\n",
       "      <td>0.050680</td>\n",
       "      <td>-0.002973</td>\n",
       "      <td>-0.033214</td>\n",
       "      <td>0.042462</td>\n",
       "      <td>0.057871</td>\n",
       "      <td>-0.010266</td>\n",
       "      <td>0.034309</td>\n",
       "      <td>-0.000609</td>\n",
       "      <td>-0.001078</td>\n",
       "      <td>117.230116</td>\n",
       "    </tr>\n",
       "    <tr>\n",
       "      <th>1</th>\n",
       "      <td>0.045341</td>\n",
       "      <td>0.050680</td>\n",
       "      <td>0.060618</td>\n",
       "      <td>0.031053</td>\n",
       "      <td>0.028702</td>\n",
       "      <td>-0.047347</td>\n",
       "      <td>-0.054446</td>\n",
       "      <td>0.071210</td>\n",
       "      <td>0.133599</td>\n",
       "      <td>0.135612</td>\n",
       "      <td>235.206148</td>\n",
       "    </tr>\n",
       "    <tr>\n",
       "      <th>2</th>\n",
       "      <td>0.070769</td>\n",
       "      <td>-0.044642</td>\n",
       "      <td>-0.005128</td>\n",
       "      <td>-0.005671</td>\n",
       "      <td>0.087868</td>\n",
       "      <td>0.102965</td>\n",
       "      <td>0.011824</td>\n",
       "      <td>0.034309</td>\n",
       "      <td>-0.008944</td>\n",
       "      <td>0.027917</td>\n",
       "      <td>148.781108</td>\n",
       "    </tr>\n",
       "    <tr>\n",
       "      <th>3</th>\n",
       "      <td>0.052606</td>\n",
       "      <td>0.050680</td>\n",
       "      <td>-0.009439</td>\n",
       "      <td>0.049415</td>\n",
       "      <td>0.050717</td>\n",
       "      <td>-0.019163</td>\n",
       "      <td>-0.013948</td>\n",
       "      <td>0.034309</td>\n",
       "      <td>0.119344</td>\n",
       "      <td>-0.017646</td>\n",
       "      <td>179.976727</td>\n",
       "    </tr>\n",
       "    <tr>\n",
       "      <th>4</th>\n",
       "      <td>0.045341</td>\n",
       "      <td>0.050680</td>\n",
       "      <td>-0.008362</td>\n",
       "      <td>-0.033214</td>\n",
       "      <td>-0.007073</td>\n",
       "      <td>0.001191</td>\n",
       "      <td>-0.039719</td>\n",
       "      <td>0.034309</td>\n",
       "      <td>0.029936</td>\n",
       "      <td>0.027917</td>\n",
       "      <td>190.217620</td>\n",
       "    </tr>\n",
       "  </tbody>\n",
       "</table>\n",
       "</div>"
      ]
     },
     "metadata": {},
     "execution_count": 6
    }
   ],
   "metadata": {}
  },
  {
   "cell_type": "markdown",
   "source": [
    "# From \"OFFILINE\": Test Scoring, without train, deploy, or ESMLProject.init()"
   ],
   "metadata": {}
  },
  {
   "cell_type": "code",
   "execution_count": 1,
   "source": [
    "import repackage\r\n",
    "repackage.add(\"../azure-enterprise-scale-ml/esml/common/\")\r\n",
    "from esml import ESMLDataset, ESMLProject\r\n",
    "\r\n",
    "p = ESMLProject() # Will search in ROOT for your copied SETTINGS folder '../../../settings', you should copy template settings from '../settings'\r\n",
    "p.inference_mode = True # We want \"TRAIN\" mode\r\n",
    "p.ws = p.get_workspace_from_config() #2) Load DEV or TEST or PROD Azure ML Studio workspace\r\n",
    "\r\n",
    "label = \"Y\"\r\n",
    "to_score = None\r\n",
    "try:\r\n",
    "    X_test = p.GoldTest.to_pandas_dataframe()\r\n",
    "    to_score = X_test.drop([label], axis=1)\r\n",
    "    print(to_score.head()) # gold_test_1 = Dataset.get_by_name(ws, name=p.dataset_gold_test_name_azure)\r\n",
    "except: \r\n",
    "    print (\"you need to have splitted GOLD dataset, GoldTest need to exist. Change next cell from MARKDOWN, to CODE, and run that. Try this again... \")"
   ],
   "outputs": [
    {
     "output_type": "stream",
     "name": "stdout",
     "text": [
      "        AGE       SEX       BMI        BP        S1        S2        S3  \\\n",
      "0  0.041708 -0.044642 -0.007284  0.028758 -0.042848 -0.048286  0.052322   \n",
      "1  0.059871  0.050680  0.022895  0.049415  0.016318  0.011838 -0.013948   \n",
      "2  0.041708  0.050680  0.071397  0.008101  0.038334  0.015909 -0.017629   \n",
      "3  0.041708  0.050680  0.012117  0.039087  0.054845  0.044406  0.004460   \n",
      "4  0.034443  0.050680  0.028284 -0.033214 -0.045599 -0.009769 -0.050764   \n",
      "\n",
      "         S4        S5        S6  \n",
      "0 -0.076395 -0.072128  0.023775  \n",
      "1 -0.002592  0.039540  0.019633  \n",
      "2  0.034309  0.073410  0.085907  \n",
      "3 -0.002592  0.045601 -0.001078  \n",
      "4 -0.002592 -0.059473 -0.021788  \n"
     ]
    }
   ],
   "metadata": {}
  },
  {
   "cell_type": "code",
   "execution_count": 2,
   "source": [
    "p.connect_to_lake() # only needed if NOT p.init() is done\n",
    "caller_id = \"91965d9c-40ca-4e47-9723-5a608a32a0e4\"\n",
    "df = p.call_webservice(p.ws, to_score,caller_id) # Auto-fetch key from keyvault, and calls the webservice\n",
    "df.head()"
   ],
   "outputs": [
    {
     "output_type": "stream",
     "name": "stdout",
     "text": [
      "Using GEN2 as Datastore\n",
      "Note: OVERRIDING enterprise performance settings with project specifics. (to change, set flag in 'dev_test_prod_settings.json' -> override_enterprise_settings_with_model_specific=False)\n",
      "Note: Fetching keys automatically via workspace keyvault.\n",
      "Saving scoring to lake for project folder project002 and inference_model_version: 1 ...\n",
      "...\n",
      "\n",
      "Saved DATA to score successfully in LAKE, as file 'to_score_91965d9c-40ca-4e47-9723-5a608a32a0e4.parquet'\n",
      "Saved SCORED data in LAKE, as file 'scored_91965d9c-40ca-4e47-9723-5a608a32a0e4.parquet'\n"
     ]
    },
    {
     "output_type": "execute_result",
     "data": {
      "text/plain": [
       "        AGE       SEX       BMI        BP        S1        S2        S3  \\\n",
       "0  0.041708 -0.044642 -0.007284  0.028758 -0.042848 -0.048286  0.052322   \n",
       "1  0.059871  0.050680  0.022895  0.049415  0.016318  0.011838 -0.013948   \n",
       "2  0.041708  0.050680  0.071397  0.008101  0.038334  0.015909 -0.017629   \n",
       "3  0.041708  0.050680  0.012117  0.039087  0.054845  0.044406  0.004460   \n",
       "4  0.034443  0.050680  0.028284 -0.033214 -0.045599 -0.009769 -0.050764   \n",
       "\n",
       "         S4        S5        S6      result  \n",
       "0 -0.076395 -0.072128  0.023775  154.320413  \n",
       "1 -0.002592  0.039540  0.019633  226.793287  \n",
       "2  0.034309  0.073410  0.085907  280.466728  \n",
       "3 -0.002592  0.045601 -0.001078  174.478831  \n",
       "4 -0.002592 -0.059473 -0.021788  183.854316  "
      ],
      "text/html": [
       "<div>\n",
       "<style scoped>\n",
       "    .dataframe tbody tr th:only-of-type {\n",
       "        vertical-align: middle;\n",
       "    }\n",
       "\n",
       "    .dataframe tbody tr th {\n",
       "        vertical-align: top;\n",
       "    }\n",
       "\n",
       "    .dataframe thead th {\n",
       "        text-align: right;\n",
       "    }\n",
       "</style>\n",
       "<table border=\"1\" class=\"dataframe\">\n",
       "  <thead>\n",
       "    <tr style=\"text-align: right;\">\n",
       "      <th></th>\n",
       "      <th>AGE</th>\n",
       "      <th>SEX</th>\n",
       "      <th>BMI</th>\n",
       "      <th>BP</th>\n",
       "      <th>S1</th>\n",
       "      <th>S2</th>\n",
       "      <th>S3</th>\n",
       "      <th>S4</th>\n",
       "      <th>S5</th>\n",
       "      <th>S6</th>\n",
       "      <th>result</th>\n",
       "    </tr>\n",
       "  </thead>\n",
       "  <tbody>\n",
       "    <tr>\n",
       "      <th>0</th>\n",
       "      <td>0.041708</td>\n",
       "      <td>-0.044642</td>\n",
       "      <td>-0.007284</td>\n",
       "      <td>0.028758</td>\n",
       "      <td>-0.042848</td>\n",
       "      <td>-0.048286</td>\n",
       "      <td>0.052322</td>\n",
       "      <td>-0.076395</td>\n",
       "      <td>-0.072128</td>\n",
       "      <td>0.023775</td>\n",
       "      <td>154.320413</td>\n",
       "    </tr>\n",
       "    <tr>\n",
       "      <th>1</th>\n",
       "      <td>0.059871</td>\n",
       "      <td>0.050680</td>\n",
       "      <td>0.022895</td>\n",
       "      <td>0.049415</td>\n",
       "      <td>0.016318</td>\n",
       "      <td>0.011838</td>\n",
       "      <td>-0.013948</td>\n",
       "      <td>-0.002592</td>\n",
       "      <td>0.039540</td>\n",
       "      <td>0.019633</td>\n",
       "      <td>226.793287</td>\n",
       "    </tr>\n",
       "    <tr>\n",
       "      <th>2</th>\n",
       "      <td>0.041708</td>\n",
       "      <td>0.050680</td>\n",
       "      <td>0.071397</td>\n",
       "      <td>0.008101</td>\n",
       "      <td>0.038334</td>\n",
       "      <td>0.015909</td>\n",
       "      <td>-0.017629</td>\n",
       "      <td>0.034309</td>\n",
       "      <td>0.073410</td>\n",
       "      <td>0.085907</td>\n",
       "      <td>280.466728</td>\n",
       "    </tr>\n",
       "    <tr>\n",
       "      <th>3</th>\n",
       "      <td>0.041708</td>\n",
       "      <td>0.050680</td>\n",
       "      <td>0.012117</td>\n",
       "      <td>0.039087</td>\n",
       "      <td>0.054845</td>\n",
       "      <td>0.044406</td>\n",
       "      <td>0.004460</td>\n",
       "      <td>-0.002592</td>\n",
       "      <td>0.045601</td>\n",
       "      <td>-0.001078</td>\n",
       "      <td>174.478831</td>\n",
       "    </tr>\n",
       "    <tr>\n",
       "      <th>4</th>\n",
       "      <td>0.034443</td>\n",
       "      <td>0.050680</td>\n",
       "      <td>0.028284</td>\n",
       "      <td>-0.033214</td>\n",
       "      <td>-0.045599</td>\n",
       "      <td>-0.009769</td>\n",
       "      <td>-0.050764</td>\n",
       "      <td>-0.002592</td>\n",
       "      <td>-0.059473</td>\n",
       "      <td>-0.021788</td>\n",
       "      <td>183.854316</td>\n",
       "    </tr>\n",
       "  </tbody>\n",
       "</table>\n",
       "</div>"
      ]
     },
     "metadata": {},
     "execution_count": 2
    }
   ],
   "metadata": {}
  },
  {
   "cell_type": "markdown",
   "source": [
    "# END"
   ],
   "metadata": {}
  },
  {
   "cell_type": "code",
   "execution_count": null,
   "source": [],
   "outputs": [],
   "metadata": {}
  }
 ],
 "metadata": {
  "kernelspec": {
   "name": "python3",
   "display_name": "Python 3.6.12 64-bit ('azure_automl': conda)"
  },
  "language_info": {
   "codemirror_mode": {
    "name": "ipython",
    "version": 3
   },
   "file_extension": ".py",
   "mimetype": "text/x-python",
   "name": "python",
   "nbconvert_exporter": "python",
   "pygments_lexer": "ipython3",
   "version": "3.6.12"
  },
  "interpreter": {
   "hash": "3fec2c5a411dce07235ef28c8752b6cecf1f94423de7e7c24e62fc38b1bc47de"
  }
 },
 "nbformat": 4,
 "nbformat_minor": 2
}