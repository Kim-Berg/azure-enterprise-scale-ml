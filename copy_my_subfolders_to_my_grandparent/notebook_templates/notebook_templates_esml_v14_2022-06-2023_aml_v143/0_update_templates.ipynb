{
 "cells": [
  {
   "cell_type": "code",
   "execution_count": 1,
   "metadata": {},
   "outputs": [],
   "source": [
    "import os\n",
    "import shutil\n",
    "def copy_and_overwrite_folder(source,target):\n",
    "    os.makedirs(os.path.dirname(target), exist_ok=True)\n",
    "    if os.path.exists(target):\n",
    "        shutil.rmtree(target)\n",
    "    shutil.copytree(source, target)"
   ]
  },
  {
   "cell_type": "markdown",
   "metadata": {},
   "source": [
    "# 1 A,B,C: Init 1st time (rarely)"
   ]
  },
  {
   "cell_type": "markdown",
   "metadata": {},
   "source": [
    "### 1 A) TODO - First copy by ESML core team: \n",
    "- 1-time thing to do."
   ]
  },
  {
   "cell_type": "code",
   "execution_count": null,
   "metadata": {},
   "outputs": [],
   "source": [
    "ent_dev_test_prod_source = \"\"\n",
    "ent_dev_test_prod_target = \"\""
   ]
  },
  {
   "cell_type": "code",
   "execution_count": null,
   "metadata": {},
   "outputs": [],
   "source": [
    "prj_security_source = \"\"\n",
    "prj_security_target = \"\"\n",
    "\n",
    "prj_model_source_lake_settings = \"\"\n",
    "prj_model_target_lake_settings = \"\""
   ]
  },
  {
   "cell_type": "markdown",
   "metadata": {},
   "source": [
    "### 1 B) TODO - ESML Project team: You might want to update these, `rarely`. 50% safe\n",
    "- Be sure to take a backup of YOUR automl settings first."
   ]
  },
  {
   "cell_type": "code",
   "execution_count": null,
   "metadata": {},
   "outputs": [],
   "source": [
    "prj_model_automl_settings = \"\"\n",
    "prj_model_automl_settings = \"\""
   ]
  },
  {
   "cell_type": "markdown",
   "metadata": {},
   "source": [
    "# 2 A,B,C,D MORE FREQUENTLY - Update notebook templates, pipeline templates, mlops template, bicep template\n",
    "- 2A: Notebook templates\n",
    "- 2B: Pipeline templates\n",
    "- 2C: mlops templates (only adding new ones, does not overwrote existing)\n",
    "- 2D: bicep templates (only fixing hard errors, breaking changes)"
   ]
  },
  {
   "cell_type": "markdown",
   "metadata": {},
   "source": [
    "### 2 A) Notebook templates: `100% safe`\n",
    "- If you have the latest of ESML, then these notebooks will work."
   ]
  },
  {
   "cell_type": "code",
   "execution_count": 13,
   "metadata": {},
   "outputs": [],
   "source": [
    "source_notebooks_quickstart = \"../azure-enterprise-scale-ml/copy_my_subfolders_to_my_grandparent/notebook_templates/1_quickstart/\"\n",
    "target_notebooks_quickstart = \"../notebook_templates_quickstart\"\n",
    "copy_and_overwrite_folder(source_notebooks_quickstart,target_notebooks_quickstart)"
   ]
  },
  {
   "cell_type": "markdown",
   "metadata": {},
   "source": [
    "### 2B) Pipeline templates: `90% safe`\n",
    "- - For IN_2_GOLD_TRAIN you then again need to call `p.get_all_envs()` and copy/paste that to the 'train_post_automl_step.py', set variable 'all_envs' to the output"
   ]
  },
  {
   "cell_type": "code",
   "execution_count": null,
   "metadata": {},
   "outputs": [],
   "source": [
    "source_templates = \"../azure-enterprise-scale-ml/copy_my_subfolders_to_my_grandparent/settings/enterprise_specific/dev_test_prod_defaults/batch/pipeline_template\"\n",
    "target_templates = \"../settings/enterprise_specific/dev_test_prod_defaults/batch/pipeline_template\"\n",
    "copy_and_overwrite_folder(source_templates,target_templates)"
   ]
  },
  {
   "cell_type": "markdown",
   "metadata": {},
   "source": [
    "## 2 A+B: Notebooks & Pipeline templates: `90% safe`\n",
    "- 90%: Since you need to regenerate the code to your snapshot-folder. \n",
    "    - For IN_2_GOLD_TRAIN you then again need to call `p.get_all_envs()` and copy/paste that to the 'train_post_automl_step.py', set variable 'all_envs' to the output"
   ]
  },
  {
   "cell_type": "code",
   "execution_count": null,
   "metadata": {},
   "outputs": [],
   "source": [
    "source_notebooks_quickstart = \"../azure-enterprise-scale-ml/copy_my_subfolders_to_my_grandparent/notebook_templates/1_quickstart/\"\n",
    "target_notebooks_quickstart = \"../notebook_templates_quickstart\"\n",
    "copy_and_overwrite_folder(source_notebooks_quickstart,target_notebooks_quickstart)\n",
    "\n",
    "source_templates = \"../azure-enterprise-scale-ml/copy_my_subfolders_to_my_grandparent/settings/enterprise_specific/dev_test_prod_defaults/batch/pipeline_template\"\n",
    "target_templates = \"../settings/enterprise_specific/dev_test_prod_defaults/batch/pipeline_template\"\n",
    "copy_and_overwrite_folder(source_templates,target_templates)"
   ]
  },
  {
   "cell_type": "markdown",
   "metadata": {},
   "source": [
    "### 2 C) mlops template"
   ]
  },
  {
   "cell_type": "code",
   "execution_count": null,
   "metadata": {},
   "outputs": [],
   "source": [
    "\n",
    "source_templates = \"../azure-enterprise-scale-ml/copy_my_subfolders_to_my_grandparent/notebook_templates/mlops/01_template_v14\"\n",
    "target_templates = \"../mlops/01_template_v14\"\n",
    "copy_and_overwrite_folder(source_templates,target_templates)"
   ]
  },
  {
   "cell_type": "markdown",
   "metadata": {},
   "source": [
    "### 2 D) bicep core (not your local config)\n",
    "- This is nod needed to be updated. \n",
    "- You will always run against the latest central ESML repo. (Analogy: Same way as the ESML runtime SDK)"
   ]
  },
  {
   "cell_type": "markdown",
   "metadata": {},
   "source": [
    "### 2 E) bicep config (your local config) \n",
    "- NB! `backup your config first`"
   ]
  },
  {
   "cell_type": "code",
   "execution_count": null,
   "metadata": {},
   "outputs": [],
   "source": [
    "source_templates = \"../azure-enterprise-scale-ml/environment_setup/aifactory/bicep/config-template-copy-to-bicep-ph\"\n",
    "target_templates = \"../aifactory/bicep/config-template-copy-to-bicep-ph\"\n",
    "copy_and_overwrite_folder(source_templates,target_templates)"
   ]
  },
  {
   "cell_type": "markdown",
   "metadata": {},
   "source": [
    "### 2 F) Azure Data factory (DataOps)"
   ]
  },
  {
   "cell_type": "code",
   "execution_count": null,
   "metadata": {},
   "outputs": [],
   "source": [
    "source_templates = \"../azure-enterprise-scale-ml/copy_my_subfolders_to_my_grandparent/adf/v1_3\"\n",
    "target_templates = \"../adf/v1_3\"\n",
    "copy_and_overwrite_folder(source_templates,target_templates)"
   ]
  },
  {
   "cell_type": "markdown",
   "metadata": {},
   "source": [
    "### 2 G) Azure Databricks - ESML SDK Pyspark notebooks\n",
    "- This is nod needed to be updated. \n",
    "- You will always run against the latest central ESML repo. (Analogy: Same way as the ESML runtime SDK)\n"
   ]
  },
  {
   "cell_type": "markdown",
   "metadata": {},
   "source": [
    "# 3a) Datalake design structure - TODO\n",
    "- It is not possible today to automatically update the ESML datalake design\n",
    "- This is extremely rarely done. Example: Have not update the ESML lake design in 2 years."
   ]
  },
  {
   "cell_type": "markdown",
   "metadata": {},
   "source": [
    "### 3b) Datalake design ACL - TODO\n",
    "- To be announces. This is a highly seeked ESML feature.\n",
    "- INPUT: project number, service principle OID and AD users\n",
    "- OUTPUT/RESULT: The person and service principle gets correct ACL (sets via powershell) to the folder in the datalake, e.g. access to THEIR project folder."
   ]
  }
 ],
 "metadata": {
  "kernelspec": {
   "display_name": "Python 3.8.13 ('azure_automl_esml_v144')",
   "language": "python",
   "name": "python3"
  },
  "language_info": {
   "codemirror_mode": {
    "name": "ipython",
    "version": 3
   },
   "file_extension": ".py",
   "mimetype": "text/x-python",
   "name": "python",
   "nbconvert_exporter": "python",
   "pygments_lexer": "ipython3",
   "version": "3.8.13"
  },
  "orig_nbformat": 4,
  "vscode": {
   "interpreter": {
    "hash": "a4a3f6f829c0fbf992fdd78de6ec4e694e293d154a9b96895f90a426de0ee97e"
   }
  }
 },
 "nbformat": 4,
 "nbformat_minor": 2
}
