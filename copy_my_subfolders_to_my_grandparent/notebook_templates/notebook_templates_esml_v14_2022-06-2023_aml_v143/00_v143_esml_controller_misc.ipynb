{
 "cells": [
  {
   "cell_type": "code",
   "execution_count": null,
   "metadata": {},
   "outputs": [
    {
     "name": "stdout",
     "output_type": "stream",
     "text": [
      "Using lake_settings.json with ESML version 1.4 - Models array support including LABEL\n",
      "Using GEN2 as Datastore\n",
      "Searching for setting in ESML datalake...\n",
      "ESML in-folder settings override = TRUE \n",
      " - Found settings in the ESML AutoLake  [active_in_folder.json,active_scoring_in_folder.json], to override ArgParse/GIT config with.\n",
      " - TRAIN in date:  1000/01/01\n",
      " - INFERENCE in date: 2021/06/08 and ModelVersion to score with: 1 (0=latest)\n"
     ]
    },
    {
     "data": {
      "text/plain": [
       "<azureml.data.azure_data_lake_datastore.AzureDataLakeGen2Datastore at 0x1b37d956040>"
      ]
     },
     "execution_count": 1,
     "metadata": {},
     "output_type": "execute_result"
    }
   ],
   "source": [
    "import sys\n",
    "sys.path.insert(0, \"../azure-enterprise-scale-ml/esml/common/\")\n",
    "from esml import ESMLProject\n",
    "import pandas as pd\n",
    "from azureml.core.authentication import InteractiveLoginAuthentication\n",
    "\n",
    "p = ESMLProject() # Your project settings - knows Azure services, networking, lakedesign, identity mgmt, security, etc\n",
    "p.inference_mode = False\n",
    "\n",
    "auth = InteractiveLoginAuthentication(tenant_id = p.tenant)\n",
    "#auth = InteractiveLoginAuthentication(force=True, tenant_id = p.tenant)\n",
    "ws, config_name = p.authenticate_workspace_and_write_config(auth)\n",
    "\n",
    "p.active_model = 11\n",
    "p.ws = p.get_workspace_from_config() #2) Load DEV or TEST or PROD Azure ML Studio workspace\n",
    "p.connect_to_lake()"
   ]
  },
  {
   "cell_type": "code",
   "execution_count": null,
   "metadata": {},
   "outputs": [],
   "source": [
    "import sys\n",
    "sys.path.insert(0, \"../2_A_aml_pipeline/4_inference/batch/M11/\")\n",
    "\n",
    "from esmlrt.interfaces.iESMLController import IESMLController\n",
    "from esmlrt.interfaces.iESMLModelCompare import IESMLModelCompare\n",
    "from esmlrt.interfaces.iESMLTestScoringFactory import IESMLTestScoringFactory\n",
    "from esmlrt.interfaces.iESMLTrainer import IESMLTrainer\n",
    "\n",
    "from esmlrt.runtime.ESMLController import ESMLController\n",
    "from esmlrt.runtime.ESMLModelCompare2 import ESMLModelCompare\n",
    "from esmlrt.runtime.ESMLTestScoringFactory2 import ESMLTestScoringFactory\n",
    "from your_code.your_train_code import Trainer"
   ]
  },
  {
   "cell_type": "code",
   "execution_count": null,
   "metadata": {},
   "outputs": [
    {
     "name": "stdout",
     "output_type": "stream",
     "text": [
      "...\n"
     ]
    }
   ],
   "source": [
    "ws = p.ws\n",
    "target_column_name = p.active_model[\"label\"]\n",
    "ml_type = p.active_model[\"ml_type\"]\n",
    "esml_modelname = p.model_folder_name\n",
    "esml_model_alias = p.ModelAlias\n",
    "esml_current_env  = p.dev_test_prod\n",
    "train_ds = p.GoldTrain\n",
    "validate_ds = p.GoldValidate\n",
    "test_ds = p.GoldTest\n",
    "\n",
    "secret_name_tenant = \"kv-msft-weu-dev-cmnai-tenant\"\n",
    "secret_name_sp_id = \"kv-secret-esml-project002-sp-id\"\n",
    "secret_name_sp_secret = \"kv-secret-esml-project002-sp-secret\"\n",
    "\n",
    "test_scoring = ESMLTestScoringFactory(ml_type) # You need to implement IESMLTestScoringFactory\n",
    "comparer = ESMLModelCompare(setting_path = \"\") # You need to implement IESMLModelCompare\n",
    "\n",
    "controller = ESMLController(comparer,test_scoring,\"project002\",esml_modelname, esml_model_alias, secret_name_tenant,secret_name_sp_id,secret_name_sp_secret ) # IESMLController: you do not have to change/implemen this class. Dependency injects default or your class.\n",
    "controller.dev_test_prod = esml_current_env\n",
    "controller.version()"
   ]
  },
  {
   "cell_type": "code",
   "execution_count": 8,
   "metadata": {},
   "outputs": [
    {
     "data": {
      "text/plain": [
       "'11_diabetes_model_reg'"
      ]
     },
     "execution_count": 8,
     "metadata": {},
     "output_type": "execute_result"
    }
   ],
   "source": [
    "controller.experiment_name"
   ]
  },
  {
   "cell_type": "code",
   "execution_count": 9,
   "metadata": {},
   "outputs": [
    {
     "name": "stdout",
     "output_type": "stream",
     "text": [
      "source_best_run.properties['model_name'] is: 8b7c996f69374470\n",
      "TARGET is in the same Azure ML Studio workspace as SOURCE, comparing with latest registered model...\n",
      "TIME: Model list LAMBDA FILTER, on experiment_name 11_diabetes_model_reg\n",
      "TIME: FILTER ModelList:\n",
      "Minutes: 3.801051127910614\n",
      "target_best_run_id fe8a33f4-5650-4650-9947-240e338b1650\n",
      "New trained model & cached RUN, has TASK_TYPE: regression and Best_Run_id: 8b7c996f-6937-4470-a42b-7e59d91f6d49_0\n",
      "Target model & RUN, in Azure ML Studio workspace to compare with, has TASK_TYPE: regression and Best_Run_id:8b7c996f-6937-4470-a42b-7e59d91f6d49_0 \n",
      "\n",
      "Q: Do we have SCORING DRIFT / CONCEPT DRIFT? - Is a model trained on NEW data better? = the one in production degraded?\n",
      "\n",
      "New trained model: model id 11_diabetes_model_reg:13\n",
      "INFO: Using ESML TEST_SET SCORING, since tagged on MODEL - using this to compare SCORING\n",
      "RMSE (normalized_root_mean_squared_error): 56.501912\n",
      "MAPE (Mean average Percentage Error): 0.339886\n",
      "MAE (normalized_mean_absolute_error): -1\n",
      "R2 (r2_score): 0.426615\n",
      "Spearman (spearman_correlation): 0.649199\n",
      "\n",
      "Target model, to compare with. model id 11_diabetes_model_reg:12\n",
      "INFO: Using ESML TEST_SET SCORING, since tagged on MODEL - using this to compare SCORING\n",
      "RMSE (normalized_root_mean_squared_error): 56.501912\n",
      "MAPE (Mean average Percentage Error): 0.339886\n",
      "MAE (normalized_mean_absolute_error): -1\n",
      "R2 (r2_score): 0.426615\n",
      "Spearman (spearman_correlation): 0.649199\n",
      "\n",
      "Selected metrics, and weights, to be used when comparing for promotion/scoring drift\n",
      "Metric weight: RMSE_promote_weight is 0.0200\n",
      "Metric VALUE (incl. weight) 56.4819 (without weight:  56.5019)\n",
      "\n",
      "Metric weight: R2_promote_weight is -0.0010\n",
      "Metric VALUE (incl. weight) 0.4276 (without weight:  0.4266)\n",
      "\n",
      "Metric weight: Spearman_promote_weight is -0.0010\n",
      "Metric VALUE (incl. weight) 0.6502 (without weight:  0.6492)\n",
      "\n",
      "\n",
      "Promote model = True\n"
     ]
    }
   ],
   "source": [
    "from azureml.train.automl.run import AutoMLRun\n",
    "\n",
    "automl_step_run_id = '8b7c996f-6937-4470-a42b-7e59d91f6d49'\n",
    "\n",
    "experiment_run = ws.experiments[controller.experiment_name] # Get the experiment. Alternatively: Experiment(workspace=source_workspace, name=experiment_name)\n",
    "automl_step_run = AutoMLRun(experiment_run, run_id = automl_step_run_id)\n",
    "best_run, fitted_model_1 = automl_step_run.get_output()\n",
    "\n",
    "promote_new_model,source_model_name,new_run_id,target_model_name, target_best_run_id,target_workspace,source_model = comparer.compare_scoring_current_vs_new_model(\n",
    "    new_run_id = automl_step_run_id, # main_run.id,\n",
    "    current_ws = ws,\n",
    "    current_environment = esml_current_env,\n",
    "    target_environment = esml_current_env,\n",
    "    target_workspace = ws,\n",
    "    experiment_name = controller.experiment_name)"
   ]
  },
  {
   "cell_type": "code",
   "execution_count": 9,
   "metadata": {},
   "outputs": [
    {
     "name": "stdout",
     "output_type": "stream",
     "text": [
      "esml_newly_trained\n"
     ]
    }
   ],
   "source": [
    "print(IESMLController.esml_status_new)"
   ]
  },
  {
   "cell_type": "code",
   "execution_count": 10,
   "metadata": {},
   "outputs": [
    {
     "data": {
      "text/plain": [
       "'dev'"
      ]
     },
     "execution_count": 10,
     "metadata": {},
     "output_type": "execute_result"
    }
   ],
   "source": [
    "controller.dev_test_prod"
   ]
  },
  {
   "cell_type": "markdown",
   "metadata": {},
   "source": [
    "# Get BEST MODEL"
   ]
  },
  {
   "cell_type": "code",
   "execution_count": 10,
   "metadata": {},
   "outputs": [
    {
     "name": "stdout",
     "output_type": "stream",
     "text": [
      "     ###    \n",
      "Experiment: 11_diabetes_model_reg\n",
      "Pipeline RUN: 67eb1b80-b1b3-4c63-a33e-f94c523fb157\n",
      "Best RUN: None\n",
      "...and...\n",
      "AML Model() <class 'NoneType'>\n",
      "Fitted model <class 'NoneType'>\n"
     ]
    }
   ],
   "source": [
    "experiment, model,main_run, best_automl_run,fitted_model = controller.get_latest_run_via_PipelineMetaDataset(ws,controller.experiment_name, controller.dataset_gold_train_runinfo_name_azure)\n",
    "print(\"     ###    \")\n",
    "print(\"Experiment:\", experiment.name)\n",
    "print(\"Pipeline RUN:\", main_run.id)\n",
    "print(\"Best RUN:\",best_automl_run)\n",
    "print (\"...and...\")\n",
    "\n",
    "print(\"AML Model()\", type(model))\n",
    "print(\"Fitted model\", type(fitted_model))"
   ]
  },
  {
   "cell_type": "code",
   "execution_count": 11,
   "metadata": {},
   "outputs": [
    {
     "data": {
      "text/html": [
       "<table style=\"width:100%\"><tr><th>Experiment</th><th>Id</th><th>Type</th><th>Status</th><th>Details Page</th><th>Docs Page</th></tr><tr><td>11_diabetes_model_reg</td><td>67eb1b80-b1b3-4c63-a33e-f94c523fb157</td><td>azureml.PipelineRun</td><td>Completed</td><td><a href=\"https://ml.azure.com/runs/67eb1b80-b1b3-4c63-a33e-f94c523fb157?wsid=/subscriptions/ca0a8c40-b06a-4e4e-8434-63c03a1dee34/resourcegroups/MSFT-WEU-EAP_PROJECT02_AI-DEV-RG/workspaces/msft-weu-DEV-eap-proj02_ai-amls&amp;tid=72f988bf-86f1-41af-91ab-2d7cd011db47\" target=\"_blank\" rel=\"noopener\">Link to Azure Machine Learning studio</a></td><td><a href=\"https://docs.microsoft.com/en-us/python/api/overview/azure/ml/intro?view=azure-ml-py\" target=\"_blank\" rel=\"noopener\">Link to Documentation</a></td></tr></table>"
      ],
      "text/plain": [
       "Run(Experiment: 11_diabetes_model_reg,\n",
       "Id: 67eb1b80-b1b3-4c63-a33e-f94c523fb157,\n",
       "Type: azureml.PipelineRun,\n",
       "Status: Completed)"
      ]
     },
     "execution_count": 11,
     "metadata": {},
     "output_type": "execute_result"
    }
   ],
   "source": [
    "main_run"
   ]
  },
  {
   "cell_type": "code",
   "execution_count": null,
   "metadata": {},
   "outputs": [],
   "source": []
  },
  {
   "cell_type": "code",
   "execution_count": 11,
   "metadata": {},
   "outputs": [
    {
     "name": "stdout",
     "output_type": "stream",
     "text": [
      "11_diabetes_model_reg\n",
      "AutoML7e64144860\n",
      "AutoML_7e641448-6917-4096-a793-186b3090d58f\n",
      "09/02/2022, 23:30:26\n",
      "...and...\n",
      "<class 'azureml.core.run.Run'>\n",
      "<class 'azureml.automl.runtime.shared.model_wrappers.RegressionPipeline'>\n"
     ]
    }
   ],
   "source": [
    "experiment, model,main_run, best_run,fitted_model = IESMLController.get_best_model_run_fitted_model_Dev(ws,controller.experiment_name)\n",
    "print(experiment.name)\n",
    "print(model.name)\n",
    "print(main_run.id)\n",
    "try:\n",
    "    print(model.tags['esml_time_updated'])\n",
    "except:\n",
    "    print(\"Not an ESML registered model..\")\n",
    "    \n",
    "print (\"...and...\")\n",
    "print(type(best_run))\n",
    "print(type(fitted_model))"
   ]
  },
  {
   "cell_type": "code",
   "execution_count": 11,
   "metadata": {},
   "outputs": [
    {
     "name": "stdout",
     "output_type": "stream",
     "text": [
      "Searching model - LOOPING the experiment to match name (1st time thing, since no tags)\n",
      "Could not find tags, run_id or model_name on latest_model\n"
     ]
    },
    {
     "ename": "AttributeError",
     "evalue": "'NoneType' object has no attribute 'name'",
     "output_type": "error",
     "traceback": [
      "\u001b[1;31m---------------------------------------------------------------------------\u001b[0m",
      "\u001b[1;31mAttributeError\u001b[0m                            Traceback (most recent call last)",
      "\u001b[1;32mc:\\Users\\jostrm\\OneDrive - Microsoft\\0_GIT\\2_My\\github\\azure-enterprise-scale-ml\\notebook_templates_esml_v14_2022-06-2023_aml_v143\\00_v143_esml_unit_tests_01.ipynb Cell 16\u001b[0m in \u001b[0;36m<cell line: 2>\u001b[1;34m()\u001b[0m\n\u001b[0;32m      <a href='vscode-notebook-cell:/c%3A/Users/jostrm/OneDrive%20-%20Microsoft/0_GIT/2_My/github/azure-enterprise-scale-ml/notebook_templates_esml_v14_2022-06-2023_aml_v143/00_v143_esml_unit_tests_01.ipynb#X61sZmlsZQ%3D%3D?line=0'>1</a>\u001b[0m experiment, model,main_run, best_run,fitted_model \u001b[39m=\u001b[39m IESMLController\u001b[39m.\u001b[39mget_best_model_run_fitted_model_Dev(ws,\u001b[39m\"\u001b[39m\u001b[39m11_diabetes_model_reg_pipe_IN_2_GOLD_TRAIN\u001b[39m\u001b[39m\"\u001b[39m)\n\u001b[1;32m----> <a href='vscode-notebook-cell:/c%3A/Users/jostrm/OneDrive%20-%20Microsoft/0_GIT/2_My/github/azure-enterprise-scale-ml/notebook_templates_esml_v14_2022-06-2023_aml_v143/00_v143_esml_unit_tests_01.ipynb#X61sZmlsZQ%3D%3D?line=1'>2</a>\u001b[0m \u001b[39mprint\u001b[39m(experiment\u001b[39m.\u001b[39;49mname)\n\u001b[0;32m      <a href='vscode-notebook-cell:/c%3A/Users/jostrm/OneDrive%20-%20Microsoft/0_GIT/2_My/github/azure-enterprise-scale-ml/notebook_templates_esml_v14_2022-06-2023_aml_v143/00_v143_esml_unit_tests_01.ipynb#X61sZmlsZQ%3D%3D?line=2'>3</a>\u001b[0m \u001b[39mprint\u001b[39m(model\u001b[39m.\u001b[39mname)\n\u001b[0;32m      <a href='vscode-notebook-cell:/c%3A/Users/jostrm/OneDrive%20-%20Microsoft/0_GIT/2_My/github/azure-enterprise-scale-ml/notebook_templates_esml_v14_2022-06-2023_aml_v143/00_v143_esml_unit_tests_01.ipynb#X61sZmlsZQ%3D%3D?line=3'>4</a>\u001b[0m \u001b[39mprint\u001b[39m(main_run\u001b[39m.\u001b[39mid)\n",
      "\u001b[1;31mAttributeError\u001b[0m: 'NoneType' object has no attribute 'name'"
     ]
    }
   ],
   "source": [
    "experiment, model,main_run, best_run,fitted_model = IESMLController.get_best_model_run_fitted_model_Dev(ws,controller.experiment_name)\n",
    "print(experiment.name)\n",
    "print(model.name)\n",
    "print(main_run.id)\n",
    "try:\n",
    "    print(model.tags['esml_time_updated'])\n",
    "except:\n",
    "    print(\"Not an ESML registered model..\")\n",
    "    \n",
    "print (\"...and...\")\n",
    "print(type(best_run))\n",
    "print(type(fitted_model))"
   ]
  },
  {
   "cell_type": "code",
   "execution_count": null,
   "metadata": {},
   "outputs": [
    {
     "name": "stdout",
     "output_type": "stream",
     "text": [
      "TIME: Model list LAMBDA FILTER, on experiment_name 11_diabetes_model_reg\n",
      "TIME: FILTER ModelList:\n",
      "Minutes: 4.0634996096293134\n",
      "AutoML00b58dfed0\n",
      "AutoML_00b58dfe-dbaa-45d9-81c1-60e038b969af\n",
      "AutoML00b58dfed0\n",
      "17\n",
      "2022-08-17 15:33:03.977037+00:00\n",
      "Not an ESML registered model..\n",
      "model_highest_version.run is None: False\n"
     ]
    }
   ],
   "source": [
    "model_highest_version, run_id_tag, model_name_tag = IESMLController.get_best_model_via_modeltags_only_DevTestProd(ws,controller.experiment_name,filter_on_version=None,sort_by_created_instead_of_version=False) # 3:39 LAMBDA\n",
    "print(model_highest_version.name)\n",
    "print(run_id_tag)\n",
    "print(model_name_tag)\n",
    "# 4.24 Datetime sort\n",
    "try:\n",
    "    print(model_highest_version.version) # AutoML00b58dfed0 (v17) (manual run) VS 11_diabetes_model_reg(v 11) -> Both are TAGGED with experiment_name=11_diabetes_model_reg\n",
    "    print(model_highest_version.created_time)\n",
    "    print(model_highest_version.tags['esml_time_updated'])\n",
    "except:\n",
    "    print(\"Not an ESML registered model..\")\n",
    "\n",
    "print(\"model_highest_version.run is None: {}\".format((model_highest_version.run is None)))"
   ]
  },
  {
   "cell_type": "code",
   "execution_count": null,
   "metadata": {},
   "outputs": [
    {
     "name": "stdout",
     "output_type": "stream",
     "text": [
      "17\n",
      "{'userObjectId': 'cf4dc094-c020-47f5-b76f-d8de4d17f44c', 'userIdp': 'https://sts.windows.net/72f988bf-86f1-41af-91ab-2d7cd011db47/', 'userIss': 'https://sts.windows.net/72f988bf-86f1-41af-91ab-2d7cd011db47/', 'userTenantId': '72f988bf-86f1-41af-91ab-2d7cd011db47', 'userName': '9b8fdad2-fbeb-488e-b0b9-40dfe5a1ea5e'}\n"
     ]
    }
   ],
   "source": [
    "from azureml.core import Model\n",
    "all_models = Model.list(workspace=ws)\n",
    "filtered_list = list(filter(lambda r: (r.tags.get(\"experiment_name\") == controller.experiment_name), all_models))\n",
    "\n",
    "filtered_list.sort(key=lambda r: r.version,reverse=True)\n",
    "            \n",
    "if (len(filtered_list) > 0): # IF we found any...\n",
    "    model_highest_version = filtered_list[0]\n",
    "\n",
    "print(model_highest_version.version)\n",
    "print(model_highest_version.created_time)"
   ]
  },
  {
   "cell_type": "code",
   "execution_count": 17,
   "metadata": {},
   "outputs": [
    {
     "name": "stdout",
     "output_type": "stream",
     "text": [
      "2022-08-17 15:33:03.977037+00:00\n"
     ]
    }
   ],
   "source": [
    "print(model_highest_version.created_time)"
   ]
  },
  {
   "cell_type": "markdown",
   "metadata": {},
   "source": [
    "# get TEST SCORING"
   ]
  },
  {
   "cell_type": "code",
   "execution_count": 17,
   "metadata": {},
   "outputs": [
    {
     "name": "stdout",
     "output_type": "stream",
     "text": [
      "<class 'azureml.train.automl.run.AutoMLRun'>\n"
     ]
    }
   ],
   "source": [
    "#  label,ws, GoldTest, model, fitted_model, source_best_run/run\n",
    "experiment, model,main_run, best_automl_run,fitted_model = IESMLController.get_best_model_run_fitted_model_Dev(ws,controller.experiment_name)"
   ]
  },
  {
   "cell_type": "code",
   "execution_count": 18,
   "metadata": {},
   "outputs": [
    {
     "data": {
      "text/plain": [
       "'AutoML00b58dfed0'"
      ]
     },
     "execution_count": 18,
     "metadata": {},
     "output_type": "execute_result"
    }
   ],
   "source": [
    "best_automl_run.properties['model_name']"
   ]
  },
  {
   "cell_type": "code",
   "execution_count": 19,
   "metadata": {},
   "outputs": [
    {
     "data": {
      "text/plain": [
       "azureml.automl.runtime.shared.model_wrappers.RegressionPipeline"
      ]
     },
     "execution_count": 19,
     "metadata": {},
     "output_type": "execute_result"
    }
   ],
   "source": [
    "type(fitted_model)"
   ]
  },
  {
   "cell_type": "code",
   "execution_count": 20,
   "metadata": {},
   "outputs": [
    {
     "name": "stdout",
     "output_type": "stream",
     "text": [
      "Replacing tag run_id -> AutoML_00b58dfe-dbaa-45d9-81c1-60e038b969af with run_id -> AutoML_00b58dfe-dbaa-45d9-81c1-60e038b969af\n",
      "Replacing tag model_name -> AutoML00b58dfed0 with model_name -> AutoML00b58dfed0\n",
      "Replacing tag trained_in_environment -> dev with trained_in_environment -> dev\n",
      "Replacing tag trained_in_workspace -> msft-weu-DEV-eap-proj02_ai-amls with trained_in_workspace -> msft-weu-DEV-eap-proj02_ai-amls\n",
      "Replacing tag experiment_name -> 11_diabetes_model_reg with experiment_name -> 11_diabetes_model_reg\n",
      "Replacing tag test_set_RMSE -> 57.085702 with test_set_RMSE -> 57.085702\n",
      "Replacing tag test_set_R2 -> 0.321046 with test_set_R2 -> 0.321046\n",
      "Replacing tag test_set_MAPE -> 0.272820 with test_set_MAPE -> 0.272820\n",
      "Replacing tag test_set_Spearman_Correlation -> 0.593598 with test_set_Spearman_Correlation -> 0.593598\n",
      "Replacing tag esml_time_updated -> 08/17/2022, 17:30:56 with esml_time_updated -> 08/17/2022, 17:30:56\n",
      "Model tag add operation complete.\n"
     ]
    },
    {
     "data": {
      "image/png": "[encoded data removed]",
      "text/plain": [
       "<Figure size 720x504 with 1 Axes>"
      ]
     },
     "metadata": {},
     "output_type": "display_data"
    }
   ],
   "source": [
    "rmse, r2, mean_abs_percent_error,mae,spearman_correlation,plt, dummy = test_scoring.get_test_scoring_8(ws,target_column_name,test_ds,fitted_model,best_automl_run,model)"
   ]
  },
  {
   "cell_type": "markdown",
   "metadata": {},
   "source": [
    "# REGISTER model in DEV"
   ]
  },
  {
   "cell_type": "code",
   "execution_count": 21,
   "metadata": {},
   "outputs": [
    {
     "name": "stdout",
     "output_type": "stream",
     "text": [
      "<class 'azureml.train.automl.run.AutoMLRun'>\n"
     ]
    }
   ],
   "source": [
    "experiment, model2,main_run, best_automl_run,fitted_model = IESMLController.get_best_model_run_fitted_model_Dev(ws,controller.experiment_name) # Get model again"
   ]
  },
  {
   "cell_type": "code",
   "execution_count": 22,
   "metadata": {},
   "outputs": [
    {
     "name": "stdout",
     "output_type": "stream",
     "text": [
      "Connecting to env: dev\n",
      "- ws name: msft-weu-DEV-eap-proj02_ai-amls\n",
      "- self._secret_name_tenant: kv-msft-weu-dev-cmnai-tenant\n",
      "- self._secret_name_project_sp_id: kv-secret-esml-project002-sp-id\n",
      "- self._secret_name_project_sp_secret: kv-secret-esml-project002-sp-secret\n",
      "Connecting to env: dev\n",
      "- ws name: msft-weu-DEV-eap-proj02_ai-amls\n",
      "- self._secret_name_tenant: kv-msft-weu-dev-cmnai-tenant\n",
      "- self._secret_name_project_sp_id: kv-secret-esml-project002-sp-id\n",
      "- self._secret_name_project_sp_secret: kv-secret-esml-project002-sp-secret\n",
      "<class 'azureml.train.automl.run.AutoMLRun'>\n",
      "model.version 16\n",
      "Model name AutoML00b58dfed0 is registered.\n"
     ]
    }
   ],
   "source": [
    "model_registered_in_target = controller.register_model(source_ws=ws, target_env=\"dev\", source_model_to_copy_tags_from=model2)"
   ]
  },
  {
   "cell_type": "markdown",
   "metadata": {},
   "source": [
    "# REGISTER model from DEV to TEST"
   ]
  },
  {
   "cell_type": "code",
   "execution_count": 23,
   "metadata": {},
   "outputs": [
    {
     "name": "stdout",
     "output_type": "stream",
     "text": [
      "Connecting to env: test\n",
      "- ws name: msft-weu-DEV-eap-proj02_ai-amls\n",
      "- self._secret_name_tenant: kv-msft-weu-dev-cmnai-tenant\n",
      "- self._secret_name_project_sp_id: kv-secret-esml-project002-sp-id\n",
      "- self._secret_name_project_sp_secret: kv-secret-esml-project002-sp-secret\n",
      "Connecting to env: dev\n",
      "- ws name: msft-weu-DEV-eap-proj02_ai-amls\n",
      "- self._secret_name_tenant: kv-msft-weu-dev-cmnai-tenant\n",
      "- self._secret_name_project_sp_id: kv-secret-esml-project002-sp-id\n",
      "- self._secret_name_project_sp_secret: kv-secret-esml-project002-sp-secret\n",
      "<class 'azureml.train.automl.run.AutoMLRun'>\n",
      "run_id AutoML_00b58dfe-dbaa-45d9-81c1-60e038b969af\n",
      "Connect from DEV to TEST subscription/workspace  ( if you want to compare TEST-model with latest registered in PROD\n",
      "\n",
      "Connecting to env: test\n",
      "- ws name: msft-weu-DEV-eap-proj02_ai-amls\n",
      "- self._secret_name_tenant: kv-msft-weu-dev-cmnai-tenant\n",
      "- self._secret_name_project_sp_id: kv-secret-esml-project002-sp-id\n",
      "- self._secret_name_project_sp_secret: kv-secret-esml-project002-sp-secret\n",
      "Register in workspace: msft-weu-test-eap-proj02_ai-amls\n",
      "Registering model AutoML00b58dfed0\n"
     ]
    }
   ],
   "source": [
    "model_registered_in_target = controller.register_model(source_ws=ws, target_env=\"test\", source_model_to_copy_tags_from=model2)"
   ]
  },
  {
   "cell_type": "markdown",
   "metadata": {},
   "source": [
    "# End-2-End"
   ]
  },
  {
   "cell_type": "code",
   "execution_count": 24,
   "metadata": {},
   "outputs": [
    {
     "name": "stdout",
     "output_type": "stream",
     "text": [
      "<class 'azureml.train.automl.run.AutoMLRun'>\n"
     ]
    }
   ],
   "source": [
    "experiment, model,main_run, best_automl_run,fitted_model = IESMLController.get_best_model_run_fitted_model_Dev(ws,controller.experiment_name)"
   ]
  },
  {
   "cell_type": "code",
   "execution_count": 25,
   "metadata": {},
   "outputs": [
    {
     "data": {
      "text/plain": [
       "'11_diabetes_model_reg'"
      ]
     },
     "execution_count": 25,
     "metadata": {},
     "output_type": "execute_result"
    }
   ],
   "source": [
    "esml_modelname"
   ]
  },
  {
   "cell_type": "code",
   "execution_count": 26,
   "metadata": {},
   "outputs": [
    {
     "name": "stdout",
     "output_type": "stream",
     "text": [
      "<class 'azureml.train.automl.run.AutoMLRun'>\n",
      "Replacing tag run_id -> AutoML_00b58dfe-dbaa-45d9-81c1-60e038b969af with run_id -> AutoML_00b58dfe-dbaa-45d9-81c1-60e038b969af\n",
      "Replacing tag model_name -> AutoML00b58dfed0 with model_name -> AutoML00b58dfed0\n",
      "Replacing tag trained_in_environment -> dev with trained_in_environment -> dev\n",
      "Replacing tag trained_in_workspace -> msft-weu-DEV-eap-proj02_ai-amls with trained_in_workspace -> msft-weu-DEV-eap-proj02_ai-amls\n",
      "Replacing tag experiment_name -> 11_diabetes_model_reg with experiment_name -> 11_diabetes_model_reg\n",
      "Replacing tag test_set_RMSE -> 57.085702 with test_set_RMSE -> 57.085702\n",
      "Replacing tag test_set_R2 -> 0.321046 with test_set_R2 -> 0.321046\n",
      "Replacing tag test_set_MAPE -> 0.272820 with test_set_MAPE -> 0.272820\n",
      "Replacing tag test_set_Spearman_Correlation -> 0.593598 with test_set_Spearman_Correlation -> 0.593598\n",
      "Replacing tag esml_time_updated -> 08/17/2022, 17:32:04 with esml_time_updated -> 08/17/2022, 17:32:04\n",
      "Model tag add operation complete.\n",
      "target=source environement. Compare model version in DEV/TEST/PROD with latest registered in same DEV/TEST/PROD workspace (same workspace & subscriptiom comparison)\n",
      "\n",
      "TARGET is in the same Azure ML Studio workspace as SOURCE, comparing with latest registered model...\n",
      "<class 'azureml.train.automl.run.AutoMLRun'>\n",
      "target_best_run_id AutoML_00b58dfe-dbaa-45d9-81c1-60e038b969af\n",
      "New trained model & cached RUN, has TASK_TYPE: regression and Best_Run_id: AutoML_00b58dfe-dbaa-45d9-81c1-60e038b969af_0\n",
      "Target model & RUN, in Azure ML Studio workspace to compare with, has TASK_TYPE: regression and Best_Run_id:AutoML_00b58dfe-dbaa-45d9-81c1-60e038b969af_0 \n",
      "\n",
      "Q: Do we have SCORING DRIFT / CONCEPT DRIFT? - Is a model trained on NEW data better? = the one in production degraded?\n",
      "\n",
      "New trained model: \n",
      "Warning: Falling back o use AutoML validation scoring when comparing. Run 'ESMLTestScoringFactory(p).get_test_scoring_4_regression()' to use TEST_SET SCORING when comparing\n",
      "RMSE (normalized_root_mean_squared_error): 0.20048144065472884\n",
      "MAPE (Mean average Percentage Error): 37.36539689710541\n",
      "MAE (normalized_mean_absolute_error): 0.1641754076941266\n",
      "R2 (r2_score): 0.46617256831419573\n",
      "Spearman (spearman_correlation): 0.6726695514799195\n",
      "\n",
      "Target model, to compare with; \n",
      "Warning: Falling back o use AutoML validation scoring when comparing. Run 'ESMLTestScoringFactory(p).get_test_scoring_4_regression()' to use TEST_SET SCORING when comparing\n",
      "RMSE (normalized_root_mean_squared_error): 0.20048144065472884\n",
      "MAPE (Mean average Percentage Error): 37.36539689710541\n",
      "MAE (normalized_mean_absolute_error): 0.1641754076941266\n",
      "R2 (r2_score): 0.46617256831419573\n",
      "Spearman (spearman_correlation): 0.6726695514799195\n",
      "\n",
      "Selected metrics, and weights, to be used when comparing for promotion/scoring drift\n",
      "Metric weight: RMSE_promote_weight is 0.0200\n",
      "Metric VALUE (incl. weight) 0.1805 (without weight:  0.2005)\n",
      "\n",
      "Metric weight: R2_promote_weight is -0.0010\n",
      "Metric VALUE (incl. weight) 0.4672 (without weight:  0.4662)\n",
      "\n",
      "Metric weight: Spearman_promote_weight is -0.0010\n",
      "Metric VALUE (incl. weight) 0.6737 (without weight:  0.6727)\n",
      "\n",
      "\n",
      "Promote model = True\n",
      "compared once, 1 time, inner loop - Dev\n",
      "Connecting to env: dev\n",
      "- ws name: msft-weu-DEV-eap-proj02_ai-amls\n",
      "- self._secret_name_tenant: kv-msft-weu-dev-cmnai-tenant\n",
      "- self._secret_name_project_sp_id: kv-secret-esml-project002-sp-id\n",
      "- self._secret_name_project_sp_secret: kv-secret-esml-project002-sp-secret\n",
      "Connecting to env: dev\n",
      "- ws name: msft-weu-DEV-eap-proj02_ai-amls\n",
      "- self._secret_name_tenant: kv-msft-weu-dev-cmnai-tenant\n",
      "- self._secret_name_project_sp_id: kv-secret-esml-project002-sp-id\n",
      "- self._secret_name_project_sp_secret: kv-secret-esml-project002-sp-secret\n",
      "<class 'azureml.train.automl.run.AutoMLRun'>\n",
      "model.version 17\n",
      "Model name AutoML00b58dfed0 is registered.\n",
      "registered in DEV\n",
      "TARGET is in the same Azure ML Studio workspace as SOURCE, comparing with latest registered model...\n",
      "New trained model & cached RUN, has TASK_TYPE: regression and Best_Run_id: AutoML_00b58dfe-dbaa-45d9-81c1-60e038b969af_0\n",
      "Target model & RUN, in Azure ML Studio workspace to compare with, has TASK_TYPE: regression and Best_Run_id:AutoML_00b58dfe-dbaa-45d9-81c1-60e038b969af_0 \n",
      "\n",
      "Q: Do we have SCORING DRIFT / CONCEPT DRIFT? - Is a model trained on NEW data better? = the one in production degraded?\n",
      "\n",
      "New trained model: \n",
      "Warning: Falling back o use AutoML validation scoring when comparing. Run 'ESMLTestScoringFactory(p).get_test_scoring_4_regression()' to use TEST_SET SCORING when comparing\n",
      "RMSE (normalized_root_mean_squared_error): 0.20048144065472884\n",
      "MAPE (Mean average Percentage Error): 37.36539689710541\n",
      "MAE (normalized_mean_absolute_error): 0.1641754076941266\n",
      "R2 (r2_score): 0.46617256831419573\n",
      "Spearman (spearman_correlation): 0.6726695514799195\n",
      "\n",
      "Target model, to compare with; \n",
      "Warning: Falling back o use AutoML validation scoring when comparing. Run 'ESMLTestScoringFactory(p).get_test_scoring_4_regression()' to use TEST_SET SCORING when comparing\n",
      "RMSE (normalized_root_mean_squared_error): 0.20048144065472884\n",
      "MAPE (Mean average Percentage Error): 37.36539689710541\n",
      "MAE (normalized_mean_absolute_error): 0.1641754076941266\n",
      "R2 (r2_score): 0.46617256831419573\n",
      "Spearman (spearman_correlation): 0.6726695514799195\n",
      "\n",
      "Selected metrics, and weights, to be used when comparing for promotion/scoring drift\n",
      "Metric weight: RMSE_promote_weight is 0.0200\n",
      "Metric VALUE (incl. weight) 0.1805 (without weight:  0.2005)\n",
      "\n",
      "Metric weight: R2_promote_weight is -0.0010\n",
      "Metric VALUE (incl. weight) 0.4672 (without weight:  0.4662)\n",
      "\n",
      "Metric weight: Spearman_promote_weight is -0.0010\n",
      "Metric VALUE (incl. weight) 0.6737 (without weight:  0.6727)\n",
      "\n",
      "\n",
      "Promote model = True\n",
      "Compared 2nd time - Outer loop\n",
      "Connecting to env: test\n",
      "- ws name: msft-weu-DEV-eap-proj02_ai-amls\n",
      "- self._secret_name_tenant: kv-msft-weu-dev-cmnai-tenant\n",
      "- self._secret_name_project_sp_id: kv-secret-esml-project002-sp-id\n",
      "- self._secret_name_project_sp_secret: kv-secret-esml-project002-sp-secret\n",
      "Connecting to env: dev\n",
      "- ws name: msft-weu-DEV-eap-proj02_ai-amls\n",
      "- self._secret_name_tenant: kv-msft-weu-dev-cmnai-tenant\n",
      "- self._secret_name_project_sp_id: kv-secret-esml-project002-sp-id\n",
      "- self._secret_name_project_sp_secret: kv-secret-esml-project002-sp-secret\n",
      "<class 'azureml.train.automl.run.AutoMLRun'>\n",
      "run_id AutoML_00b58dfe-dbaa-45d9-81c1-60e038b969af\n",
      "Connect from DEV to TEST subscription/workspace  ( if you want to compare TEST-model with latest registered in PROD\n",
      "\n",
      "Connecting to env: test\n",
      "- ws name: msft-weu-DEV-eap-proj02_ai-amls\n",
      "- self._secret_name_tenant: kv-msft-weu-dev-cmnai-tenant\n",
      "- self._secret_name_project_sp_id: kv-secret-esml-project002-sp-id\n",
      "- self._secret_name_project_sp_secret: kv-secret-esml-project002-sp-secret\n",
      "Register in workspace: msft-weu-test-eap-proj02_ai-amls\n",
      "Registering model AutoML00b58dfed0\n",
      "Registered in TEST\n"
     ]
    },
    {
     "data": {
      "image/png": "[encoded data removed]",
      "text/plain": [
       "<Figure size 720x504 with 1 Axes>"
      ]
     },
     "metadata": {},
     "output_type": "display_data"
    }
   ],
   "source": [
    "def train_test_compare_register(ws,target_column_name,esml_modelname,esml_model_alias, esml_current_env, train_ds,validate_ds,test_ds):\n",
    "    test_scoring = None # IESMLTestScoringFactory\n",
    "    comparer = None # IESMLModelCompare\n",
    "    trainer = None # IESMLTrainer\n",
    "\n",
    "    # CUSTOMIZE ############### Optinonal: You can CUSTOMIZE, by implementing your own CLASS that supports interfaces/abstract classes: IESMLTestScoringFactory,IESMLModelCompare\n",
    "    ml_type = \"regression\"\n",
    "    test_scoring = ESMLTestScoringFactory(ml_type) # You need to implement IESMLTestScoringFactory\n",
    "    comparer = ESMLModelCompare(setting_path = \"\") # You need to implement IESMLModelCompare\n",
    "    # CUSTOMIZE END ###############\n",
    "\n",
    "    secret_name_tenant = \"kv-msft-weu-dev-cmnai-tenant\"\n",
    "    secret_name_sp_id = \"kv-secret-esml-project002-sp-id\"\n",
    "    secret_name_sp_secret = \"kv-secret-esml-project002-sp-secret\"\n",
    "\n",
    "    controller = ESMLController(comparer,test_scoring,\"project002\",esml_modelname, esml_model_alias, secret_name_tenant,secret_name_sp_id,secret_name_sp_secret) # IESMLController: you do not have to change/implemen this class. Dependency injects default or your class.\n",
    "    controller.dev_test_prod = esml_current_env\n",
    "\n",
    "    ##1 ) Get \"current\" 'last_gold_training_run' [pipeline_run_id, training_data_used]\n",
    "\n",
    "    experiment, model,main_run, best_automl_run,fitted_model_1 = IESMLController.get_best_model_run_fitted_model_Dev(ws,controller.experiment_name)\n",
    "\n",
    "    # ITrainer: Defaults to using AutoML. Optionally you can implement this. Else you need to implement ITrainer in 'YourTrainer' class\n",
    "    trainer = Trainer(model.name,esml_modelname,esml_model_alias, esml_current_env, ml_type,train_ds,validate_ds,test_ds)\n",
    "    train_run, aml_model,fitted_model_2 = trainer.train(train_ds,validate_ds)\n",
    "    \n",
    "    #  label,ws, GoldTest, model, fitted_model, source_best_run/run\n",
    "    rmse, r2, mean_abs_percent_error,mae,spearman_correlation,plt, dummy = test_scoring.get_test_scoring_8(ws,target_column_name,test_ds,fitted_model_1,best_automl_run,model)\n",
    "\n",
    "    next_environment = controller.get_next_environment()\n",
    "\n",
    "    #  current_ws,current_environment, target_environment,target_workspace, experiment_name)\n",
    "    target_ws = controller.get_target_workspace(current_environment = esml_current_env, current_ws = ws, target_environment = esml_current_env)\n",
    "\n",
    "    ## 2) COMPARE if better\n",
    "\n",
    "    promote_new_model,source_model_name,new_run_id,target_model_name, target_best_run_id,target_workspace,source_model = comparer.compare_scoring_current_vs_new_model(\n",
    "        new_run_id = main_run.id,\n",
    "        current_ws = ws,\n",
    "        current_environment = esml_current_env,\n",
    "        target_environment = esml_current_env,\n",
    "        target_workspace = target_ws,\n",
    "        experiment_name = trainer.experiment_name)\n",
    "\n",
    "\n",
    "    print(\"compared once, 1 time, inner loop - Dev\")\n",
    "\n",
    "    ## 3) REGISTER model, if better\n",
    "\n",
    "    if (promote_new_model == True): # Better than all in DEV?! (Dev or Test,  is usually current_env)\n",
    "        model_registered_in_target = controller.register_model(source_ws=ws, target_env=esml_current_env, source_model_to_copy_tags_from=model)\n",
    "        print(\"registered in DEV\")\n",
    "\n",
    "        # Better than all in DEV, Lets check if its better than all in TEST? (or prod)\n",
    "        next_environment = controller.get_next_environment() # Test, or PROD\n",
    "        promote_new_model,source_model_name,new_run_id,target_model_name, target_best_run_id,target_workspace,source_model = comparer.compare_scoring_current_vs_new_model(\n",
    "            new_run_id = main_run.id,\n",
    "            current_ws = ws,\n",
    "            current_environment = esml_current_env,\n",
    "            target_environment = next_environment,\n",
    "            target_workspace = target_ws,\n",
    "            experiment_name = trainer.experiment_name)\n",
    "\n",
    "        print(\"Compared 2nd time - Outer loop\")\n",
    "        if (promote_new_model == True):\n",
    "            model_registered_in_target = controller.register_model(source_ws=ws, target_env=\"test\", source_model_to_copy_tags_from=model)\n",
    "            print(\"Registered in TEST\")\n",
    "\n",
    "train_test_compare_register(ws,target_column_name,esml_modelname,esml_model_alias, esml_current_env, train_ds,validate_ds,test_ds)"
   ]
  },
  {
   "cell_type": "markdown",
   "metadata": {},
   "source": [
    "# DATASET: See Run info from last gold scored"
   ]
  },
  {
   "cell_type": "code",
   "execution_count": 27,
   "metadata": {},
   "outputs": [
    {
     "data": {
      "text/html": [
       "<div>\n",
       "<style scoped>\n",
       "    .dataframe tbody tr th:only-of-type {\n",
       "        vertical-align: middle;\n",
       "    }\n",
       "\n",
       "    .dataframe tbody tr th {\n",
       "        vertical-align: top;\n",
       "    }\n",
       "\n",
       "    .dataframe thead th {\n",
       "        text-align: right;\n",
       "    }\n",
       "</style>\n",
       "<table border=\"1\" class=\"dataframe\">\n",
       "  <thead>\n",
       "    <tr style=\"text-align: right;\">\n",
       "      <th></th>\n",
       "      <th>pipeline_run_id</th>\n",
       "      <th>scored_gold_path</th>\n",
       "      <th>date_in_parameter</th>\n",
       "      <th>date_at_pipeline_run</th>\n",
       "      <th>model_version</th>\n",
       "    </tr>\n",
       "  </thead>\n",
       "  <tbody>\n",
       "    <tr>\n",
       "      <th>0</th>\n",
       "      <td>2187a2e5-6771-47a9-8d3f-aa72715b6088</td>\n",
       "      <td>projects/project002/10_titanic_model_clas/infe...</td>\n",
       "      <td>2021-01-01 10:35:01.243860</td>\n",
       "      <td>2021-12-09 22:40:18.260194</td>\n",
       "      <td>1</td>\n",
       "    </tr>\n",
       "  </tbody>\n",
       "</table>\n",
       "</div>"
      ],
      "text/plain": [
       "                        pipeline_run_id  \\\n",
       "0  2187a2e5-6771-47a9-8d3f-aa72715b6088   \n",
       "\n",
       "                                    scored_gold_path  \\\n",
       "0  projects/project002/10_titanic_model_clas/infe...   \n",
       "\n",
       "            date_in_parameter        date_at_pipeline_run model_version  \n",
       "0  2021-01-01 10:35:01.243860  2021-12-09 22:40:18.260194             1  "
      ]
     },
     "execution_count": 27,
     "metadata": {},
     "output_type": "execute_result"
    }
   ],
   "source": [
    "from azureml.core.dataset import Dataset\n",
    "# p = ESMLProject()\n",
    "# ...\n",
    "# ...p.connect_to_lake()\n",
    "meta_dataset = Dataset.get_by_name(p.ws, name=\"M10_GOLD_SCORED_RUNINFO\")\n",
    "meta_dataset.to_pandas_dataframe()"
   ]
  },
  {
   "cell_type": "code",
   "execution_count": null,
   "metadata": {},
   "outputs": [],
   "source": []
  }
 ],
 "metadata": {
  "kernelspec": {
   "display_name": "Python 3.8.13 ('azure_automl_esml_v143')",
   "language": "python",
   "name": "python3"
  },
  "language_info": {
   "codemirror_mode": {
    "name": "ipython",
    "version": 3
   },
   "file_extension": ".py",
   "mimetype": "text/x-python",
   "name": "python",
   "nbconvert_exporter": "python",
   "pygments_lexer": "ipython3",
   "version": "3.8.13"
  },
  "orig_nbformat": 4,
  "vscode": {
   "interpreter": {
    "hash": "74c5b99301bc00796667a0057263c7bfaf21b551f0f69d6227e2067b2db9e406"
   }
  }
 },
 "nbformat": 4,
 "nbformat_minor": 2
}
