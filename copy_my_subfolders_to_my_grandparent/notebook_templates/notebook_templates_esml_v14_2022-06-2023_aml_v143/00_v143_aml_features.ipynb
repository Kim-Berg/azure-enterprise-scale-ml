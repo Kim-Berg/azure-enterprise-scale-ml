{
 "cells": [
  {
   "cell_type": "code",
   "execution_count": 1,
   "metadata": {},
   "outputs": [
    {
     "name": "stdout",
     "output_type": "stream",
     "text": [
      "Using lake_settings.json with ESML version 1.4 - Models array support including LABEL\n",
      "Using GEN2 as Datastore\n",
      "Searching for setting in ESML datalake...\n",
      "ESML in-folder settings override = TRUE \n",
      " - Found settings in the ESML AutoLake  [active_in_folder.json,active_scoring_in_folder.json], to override ArgParse/GIT config with.\n",
      " - TRAIN in date:  1000/01/01\n",
      " - INFERENCE in date: 2021/06/08 and ModelVersion to score with: 1 (0=latest)\n"
     ]
    },
    {
     "data": {
      "text/plain": [
       "<azureml.data.azure_data_lake_datastore.AzureDataLakeGen2Datastore at 0x23a8db5d780>"
      ]
     },
     "execution_count": 1,
     "metadata": {},
     "output_type": "execute_result"
    }
   ],
   "source": [
    "import sys\n",
    "sys.path.insert(0, \"../azure-enterprise-scale-ml/esml/common/\")\n",
    "from esml import ESMLProject\n",
    "import pandas as pd\n",
    "\n",
    "p = ESMLProject() # Your project settings - knows Azure services, networking, lakedesign, identity mgmt, security, etc\n",
    "p.inference_mode = False\n",
    "\n",
    "p.active_model = 11\n",
    "p.ws = p.get_workspace_from_config() #2) Load DEV or TEST or PROD Azure ML Studio workspace\n",
    "p.connect_to_lake()"
   ]
  },
  {
   "cell_type": "code",
   "execution_count": null,
   "metadata": {},
   "outputs": [],
   "source": [
    "from azureml.train import automl\n",
    "\n",
    "# List of possible primary metrics is here:\n",
    "# https://docs.microsoft.com/en-us/azure/machine-learning/how-to-configure-auto-train#primary-metric\n",
    "    \n",
    "# Get a list of valid metrics for your given task\n",
    "automl.utilities.get_primary_metrics('classification')"
   ]
  },
  {
   "cell_type": "markdown",
   "metadata": {},
   "source": [
    "# Dataset access"
   ]
  },
  {
   "cell_type": "markdown",
   "metadata": {},
   "source": [
    "## IN 2 SILVER - ds01_diabetes"
   ]
  },
  {
   "cell_type": "code",
   "execution_count": 10,
   "metadata": {},
   "outputs": [
    {
     "data": {
      "text/html": [
       "<div>\n",
       "<style scoped>\n",
       "    .dataframe tbody tr th:only-of-type {\n",
       "        vertical-align: middle;\n",
       "    }\n",
       "\n",
       "    .dataframe tbody tr th {\n",
       "        vertical-align: top;\n",
       "    }\n",
       "\n",
       "    .dataframe thead th {\n",
       "        text-align: right;\n",
       "    }\n",
       "</style>\n",
       "<table border=\"1\" class=\"dataframe\">\n",
       "  <thead>\n",
       "    <tr style=\"text-align: right;\">\n",
       "      <th></th>\n",
       "      <th>AGE</th>\n",
       "      <th>SEX</th>\n",
       "      <th>BMI</th>\n",
       "      <th>BP</th>\n",
       "      <th>S1</th>\n",
       "      <th>S2</th>\n",
       "      <th>S3</th>\n",
       "      <th>S4</th>\n",
       "      <th>S5</th>\n",
       "      <th>S6</th>\n",
       "      <th>Y</th>\n",
       "    </tr>\n",
       "  </thead>\n",
       "  <tbody>\n",
       "    <tr>\n",
       "      <th>0</th>\n",
       "      <td>0.038076</td>\n",
       "      <td>0.050680</td>\n",
       "      <td>0.061696</td>\n",
       "      <td>0.021872</td>\n",
       "      <td>-0.044223</td>\n",
       "      <td>-0.034821</td>\n",
       "      <td>-0.043401</td>\n",
       "      <td>-0.002592</td>\n",
       "      <td>0.019908</td>\n",
       "      <td>-0.017646</td>\n",
       "      <td>151.0</td>\n",
       "    </tr>\n",
       "    <tr>\n",
       "      <th>1</th>\n",
       "      <td>-0.001882</td>\n",
       "      <td>-0.044642</td>\n",
       "      <td>-0.051474</td>\n",
       "      <td>-0.026328</td>\n",
       "      <td>-0.008449</td>\n",
       "      <td>-0.019163</td>\n",
       "      <td>0.074412</td>\n",
       "      <td>-0.039493</td>\n",
       "      <td>-0.068330</td>\n",
       "      <td>-0.092204</td>\n",
       "      <td>75.0</td>\n",
       "    </tr>\n",
       "    <tr>\n",
       "      <th>2</th>\n",
       "      <td>0.085299</td>\n",
       "      <td>0.050680</td>\n",
       "      <td>0.044451</td>\n",
       "      <td>-0.005671</td>\n",
       "      <td>-0.045599</td>\n",
       "      <td>-0.034194</td>\n",
       "      <td>-0.032356</td>\n",
       "      <td>-0.002592</td>\n",
       "      <td>0.002864</td>\n",
       "      <td>-0.025930</td>\n",
       "      <td>141.0</td>\n",
       "    </tr>\n",
       "    <tr>\n",
       "      <th>3</th>\n",
       "      <td>-0.089063</td>\n",
       "      <td>-0.044642</td>\n",
       "      <td>-0.011595</td>\n",
       "      <td>-0.036656</td>\n",
       "      <td>0.012191</td>\n",
       "      <td>0.024991</td>\n",
       "      <td>-0.036038</td>\n",
       "      <td>0.034309</td>\n",
       "      <td>0.022692</td>\n",
       "      <td>-0.009362</td>\n",
       "      <td>206.0</td>\n",
       "    </tr>\n",
       "    <tr>\n",
       "      <th>4</th>\n",
       "      <td>0.005383</td>\n",
       "      <td>-0.044642</td>\n",
       "      <td>-0.036385</td>\n",
       "      <td>0.021872</td>\n",
       "      <td>0.003935</td>\n",
       "      <td>0.015596</td>\n",
       "      <td>0.008142</td>\n",
       "      <td>-0.002592</td>\n",
       "      <td>-0.031991</td>\n",
       "      <td>-0.046641</td>\n",
       "      <td>135.0</td>\n",
       "    </tr>\n",
       "  </tbody>\n",
       "</table>\n",
       "</div>"
      ],
      "text/plain": [
       "        AGE       SEX       BMI        BP        S1        S2        S3  \\\n",
       "0  0.038076  0.050680  0.061696  0.021872 -0.044223 -0.034821 -0.043401   \n",
       "1 -0.001882 -0.044642 -0.051474 -0.026328 -0.008449 -0.019163  0.074412   \n",
       "2  0.085299  0.050680  0.044451 -0.005671 -0.045599 -0.034194 -0.032356   \n",
       "3 -0.089063 -0.044642 -0.011595 -0.036656  0.012191  0.024991 -0.036038   \n",
       "4  0.005383 -0.044642 -0.036385  0.021872  0.003935  0.015596  0.008142   \n",
       "\n",
       "         S4        S5        S6      Y  \n",
       "0 -0.002592  0.019908 -0.017646  151.0  \n",
       "1 -0.039493 -0.068330 -0.092204   75.0  \n",
       "2 -0.002592  0.002864 -0.025930  141.0  \n",
       "3  0.034309  0.022692 -0.009362  206.0  \n",
       "4 -0.002592 -0.031991 -0.046641  135.0  "
      ]
     },
     "execution_count": 10,
     "metadata": {},
     "output_type": "execute_result"
    }
   ],
   "source": [
    "from azureml.core.dataset import Dataset\n",
    "\n",
    "# IN 2 SILVER - ds01_diabetes\n",
    "## IN-data (.csv):projects/project002/11_diabetes_model_reg/train/ds01_diabetes/in/dev/1000/01/01/*.csv\n",
    "## OUT: Wrote prepped data to /mnt/azureml/cr/j/4d4ec72940434242863242e8615d1f06/cap/data-capability/wd/M11_ds01_diabetes_train_SILVER/silver.parquet\n",
    "\n",
    "ds02 = Dataset.get_by_name(workspace=p.ws, name='M11_ds01_diabetes_train_SILVER',  version='latest')\n",
    "ds02.to_pandas_dataframe().head()\n"
   ]
  },
  {
   "cell_type": "code",
   "execution_count": 14,
   "metadata": {},
   "outputs": [
    {
     "data": {
      "text/html": [
       "<div>\n",
       "<style scoped>\n",
       "    .dataframe tbody tr th:only-of-type {\n",
       "        vertical-align: middle;\n",
       "    }\n",
       "\n",
       "    .dataframe tbody tr th {\n",
       "        vertical-align: top;\n",
       "    }\n",
       "\n",
       "    .dataframe thead th {\n",
       "        text-align: right;\n",
       "    }\n",
       "</style>\n",
       "<table border=\"1\" class=\"dataframe\">\n",
       "  <thead>\n",
       "    <tr style=\"text-align: right;\">\n",
       "      <th></th>\n",
       "      <th>AGE</th>\n",
       "      <th>SEX</th>\n",
       "      <th>BMI</th>\n",
       "      <th>BP</th>\n",
       "      <th>S1</th>\n",
       "      <th>S2</th>\n",
       "      <th>S3</th>\n",
       "      <th>S4</th>\n",
       "      <th>S5</th>\n",
       "      <th>S6</th>\n",
       "      <th>Y</th>\n",
       "    </tr>\n",
       "  </thead>\n",
       "  <tbody>\n",
       "    <tr>\n",
       "      <th>0</th>\n",
       "      <td>0.038076</td>\n",
       "      <td>0.050680</td>\n",
       "      <td>0.061696</td>\n",
       "      <td>0.021872</td>\n",
       "      <td>-0.044223</td>\n",
       "      <td>-0.034821</td>\n",
       "      <td>-0.043401</td>\n",
       "      <td>-0.002592</td>\n",
       "      <td>0.019908</td>\n",
       "      <td>-0.017646</td>\n",
       "      <td>151.0</td>\n",
       "    </tr>\n",
       "    <tr>\n",
       "      <th>1</th>\n",
       "      <td>-0.001882</td>\n",
       "      <td>-0.044642</td>\n",
       "      <td>-0.051474</td>\n",
       "      <td>-0.026328</td>\n",
       "      <td>-0.008449</td>\n",
       "      <td>-0.019163</td>\n",
       "      <td>0.074412</td>\n",
       "      <td>-0.039493</td>\n",
       "      <td>-0.068330</td>\n",
       "      <td>-0.092204</td>\n",
       "      <td>75.0</td>\n",
       "    </tr>\n",
       "    <tr>\n",
       "      <th>2</th>\n",
       "      <td>0.085299</td>\n",
       "      <td>0.050680</td>\n",
       "      <td>0.044451</td>\n",
       "      <td>-0.005671</td>\n",
       "      <td>-0.045599</td>\n",
       "      <td>-0.034194</td>\n",
       "      <td>-0.032356</td>\n",
       "      <td>-0.002592</td>\n",
       "      <td>0.002864</td>\n",
       "      <td>-0.025930</td>\n",
       "      <td>141.0</td>\n",
       "    </tr>\n",
       "    <tr>\n",
       "      <th>3</th>\n",
       "      <td>-0.089063</td>\n",
       "      <td>-0.044642</td>\n",
       "      <td>-0.011595</td>\n",
       "      <td>-0.036656</td>\n",
       "      <td>0.012191</td>\n",
       "      <td>0.024991</td>\n",
       "      <td>-0.036038</td>\n",
       "      <td>0.034309</td>\n",
       "      <td>0.022692</td>\n",
       "      <td>-0.009362</td>\n",
       "      <td>206.0</td>\n",
       "    </tr>\n",
       "    <tr>\n",
       "      <th>4</th>\n",
       "      <td>0.005383</td>\n",
       "      <td>-0.044642</td>\n",
       "      <td>-0.036385</td>\n",
       "      <td>0.021872</td>\n",
       "      <td>0.003935</td>\n",
       "      <td>0.015596</td>\n",
       "      <td>0.008142</td>\n",
       "      <td>-0.002592</td>\n",
       "      <td>-0.031991</td>\n",
       "      <td>-0.046641</td>\n",
       "      <td>135.0</td>\n",
       "    </tr>\n",
       "  </tbody>\n",
       "</table>\n",
       "</div>"
      ],
      "text/plain": [
       "        AGE       SEX       BMI        BP        S1        S2        S3  \\\n",
       "0  0.038076  0.050680  0.061696  0.021872 -0.044223 -0.034821 -0.043401   \n",
       "1 -0.001882 -0.044642 -0.051474 -0.026328 -0.008449 -0.019163  0.074412   \n",
       "2  0.085299  0.050680  0.044451 -0.005671 -0.045599 -0.034194 -0.032356   \n",
       "3 -0.089063 -0.044642 -0.011595 -0.036656  0.012191  0.024991 -0.036038   \n",
       "4  0.005383 -0.044642 -0.036385  0.021872  0.003935  0.015596  0.008142   \n",
       "\n",
       "         S4        S5        S6      Y  \n",
       "0 -0.002592  0.019908 -0.017646  151.0  \n",
       "1 -0.039493 -0.068330 -0.092204   75.0  \n",
       "2 -0.002592  0.002864 -0.025930  141.0  \n",
       "3  0.034309  0.022692 -0.009362  206.0  \n",
       "4 -0.002592 -0.031991 -0.046641  135.0  "
      ]
     },
     "execution_count": 14,
     "metadata": {},
     "output_type": "execute_result"
    }
   ],
   "source": [
    "input_path_parquet = 'projects/project002/11_diabetes_model_reg/train/ds01_diabetes/in/dev/1000/01/01/*.csv' # 1_latest, 1_latest/, 1_latest/*.parquet, 1_latest/gold.parquet\n",
    "ds03 = Dataset.Tabular.from_delimited_files(path = [(p.datastore, input_path_parquet)])\n",
    "ds03.to_pandas_dataframe().head()"
   ]
  },
  {
   "cell_type": "markdown",
   "metadata": {},
   "source": [
    "## Dataset: TRAIN - SILVER MERGED 2 GOLD"
   ]
  },
  {
   "cell_type": "code",
   "execution_count": 29,
   "metadata": {},
   "outputs": [
    {
     "data": {
      "text/html": [
       "<div>\n",
       "<style scoped>\n",
       "    .dataframe tbody tr th:only-of-type {\n",
       "        vertical-align: middle;\n",
       "    }\n",
       "\n",
       "    .dataframe tbody tr th {\n",
       "        vertical-align: top;\n",
       "    }\n",
       "\n",
       "    .dataframe thead th {\n",
       "        text-align: right;\n",
       "    }\n",
       "</style>\n",
       "<table border=\"1\" class=\"dataframe\">\n",
       "  <thead>\n",
       "    <tr style=\"text-align: right;\">\n",
       "      <th></th>\n",
       "      <th>AGE</th>\n",
       "      <th>SEX</th>\n",
       "      <th>BMI</th>\n",
       "      <th>BP</th>\n",
       "      <th>S1</th>\n",
       "      <th>S2</th>\n",
       "      <th>S3</th>\n",
       "      <th>S4</th>\n",
       "      <th>S5</th>\n",
       "      <th>S6</th>\n",
       "      <th>Y</th>\n",
       "    </tr>\n",
       "  </thead>\n",
       "  <tbody>\n",
       "    <tr>\n",
       "      <th>0</th>\n",
       "      <td>0.038076</td>\n",
       "      <td>0.050680</td>\n",
       "      <td>0.061696</td>\n",
       "      <td>0.021872</td>\n",
       "      <td>-0.044223</td>\n",
       "      <td>-0.034821</td>\n",
       "      <td>-0.043401</td>\n",
       "      <td>-0.002592</td>\n",
       "      <td>0.019908</td>\n",
       "      <td>-0.017646</td>\n",
       "      <td>151.0</td>\n",
       "    </tr>\n",
       "    <tr>\n",
       "      <th>1</th>\n",
       "      <td>-0.001882</td>\n",
       "      <td>-0.044642</td>\n",
       "      <td>-0.051474</td>\n",
       "      <td>-0.026328</td>\n",
       "      <td>-0.008449</td>\n",
       "      <td>-0.019163</td>\n",
       "      <td>0.074412</td>\n",
       "      <td>-0.039493</td>\n",
       "      <td>-0.068330</td>\n",
       "      <td>-0.092204</td>\n",
       "      <td>75.0</td>\n",
       "    </tr>\n",
       "    <tr>\n",
       "      <th>2</th>\n",
       "      <td>0.085299</td>\n",
       "      <td>0.050680</td>\n",
       "      <td>0.044451</td>\n",
       "      <td>-0.005671</td>\n",
       "      <td>-0.045599</td>\n",
       "      <td>-0.034194</td>\n",
       "      <td>-0.032356</td>\n",
       "      <td>-0.002592</td>\n",
       "      <td>0.002864</td>\n",
       "      <td>-0.025930</td>\n",
       "      <td>141.0</td>\n",
       "    </tr>\n",
       "    <tr>\n",
       "      <th>3</th>\n",
       "      <td>-0.089063</td>\n",
       "      <td>-0.044642</td>\n",
       "      <td>-0.011595</td>\n",
       "      <td>-0.036656</td>\n",
       "      <td>0.012191</td>\n",
       "      <td>0.024991</td>\n",
       "      <td>-0.036038</td>\n",
       "      <td>0.034309</td>\n",
       "      <td>0.022692</td>\n",
       "      <td>-0.009362</td>\n",
       "      <td>206.0</td>\n",
       "    </tr>\n",
       "    <tr>\n",
       "      <th>4</th>\n",
       "      <td>0.005383</td>\n",
       "      <td>-0.044642</td>\n",
       "      <td>-0.036385</td>\n",
       "      <td>0.021872</td>\n",
       "      <td>0.003935</td>\n",
       "      <td>0.015596</td>\n",
       "      <td>0.008142</td>\n",
       "      <td>-0.002592</td>\n",
       "      <td>-0.031991</td>\n",
       "      <td>-0.046641</td>\n",
       "      <td>135.0</td>\n",
       "    </tr>\n",
       "  </tbody>\n",
       "</table>\n",
       "</div>"
      ],
      "text/plain": [
       "        AGE       SEX       BMI        BP        S1        S2        S3  \\\n",
       "0  0.038076  0.050680  0.061696  0.021872 -0.044223 -0.034821 -0.043401   \n",
       "1 -0.001882 -0.044642 -0.051474 -0.026328 -0.008449 -0.019163  0.074412   \n",
       "2  0.085299  0.050680  0.044451 -0.005671 -0.045599 -0.034194 -0.032356   \n",
       "3 -0.089063 -0.044642 -0.011595 -0.036656  0.012191  0.024991 -0.036038   \n",
       "4  0.005383 -0.044642 -0.036385  0.021872  0.003935  0.015596  0.008142   \n",
       "\n",
       "         S4        S5        S6      Y  \n",
       "0 -0.002592  0.019908 -0.017646  151.0  \n",
       "1 -0.039493 -0.068330 -0.092204   75.0  \n",
       "2 -0.002592  0.002864 -0.025930  141.0  \n",
       "3  0.034309  0.022692 -0.009362  206.0  \n",
       "4 -0.002592 -0.031991 -0.046641  135.0  "
      ]
     },
     "execution_count": 29,
     "metadata": {},
     "output_type": "execute_result"
    }
   ],
   "source": [
    "from azureml.core.dataset import Dataset\n",
    "# SILVER MERGED 2 GOLD\n",
    "\n",
    "# IN-data: M11_GOLD\n",
    "## projects/project002/11_diabetes_model_reg/train/ds01_diabetes/out/silver/dev/b6a52bcc-ec45-49e5-8d68-022a10d1a023/\n",
    "##OUT: \n",
    "### Local Path from run.output_datasets[output_to_score_gold_name]: /mnt/azureml/cr/j/7387d4a5211a414a91fc07eb3e34f436/cap/data-capability/wd/M11_GOLD/gold.parquet\n",
    "#### projects/project002/11_diabetes_model_reg/train/gold/dev/1_latest/gold.parquet\n",
    "\n",
    "input_path_parquet = 'projects/project002/11_diabetes_model_reg/train/gold/dev/1_latest/' # 1_latest, 1_latest/, 1_latest/*.parquet, 1_latest/gold.parquet\n",
    "aml_dataset_in = Dataset.Tabular.from_parquet_files(path = [(p.datastore, input_path_parquet)])\n",
    "aml_dataset_in.to_pandas_dataframe().head()"
   ]
  },
  {
   "cell_type": "code",
   "execution_count": 30,
   "metadata": {},
   "outputs": [
    {
     "data": {
      "text/plain": [
       "{\n",
       "  \"source\": [\n",
       "    \"('project002prjsp', 'projects/project002/11_diabetes_model_reg/train/gold/dev/1_latest/')\"\n",
       "  ],\n",
       "  \"definition\": [\n",
       "    \"GetDatastoreFiles\",\n",
       "    \"ReadParquetFile\",\n",
       "    \"DropColumns\"\n",
       "  ]\n",
       "}"
      ]
     },
     "execution_count": 30,
     "metadata": {},
     "output_type": "execute_result"
    }
   ],
   "source": [
    "aml_dataset_in"
   ]
  },
  {
   "cell_type": "code",
   "execution_count": 31,
   "metadata": {},
   "outputs": [
    {
     "data": {
      "text/html": [
       "<div>\n",
       "<style scoped>\n",
       "    .dataframe tbody tr th:only-of-type {\n",
       "        vertical-align: middle;\n",
       "    }\n",
       "\n",
       "    .dataframe tbody tr th {\n",
       "        vertical-align: top;\n",
       "    }\n",
       "\n",
       "    .dataframe thead th {\n",
       "        text-align: right;\n",
       "    }\n",
       "</style>\n",
       "<table border=\"1\" class=\"dataframe\">\n",
       "  <thead>\n",
       "    <tr style=\"text-align: right;\">\n",
       "      <th></th>\n",
       "      <th>AGE</th>\n",
       "      <th>SEX</th>\n",
       "      <th>BMI</th>\n",
       "      <th>BP</th>\n",
       "      <th>S1</th>\n",
       "      <th>S2</th>\n",
       "      <th>S3</th>\n",
       "      <th>S4</th>\n",
       "      <th>S5</th>\n",
       "      <th>S6</th>\n",
       "      <th>Y</th>\n",
       "    </tr>\n",
       "  </thead>\n",
       "  <tbody>\n",
       "    <tr>\n",
       "      <th>0</th>\n",
       "      <td>0.038076</td>\n",
       "      <td>0.050680</td>\n",
       "      <td>0.061696</td>\n",
       "      <td>0.021872</td>\n",
       "      <td>-0.044223</td>\n",
       "      <td>-0.034821</td>\n",
       "      <td>-0.043401</td>\n",
       "      <td>-0.002592</td>\n",
       "      <td>0.019908</td>\n",
       "      <td>-0.017646</td>\n",
       "      <td>151.0</td>\n",
       "    </tr>\n",
       "    <tr>\n",
       "      <th>1</th>\n",
       "      <td>-0.001882</td>\n",
       "      <td>-0.044642</td>\n",
       "      <td>-0.051474</td>\n",
       "      <td>-0.026328</td>\n",
       "      <td>-0.008449</td>\n",
       "      <td>-0.019163</td>\n",
       "      <td>0.074412</td>\n",
       "      <td>-0.039493</td>\n",
       "      <td>-0.068330</td>\n",
       "      <td>-0.092204</td>\n",
       "      <td>75.0</td>\n",
       "    </tr>\n",
       "    <tr>\n",
       "      <th>2</th>\n",
       "      <td>0.085299</td>\n",
       "      <td>0.050680</td>\n",
       "      <td>0.044451</td>\n",
       "      <td>-0.005671</td>\n",
       "      <td>-0.045599</td>\n",
       "      <td>-0.034194</td>\n",
       "      <td>-0.032356</td>\n",
       "      <td>-0.002592</td>\n",
       "      <td>0.002864</td>\n",
       "      <td>-0.025930</td>\n",
       "      <td>141.0</td>\n",
       "    </tr>\n",
       "    <tr>\n",
       "      <th>3</th>\n",
       "      <td>-0.089063</td>\n",
       "      <td>-0.044642</td>\n",
       "      <td>-0.011595</td>\n",
       "      <td>-0.036656</td>\n",
       "      <td>0.012191</td>\n",
       "      <td>0.024991</td>\n",
       "      <td>-0.036038</td>\n",
       "      <td>0.034309</td>\n",
       "      <td>0.022692</td>\n",
       "      <td>-0.009362</td>\n",
       "      <td>206.0</td>\n",
       "    </tr>\n",
       "    <tr>\n",
       "      <th>4</th>\n",
       "      <td>0.005383</td>\n",
       "      <td>-0.044642</td>\n",
       "      <td>-0.036385</td>\n",
       "      <td>0.021872</td>\n",
       "      <td>0.003935</td>\n",
       "      <td>0.015596</td>\n",
       "      <td>0.008142</td>\n",
       "      <td>-0.002592</td>\n",
       "      <td>-0.031991</td>\n",
       "      <td>-0.046641</td>\n",
       "      <td>135.0</td>\n",
       "    </tr>\n",
       "  </tbody>\n",
       "</table>\n",
       "</div>"
      ],
      "text/plain": [
       "        AGE       SEX       BMI        BP        S1        S2        S3  \\\n",
       "0  0.038076  0.050680  0.061696  0.021872 -0.044223 -0.034821 -0.043401   \n",
       "1 -0.001882 -0.044642 -0.051474 -0.026328 -0.008449 -0.019163  0.074412   \n",
       "2  0.085299  0.050680  0.044451 -0.005671 -0.045599 -0.034194 -0.032356   \n",
       "3 -0.089063 -0.044642 -0.011595 -0.036656  0.012191  0.024991 -0.036038   \n",
       "4  0.005383 -0.044642 -0.036385  0.021872  0.003935  0.015596  0.008142   \n",
       "\n",
       "         S4        S5        S6      Y  \n",
       "0 -0.002592  0.019908 -0.017646  151.0  \n",
       "1 -0.039493 -0.068330 -0.092204   75.0  \n",
       "2 -0.002592  0.002864 -0.025930  141.0  \n",
       "3  0.034309  0.022692 -0.009362  206.0  \n",
       "4 -0.002592 -0.031991 -0.046641  135.0  "
      ]
     },
     "execution_count": 31,
     "metadata": {},
     "output_type": "execute_result"
    }
   ],
   "source": [
    "ds06 = Dataset.get_by_name(workspace=p.ws, name='M11_GOLD',  version='latest')\n",
    "ds06.to_pandas_dataframe().head()"
   ]
  },
  {
   "cell_type": "code",
   "execution_count": 32,
   "metadata": {},
   "outputs": [
    {
     "data": {
      "text/plain": [
       "{\n",
       "  \"source\": [\n",
       "    \"('project002prjsp', 'projects/project002/11_diabetes_model_reg/train/gold/dev/1_latest/')\"\n",
       "  ],\n",
       "  \"definition\": [\n",
       "    \"GetDatastoreFiles\",\n",
       "    \"ReadParquetFile\",\n",
       "    \"DropColumns\"\n",
       "  ],\n",
       "  \"registration\": {\n",
       "    \"id\": \"3401dbd3-d8ac-43e3-b6db-e7b62809f71a\",\n",
       "    \"name\": \"M11_GOLD\",\n",
       "    \"version\": 32,\n",
       "    \"workspace\": \"Workspace.create(name='msft-weu-DEV-eap-proj02_ai-amls', subscription_id='ca0a8c40-b06a-4e4e-8434-63c03a1dee34', resource_group='MSFT-WEU-EAP_PROJECT02_AI-DEV-RG')\"\n",
       "  }\n",
       "}"
      ]
     },
     "execution_count": 32,
     "metadata": {},
     "output_type": "execute_result"
    }
   ],
   "source": [
    "ds06"
   ]
  },
  {
   "cell_type": "markdown",
   "metadata": {},
   "source": [
    "## Dataset: TRAIN - SPLIT and REGISTER datasets (train, test, validate)"
   ]
  },
  {
   "cell_type": "code",
   "execution_count": 18,
   "metadata": {},
   "outputs": [
    {
     "data": {
      "text/html": [
       "<div>\n",
       "<style scoped>\n",
       "    .dataframe tbody tr th:only-of-type {\n",
       "        vertical-align: middle;\n",
       "    }\n",
       "\n",
       "    .dataframe tbody tr th {\n",
       "        vertical-align: top;\n",
       "    }\n",
       "\n",
       "    .dataframe thead th {\n",
       "        text-align: right;\n",
       "    }\n",
       "</style>\n",
       "<table border=\"1\" class=\"dataframe\">\n",
       "  <thead>\n",
       "    <tr style=\"text-align: right;\">\n",
       "      <th></th>\n",
       "      <th>AGE</th>\n",
       "      <th>SEX</th>\n",
       "      <th>BMI</th>\n",
       "      <th>BP</th>\n",
       "      <th>S1</th>\n",
       "      <th>S2</th>\n",
       "      <th>S3</th>\n",
       "      <th>S4</th>\n",
       "      <th>S5</th>\n",
       "      <th>S6</th>\n",
       "      <th>Y</th>\n",
       "    </tr>\n",
       "  </thead>\n",
       "  <tbody>\n",
       "    <tr>\n",
       "      <th>0</th>\n",
       "      <td>0.038076</td>\n",
       "      <td>0.050680</td>\n",
       "      <td>0.061696</td>\n",
       "      <td>0.021872</td>\n",
       "      <td>-0.044223</td>\n",
       "      <td>-0.034821</td>\n",
       "      <td>-0.043401</td>\n",
       "      <td>-0.002592</td>\n",
       "      <td>0.019908</td>\n",
       "      <td>-0.017646</td>\n",
       "      <td>151.0</td>\n",
       "    </tr>\n",
       "    <tr>\n",
       "      <th>1</th>\n",
       "      <td>-0.001882</td>\n",
       "      <td>-0.044642</td>\n",
       "      <td>-0.051474</td>\n",
       "      <td>-0.026328</td>\n",
       "      <td>-0.008449</td>\n",
       "      <td>-0.019163</td>\n",
       "      <td>0.074412</td>\n",
       "      <td>-0.039493</td>\n",
       "      <td>-0.068330</td>\n",
       "      <td>-0.092204</td>\n",
       "      <td>75.0</td>\n",
       "    </tr>\n",
       "    <tr>\n",
       "      <th>2</th>\n",
       "      <td>0.085299</td>\n",
       "      <td>0.050680</td>\n",
       "      <td>0.044451</td>\n",
       "      <td>-0.005671</td>\n",
       "      <td>-0.045599</td>\n",
       "      <td>-0.034194</td>\n",
       "      <td>-0.032356</td>\n",
       "      <td>-0.002592</td>\n",
       "      <td>0.002864</td>\n",
       "      <td>-0.025930</td>\n",
       "      <td>141.0</td>\n",
       "    </tr>\n",
       "    <tr>\n",
       "      <th>3</th>\n",
       "      <td>-0.089063</td>\n",
       "      <td>-0.044642</td>\n",
       "      <td>-0.011595</td>\n",
       "      <td>-0.036656</td>\n",
       "      <td>0.012191</td>\n",
       "      <td>0.024991</td>\n",
       "      <td>-0.036038</td>\n",
       "      <td>0.034309</td>\n",
       "      <td>0.022692</td>\n",
       "      <td>-0.009362</td>\n",
       "      <td>206.0</td>\n",
       "    </tr>\n",
       "    <tr>\n",
       "      <th>4</th>\n",
       "      <td>0.005383</td>\n",
       "      <td>-0.044642</td>\n",
       "      <td>-0.036385</td>\n",
       "      <td>0.021872</td>\n",
       "      <td>0.003935</td>\n",
       "      <td>0.015596</td>\n",
       "      <td>0.008142</td>\n",
       "      <td>-0.002592</td>\n",
       "      <td>-0.031991</td>\n",
       "      <td>-0.046641</td>\n",
       "      <td>135.0</td>\n",
       "    </tr>\n",
       "  </tbody>\n",
       "</table>\n",
       "</div>"
      ],
      "text/plain": [
       "        AGE       SEX       BMI        BP        S1        S2        S3  \\\n",
       "0  0.038076  0.050680  0.061696  0.021872 -0.044223 -0.034821 -0.043401   \n",
       "1 -0.001882 -0.044642 -0.051474 -0.026328 -0.008449 -0.019163  0.074412   \n",
       "2  0.085299  0.050680  0.044451 -0.005671 -0.045599 -0.034194 -0.032356   \n",
       "3 -0.089063 -0.044642 -0.011595 -0.036656  0.012191  0.024991 -0.036038   \n",
       "4  0.005383 -0.044642 -0.036385  0.021872  0.003935  0.015596  0.008142   \n",
       "\n",
       "         S4        S5        S6      Y  \n",
       "0 -0.002592  0.019908 -0.017646  151.0  \n",
       "1 -0.039493 -0.068330 -0.092204   75.0  \n",
       "2 -0.002592  0.002864 -0.025930  141.0  \n",
       "3  0.034309  0.022692 -0.009362  206.0  \n",
       "4 -0.002592 -0.031991 -0.046641  135.0  "
      ]
     },
     "execution_count": 18,
     "metadata": {},
     "output_type": "execute_result"
    }
   ],
   "source": [
    "from azureml.core.dataset import Dataset\n",
    "\n",
    "input_path_parquet = 'projects/project002/11_diabetes_model_reg/train/gold/dev/1_latest/' # 1_latest, 1_latest/, 1_latest/*.parquet, 1_latest/gold.parquet\n",
    "aml_dataset_in = Dataset.Tabular.from_parquet_files(path = [(p.datastore, input_path_parquet)])\n",
    "aml_dataset_in.to_pandas_dataframe().head()"
   ]
  },
  {
   "cell_type": "code",
   "execution_count": 37,
   "metadata": {},
   "outputs": [
    {
     "data": {
      "text/plain": [
       "{\n",
       "  \"source\": [\n",
       "    \"('project002prjsp', 'projects/project002/11_diabetes_model_reg/train/gold/dev/Train/{id_folder}/')\"\n",
       "  ],\n",
       "  \"definition\": [\n",
       "    \"GetDatastoreFiles\",\n",
       "    \"ReadParquetFile\",\n",
       "    \"DropColumns\"\n",
       "  ],\n",
       "  \"registration\": {\n",
       "    \"id\": \"28b4571d-3b9b-499b-9d70-f5f491c0ed4e\",\n",
       "    \"name\": \"M11_GOLD_TRAIN\",\n",
       "    \"version\": 37,\n",
       "    \"workspace\": \"Workspace.create(name='msft-weu-DEV-eap-proj02_ai-amls', subscription_id='ca0a8c40-b06a-4e4e-8434-63c03a1dee34', resource_group='MSFT-WEU-EAP_PROJECT02_AI-DEV-RG')\"\n",
       "  }\n",
       "}"
      ]
     },
     "execution_count": 37,
     "metadata": {},
     "output_type": "execute_result"
    }
   ],
   "source": [
    "ds04 = Dataset.get_by_name(workspace=p.ws, name='M11_GOLD_TRAIN',  version='37') \n",
    "ds04.to_pandas_dataframe().head()\n",
    "ds04\n",
    "# M11_GOLD_TRAIN/gold_train.parquet\n",
    "\n",
    "# M11_GOLD_TRAINgold_train.parquet '\n",
    "##! Inget slash\n",
    "##! Ett space efter ,parquet"
   ]
  },
  {
   "cell_type": "code",
   "execution_count": 41,
   "metadata": {},
   "outputs": [
    {
     "data": {
      "text/plain": [
       "{\n",
       "  \"source\": [\n",
       "    \"('project002prjsp', 'projects/project002/11_diabetes_model_reg/train/gold/dev/Train/{id_folder}/')\"\n",
       "  ],\n",
       "  \"definition\": [\n",
       "    \"GetDatastoreFiles\",\n",
       "    \"ReadParquetFile\",\n",
       "    \"DropColumns\"\n",
       "  ],\n",
       "  \"registration\": {\n",
       "    \"id\": \"28b4571d-3b9b-499b-9d70-f5f491c0ed4e\",\n",
       "    \"name\": \"M11_GOLD_TRAIN\",\n",
       "    \"version\": 37,\n",
       "    \"workspace\": \"Workspace.create(name='msft-weu-DEV-eap-proj02_ai-amls', subscription_id='ca0a8c40-b06a-4e4e-8434-63c03a1dee34', resource_group='MSFT-WEU-EAP_PROJECT02_AI-DEV-RG')\"\n",
       "  }\n",
       "}"
      ]
     },
     "execution_count": 41,
     "metadata": {},
     "output_type": "execute_result"
    }
   ],
   "source": [
    "ds05 = Dataset.get_by_name(workspace=p.ws, name='M11_GOLD_TRAIN',  version='latest') \n",
    "#ds05.to_pandas_dataframe().head()\n",
    "ds05"
   ]
  },
  {
   "cell_type": "code",
   "execution_count": 42,
   "metadata": {},
   "outputs": [
    {
     "data": {
      "text/html": [
       "<div>\n",
       "<style scoped>\n",
       "    .dataframe tbody tr th:only-of-type {\n",
       "        vertical-align: middle;\n",
       "    }\n",
       "\n",
       "    .dataframe tbody tr th {\n",
       "        vertical-align: top;\n",
       "    }\n",
       "\n",
       "    .dataframe thead th {\n",
       "        text-align: right;\n",
       "    }\n",
       "</style>\n",
       "<table border=\"1\" class=\"dataframe\">\n",
       "  <thead>\n",
       "    <tr style=\"text-align: right;\">\n",
       "      <th></th>\n",
       "      <th>AGE</th>\n",
       "      <th>SEX</th>\n",
       "      <th>BMI</th>\n",
       "      <th>BP</th>\n",
       "      <th>S1</th>\n",
       "      <th>S2</th>\n",
       "      <th>S3</th>\n",
       "      <th>S4</th>\n",
       "      <th>S5</th>\n",
       "      <th>S6</th>\n",
       "      <th>Y</th>\n",
       "    </tr>\n",
       "  </thead>\n",
       "  <tbody>\n",
       "    <tr>\n",
       "      <th>0</th>\n",
       "      <td>0.045341</td>\n",
       "      <td>-0.044642</td>\n",
       "      <td>-0.006206</td>\n",
       "      <td>-0.015999</td>\n",
       "      <td>0.125019</td>\n",
       "      <td>0.125198</td>\n",
       "      <td>0.019187</td>\n",
       "      <td>0.034309</td>\n",
       "      <td>0.032433</td>\n",
       "      <td>-0.005220</td>\n",
       "      <td>219.0</td>\n",
       "    </tr>\n",
       "    <tr>\n",
       "      <th>1</th>\n",
       "      <td>0.092564</td>\n",
       "      <td>-0.044642</td>\n",
       "      <td>0.036907</td>\n",
       "      <td>0.021872</td>\n",
       "      <td>-0.024960</td>\n",
       "      <td>-0.016658</td>\n",
       "      <td>0.000779</td>\n",
       "      <td>-0.039493</td>\n",
       "      <td>-0.022512</td>\n",
       "      <td>-0.021788</td>\n",
       "      <td>70.0</td>\n",
       "    </tr>\n",
       "    <tr>\n",
       "      <th>2</th>\n",
       "      <td>0.063504</td>\n",
       "      <td>0.050680</td>\n",
       "      <td>-0.004050</td>\n",
       "      <td>-0.012556</td>\n",
       "      <td>0.103003</td>\n",
       "      <td>0.048790</td>\n",
       "      <td>0.056003</td>\n",
       "      <td>-0.002592</td>\n",
       "      <td>0.084495</td>\n",
       "      <td>-0.017646</td>\n",
       "      <td>202.0</td>\n",
       "    </tr>\n",
       "    <tr>\n",
       "      <th>3</th>\n",
       "      <td>0.096197</td>\n",
       "      <td>-0.044642</td>\n",
       "      <td>0.051996</td>\n",
       "      <td>0.079254</td>\n",
       "      <td>0.054845</td>\n",
       "      <td>0.036577</td>\n",
       "      <td>-0.076536</td>\n",
       "      <td>0.141322</td>\n",
       "      <td>0.098646</td>\n",
       "      <td>0.061054</td>\n",
       "      <td>230.0</td>\n",
       "    </tr>\n",
       "    <tr>\n",
       "      <th>4</th>\n",
       "      <td>0.012648</td>\n",
       "      <td>0.050680</td>\n",
       "      <td>-0.020218</td>\n",
       "      <td>-0.002228</td>\n",
       "      <td>0.038334</td>\n",
       "      <td>0.053174</td>\n",
       "      <td>-0.006584</td>\n",
       "      <td>0.034309</td>\n",
       "      <td>-0.005145</td>\n",
       "      <td>-0.009362</td>\n",
       "      <td>111.0</td>\n",
       "    </tr>\n",
       "  </tbody>\n",
       "</table>\n",
       "</div>"
      ],
      "text/plain": [
       "        AGE       SEX       BMI        BP        S1        S2        S3  \\\n",
       "0  0.045341 -0.044642 -0.006206 -0.015999  0.125019  0.125198  0.019187   \n",
       "1  0.092564 -0.044642  0.036907  0.021872 -0.024960 -0.016658  0.000779   \n",
       "2  0.063504  0.050680 -0.004050 -0.012556  0.103003  0.048790  0.056003   \n",
       "3  0.096197 -0.044642  0.051996  0.079254  0.054845  0.036577 -0.076536   \n",
       "4  0.012648  0.050680 -0.020218 -0.002228  0.038334  0.053174 -0.006584   \n",
       "\n",
       "         S4        S5        S6      Y  \n",
       "0  0.034309  0.032433 -0.005220  219.0  \n",
       "1 -0.039493 -0.022512 -0.021788   70.0  \n",
       "2 -0.002592  0.084495 -0.017646  202.0  \n",
       "3  0.141322  0.098646  0.061054  230.0  \n",
       "4  0.034309 -0.005145 -0.009362  111.0  "
      ]
     },
     "execution_count": 42,
     "metadata": {},
     "output_type": "execute_result"
    }
   ],
   "source": [
    "ds05.to_pandas_dataframe().head()"
   ]
  },
  {
   "cell_type": "code",
   "execution_count": 47,
   "metadata": {},
   "outputs": [
    {
     "data": {
      "text/plain": [
       "0    projects/project002/11_diabetes_model_reg/train/gold/dev/1000/01/01/bf94264b-7012-4370-ad71-6c2af3a2babf/\n",
       "Name: training_data_used, dtype: object"
      ]
     },
     "execution_count": 47,
     "metadata": {},
     "output_type": "execute_result"
    }
   ],
   "source": [
    "#https://msftweudevcmnai2.blob.core.windows.net/lake3/projects/project002/11_diabetes_model_reg/train/active/gold_trained_runinfo\n",
    "ds06 = Dataset.get_by_name(workspace=p.ws, name='M11_GOLD_TRAINED_RUNINFO',  version='latest') \n",
    "\n",
    "pd.set_option(\"max_colwidth\", 500)\n",
    "#pd.options.display.max_rows = 4000\n",
    "\n",
    "ds06.to_pandas_dataframe()['training_data_used']"
   ]
  },
  {
   "cell_type": "code",
   "execution_count": 49,
   "metadata": {},
   "outputs": [
    {
     "data": {
      "text/plain": [
       "'M11_GOLD_TRAIN'"
      ]
     },
     "execution_count": 49,
     "metadata": {},
     "output_type": "execute_result"
    }
   ],
   "source": [
    "ds07 = Dataset.get_by_name(workspace=p.ws, name='M11_GOLD_TRAIN',  version='latest') \n",
    "ds07.name"
   ]
  },
  {
   "cell_type": "markdown",
   "metadata": {},
   "source": [
    "### DATASET: See Run info from last gold scored"
   ]
  },
  {
   "cell_type": "code",
   "execution_count": null,
   "metadata": {},
   "outputs": [],
   "source": [
    "from azureml.core.dataset import Dataset\n",
    "# p = ESMLProject()\n",
    "# ...\n",
    "# ...p.connect_to_lake()\n",
    "meta_dataset = Dataset.get_by_name(p.ws, name=\"M10_GOLD_SCORED_RUNINFO\")\n",
    "meta_dataset.to_pandas_dataframe()"
   ]
  },
  {
   "cell_type": "markdown",
   "metadata": {},
   "source": [
    "## PIPELINE - Get earlier published pipeline - run WITHOUT caching\n",
    "- withour reuse, meaning regenerate_outputs=True"
   ]
  },
  {
   "cell_type": "code",
   "execution_count": null,
   "metadata": {},
   "outputs": [],
   "source": [
    "# Get and run Pipeline - FETCH & RUN - without CACHING, e.g. regenerate=True\n",
    "from azureml.pipeline.core import PublishedPipeline\n",
    "\n",
    "# Azure ML start\n",
    "p.ws = p.get_workspace_from_config()\n",
    "pipeline1 = PublishedPipeline.get(workspace=p.ws, id=\"cb0be1c9-0df0-4821-8d2a-2d734a6b9dcb\") # published_pipeline_id\n",
    "# Azure ML end\n",
    "\n",
    "# ESML (wraps Azure ml) start\n",
    "pipeline_run = p_factory.execute_pipeline(pipeline1,esml_pipeline_types.IN_2_GOLD_SCORING,None,True) # execute_pipeline(self, pipeline = None, pipeline_type=esml_pipeline_types.IN_2_GOLD_SCORING, pipeline_parameters = None, regenerate_outputs=True): \n",
    "pipeline_run.wait_for_completion(show_output=False)\n",
    "# ESML end"
   ]
  },
  {
   "cell_type": "markdown",
   "metadata": {},
   "source": [
    "## Get old RUN, such as AutoMLRun"
   ]
  },
  {
   "cell_type": "code",
   "execution_count": 1,
   "metadata": {},
   "outputs": [],
   "source": [
    "from azureml.train.automl.run import AutoMLRun\n",
    "\n",
    "automl_step_run_id = 'AutoML_d1093aff-84fe-45d8-939f-effe3092dd4c_0' # Look at the Experiment/PipelineRun, raw JSON,  and get the runId of AutoMLStep/Run\n",
    "experiment_run = p.ws.experiments[p.experiment_name]\n",
    "best_run = AutoMLRun(experiment_run, run_id = automl_step_run_id)\n",
    "\n",
    "run_id = best_run.id\n",
    "model_name = best_run.properties['model_name'] # AutoML default name\n",
    "print(model_name)\n",
    "\n",
    "score = best_run.properties['score']\n",
    "algo = best_run.properties['run_algorithm']\n",
    "prep = best_run.properties['run_preprocessor']\n",
    "primary_metric = best_run.properties['primary_metric']\n",
    "peak_memory_usage = best_run.properties['peak_memory_usage']\n",
    "num_logical_cores = best_run.properties['num_logical_cores']\n",
    "\n",
    "print(\"score: {}, algorithm: {}, prep: {}, primary metric: {}, peak_memory_used {} MB, num_logical_core_used {}\".format(score,algo,prep,primary_metric,peak_memory_usage,num_logical_cores))"
   ]
  },
  {
   "cell_type": "markdown",
   "metadata": {},
   "source": [
    "# Init ESML Controller: and Register model from RUN"
   ]
  },
  {
   "cell_type": "code",
   "execution_count": null,
   "metadata": {},
   "outputs": [],
   "source": [
    "import sys\n",
    "sys.path.insert(0, \"../azure-enterprise-scale-ml/\")\n",
    "\n",
    "from esmlrt.interfaces.iESMLController import IESMLController\n",
    "from esmlrt.interfaces.iESMLModelCompare import IESMLModelCompare\n",
    "from esmlrt.interfaces.iESMLTestScoringFactory import IESMLTestScoringFactory\n",
    "from esmlrt.interfaces.iESMLTrainer import IESMLTrainer\n",
    "from esmlrt.runtime.ESMLController import ESMLController\n",
    "from esmlrt.runtime.ESMLModelCompare2 import ESMLModelCompare\n",
    "from esmlrt.runtime.ESMLTestScoringFactory2 import ESMLTestScoringFactory\n",
    "\n",
    "ws = p.ws\n",
    "target_column_name = p.active_model[\"label\"]\n",
    "esml_modelname = p.model_folder_name\n",
    "esml_model_alias = p.ModelAlias\n",
    "esml_current_env  = p.dev_test_prod\n",
    "train_ds = p.GoldTrain\n",
    "validate_ds = p.GoldValidate\n",
    "test_ds = p.GoldTest\n",
    "\n",
    "secret_name_tenant = p.security_config[\"tenant\"]\n",
    "secret_name_sp_id_name = p.security_config[\"kv-secret-esml-projectXXX-sp-id\"]\n",
    "secret_name_sp_secret_name = p.security_config[\"kv-secret-esml-projectXXX-sp-secret\"]\n",
    "\n",
    "ml_type = \"regression\" # Configure this: regression,classification\n",
    "project_name = p.project_folder_name\n",
    "test_scoring = ESMLTestScoringFactory(ml_type) # If custom, You need to implement IESMLTestScoringFactory\n",
    "comparer = ESMLModelCompare(setting_path = \"\") # If custom. You need to implement IESMLModelCompare\n",
    "\n",
    "# IESMLController: you do not have to change/implement this class. Dependency injects default or your class.\n",
    "controller = ESMLController(comparer,test_scoring,project_name,esml_modelname, esml_model_alias, secret_name_tenant,secret_name_sp_id_name,secret_name_sp_secret_name)\n",
    "controller.dev_test_prod = esml_current_env\n",
    "controller.version()"
   ]
  },
  {
   "cell_type": "markdown",
   "metadata": {},
   "source": [
    "## REGISTER from run: AutoMLRun as example (same principle for PipelineRun and Step)\n",
    "- NB! For AutoML Run we get the MODEL_NAME from the child_run, but `we need the MAIN_RUN`, when registering the model"
   ]
  },
  {
   "cell_type": "code",
   "execution_count": null,
   "metadata": {},
   "outputs": [],
   "source": [
    "from azureml.train.automl.run import AutoMLRun\n",
    "\n",
    "# Get the MODEL_NAME from CHILD RUN\n",
    "automl_step_run_id = 'AutoML_d1093aff-84fe-45d8-939f-effe3092dd4c_0' # Look at the Experiment/PipelineRun, raw JSON,  and get the runId of AutoMLStep/Run\n",
    "experiment_run = p.ws.experiments[p.experiment_name]\n",
    "best_run = AutoMLRun(experiment_run, run_id = automl_step_run_id)\n",
    "\n",
    "run_id = best_run.id\n",
    "model_name = best_run.properties['model_name'] # AutoML default name\n",
    "\n",
    "# Get the MAIN_RUN to be able to pass when run.register_model()\n",
    "automl_step_run_id = 'AutoML_d1093aff-84fe-45d8-939f-effe3092dd4c' # Removed the '_0' and we get the parent MAIN_RUN\n",
    "experiment_run = p.ws.experiments[p.experiment_name]\n",
    "main_run = AutoMLRun(experiment_run, run_id = automl_step_run_id)\n",
    "\n",
    "main_run.properties[\"AMLSettingsJsonString\"]  # Only the MAIN_RUN has this property"
   ]
  },
  {
   "cell_type": "code",
   "execution_count": null,
   "metadata": {},
   "outputs": [],
   "source": [
    "#REGISTER passing the MAIN_RUN as parameter\n",
    "\n",
    "extra_tags = {\"status_code\": IESMLController.esml_status_new, \"trained_with\": \"AutoMLRun\"}\n",
    "model_registered_as_new = controller.register_model(source_ws=ws, target_env=\"dev\", source_model=None, run=main_run, esml_status=IESMLController.esml_status_new,extra_model_tags=extra_tags)"
   ]
  },
  {
   "cell_type": "markdown",
   "metadata": {},
   "source": [
    "# AML: MODEL: Download FITTED MODEL from Azure, locally, load & predict with it"
   ]
  },
  {
   "cell_type": "code",
   "execution_count": null,
   "metadata": {},
   "outputs": [],
   "source": [
    "import joblib\n",
    "import os\n",
    "from azureml.core import Model\n",
    "\n",
    "model = Model(p.ws,'AutoMLd1093aff80')\n",
    "m = model.download(target_dir='.', exist_ok=True)\n",
    "\n",
    "model_file_name = 'ridge_{0:.2f}.pkl'.format(0.0)\n",
    "model_file_name2 = 'model.pkl'\n",
    "local_path='./wd/'+model_file_name2\n",
    "fitted_model = joblib.load(local_path)"
   ]
  },
  {
   "cell_type": "markdown",
   "metadata": {},
   "source": [
    "## Example: trouble shooting errors in pipeline, can be done locally\n",
    "- example below: If you have your own TestScoringFactory, and something is wrong."
   ]
  },
  {
   "cell_type": "code",
   "execution_count": null,
   "metadata": {},
   "outputs": [],
   "source": [
    "import pandas as pd\n",
    "from math import sqrt\n",
    "from sklearn.metrics import mean_squared_error\n",
    "\n",
    "validation_data_pd = p.GoldValidate.to_pandas_dataframe()\n",
    "label = p.active_model['label']\n",
    "y_test = validation_data_pd.pop(label).to_frame()\n",
    "\n",
    "# Calculate root-mean-square error\n",
    "y_actual = y_test.values.flatten().tolist()\n",
    "y_predict = fitted_model.predict(validation_data_pd)\n",
    "\n",
    "rmse = None\n",
    "try:\n",
    "    rmse = sqrt(mean_squared_error(y_actual, y_predict))\n",
    "except Exception as e:\n",
    "    mess = \"ufunc 'subtract' did not contain a loop with signature matching types (dtype('<U5'), dtype('float64')) -> None\"\n",
    "    if(mess in str(e)):\n",
    "        print(\"asdf\")\n",
    "    print(type(y_actual))\n",
    "    print(type(y_predict))\n",
    "    y_actual = y_test.values.flatten()\n",
    "    print(type(y_actual))\n",
    "    print(type(y_predict))\n",
    "    rmse = sqrt(mean_squared_error(y_actual, y_predict))\n",
    "    print(rmse)"
   ]
  },
  {
   "cell_type": "markdown",
   "metadata": {},
   "source": [
    "# AML: Azure ML - Connect to workspace, without ESML, and update to legacy_mode"
   ]
  },
  {
   "cell_type": "code",
   "execution_count": null,
   "metadata": {},
   "outputs": [],
   "source": [
    "from azureml.core import Workspace\n",
    "from azureml.core.authentication import InteractiveLoginAuthentication\n",
    "from azureml.core.authentication import ServicePrincipalAuthentication\n",
    "\n",
    "auth = ServicePrincipalAuthentication(tenant_id='todo',service_principal_id='todo', service_principal_password='todo')\n",
    "config_name = \"dev_ws_config.json\"\n",
    "ws = Workspace.get(name = 'aml-prj001-weu-dev-001',subscription_id = 'todo',resource_group = 'todo',auth=auth)\n",
    "ws = Workspace.from_config(path=\"../../\", auth=auth, _file_name=config_name)\n",
    "\n",
    "ws.update(v1_legacy_mode=True)"
   ]
  },
  {
   "cell_type": "markdown",
   "metadata": {},
   "source": [
    "## AML: Write login config cache  to disk"
   ]
  },
  {
   "cell_type": "code",
   "execution_count": null,
   "metadata": {},
   "outputs": [],
   "source": [
    "import os\n",
    "old_loc = os.getcwd()\n",
    "try:\n",
    "    ws.write_config(path=\"../../\", file_name=config_name)\n",
    "except Exception as e:\n",
    "    raise Exception(\"Error - authenticate_workspace_and_write_config - Cannot write config-file\") from e\n",
    "finally: \n",
    "    os.chdir(old_loc) # Change back to working location..."
   ]
  },
  {
   "cell_type": "markdown",
   "metadata": {},
   "source": [
    "### AML: Verify that we can read Login cache to retrieve Auzre ML workspace, without Auth"
   ]
  },
  {
   "cell_type": "code",
   "execution_count": null,
   "metadata": {},
   "outputs": [],
   "source": [
    "ws = Workspace.from_config(path=\"../../\", auth=auth, _file_name=config_name)"
   ]
  },
  {
   "cell_type": "markdown",
   "metadata": {},
   "source": [
    "# AML Pipeline RUN: Dehydrate RUN (from IN_2_GOLD_TRAIN_MANUAL"
   ]
  },
  {
   "cell_type": "code",
   "execution_count": null,
   "metadata": {},
   "outputs": [],
   "source": [
    "from azureml.core import Experiment\n",
    "from azureml.core import Model\n",
    "from azureml.pipeline.core import PipelineRun\n",
    "from azureml.train.automl.run import AutoMLRun\n",
    "from azureml.core import Run\n",
    "\n",
    "main_pipeline_run_id = '1c824e67-13c8-44dd-932c-57be815ddf93'\n",
    "manual_train_run_id= '3e015cb7-2a70-4758-b5ad-c846e181ca15'\n",
    "\n",
    "experiment_run = p.ws.experiments[p.experiment_name]\n",
    "best_run = PipelineRun(experiment_run, run_id = manual_train_run_id) # azureml.StepRun\n",
    "\n",
    "run_id = best_run.id\n",
    "print(run_id)"
   ]
  },
  {
   "cell_type": "markdown",
   "metadata": {},
   "source": [
    "### Init ESMLController, to be able to register model easier, with correct TAGS & MLOps inner/outer loop support"
   ]
  },
  {
   "cell_type": "code",
   "execution_count": null,
   "metadata": {},
   "outputs": [],
   "source": [
    "import sys\n",
    "sys.path.insert(0, \"../azure-enterprise-scale-ml/\")\n",
    "from esmlfac.adapter import ESMLFactory\n",
    "\n",
    "# Init a ESMLController from ESMLProject configuration: Needed for \n",
    "datastore = p.connect_to_lake() # Connects to the correct ALDS GEN 2 storage account (DEV, TEST or PROD)\n",
    "controller = ESMLFactory.get_esml_controller_from_notebook(p)"
   ]
  },
  {
   "cell_type": "markdown",
   "metadata": {},
   "source": [
    "### Register model - model_path overrides name in Azure ML\n",
    "- https://learn.microsoft.com/en-us/python/api/azureml-core/azureml.core.run(class)?view=azure-ml-py#azureml-core-run-register-model"
   ]
  },
  {
   "cell_type": "code",
   "execution_count": null,
   "metadata": {},
   "outputs": [],
   "source": [
    "model_name_aml = 'AMLModeName'# 'AutoMLd1093aff80'\n",
    "model_path = 'outputs/ridge_0.00.pkl' #important that path is correct, should exists in PipelieStep, not in Pipeline\n",
    "m = Model(p.ws,model_name_aml)\n",
    "controller.register_model(source_model=m,run=best_run, source_ws=p.ws,target_env=\"dev\",esml_status='esml_promoted_2_dev',model_path=model_path)"
   ]
  },
  {
   "cell_type": "markdown",
   "metadata": {},
   "source": [
    "### Verify that the model also can be downloaded & initiated"
   ]
  },
  {
   "cell_type": "markdown",
   "metadata": {},
   "source": [
    "# 1b) DEHYDRATE Model, from IN_2_GOLD_TRAIN_MANUAL"
   ]
  },
  {
   "cell_type": "code",
   "execution_count": null,
   "metadata": {},
   "outputs": [],
   "source": [
    "import os\n",
    "import joblib\n",
    "\n",
    "wrong_model_path = 'outputs_or_other/kalle.pkl' # does not matter what path, it is the local target\n",
    "m_path = m.download(target_dir=wrong_model_path, exist_ok=True)\n",
    "fitted_model = joblib.load(m_path)\n",
    "type(fitted_model)"
   ]
  },
  {
   "cell_type": "markdown",
   "metadata": {},
   "source": [
    "### 1c) Test using the fitted model - predict, calculate test scoring"
   ]
  },
  {
   "cell_type": "code",
   "execution_count": null,
   "metadata": {},
   "outputs": [],
   "source": [
    "import pandas as pd\n",
    "from math import sqrt\n",
    "from sklearn.metrics import mean_squared_error,r2_score\n",
    "\n",
    "validation_data_pd = p.GoldValidate.to_pandas_dataframe()\n",
    "label = p.active_model['label']\n",
    "y_test = validation_data_pd.pop(label).to_frame()\n",
    "\n",
    "# Calculate root-mean-square error\n",
    "y_actual = y_test.values.flatten().tolist()\n",
    "y_predict = fitted_model.predict(validation_data_pd)\n",
    "\n",
    "rmse = None\n",
    "try:\n",
    "    rmse = sqrt(mean_squared_error(y_actual, y_predict))\n",
    "    print(rmse)\n",
    "except Exception as e:\n",
    "    mess = \"ufunc 'subtract' did not contain a loop with signature matching types (dtype('<U5'), dtype('float64')) -> None\"\n",
    "    if(mess in str(e)):\n",
    "        print(\"asdf\")\n",
    "    print(type(y_actual))\n",
    "    print(type(y_predict))\n",
    "    y_actual = y_test.values.flatten()\n",
    "    print(type(y_actual))\n",
    "    print(type(y_predict))\n",
    "    rmse = sqrt(mean_squared_error(y_actual, y_predict))\n",
    "    print(rmse)"
   ]
  },
  {
   "cell_type": "markdown",
   "metadata": {},
   "source": [
    "# AML: Azure ML - Connect to workspace, without ESML, and update to legacy_mode"
   ]
  },
  {
   "cell_type": "code",
   "execution_count": null,
   "metadata": {},
   "outputs": [],
   "source": [
    "from azureml.core import Workspace\n",
    "from azureml.core.authentication import InteractiveLoginAuthentication\n",
    "from azureml.core.authentication import ServicePrincipalAuthentication\n",
    "\n",
    "auth = ServicePrincipalAuthentication(tenant_id='todo',service_principal_id='todo', service_principal_password='todo')\n",
    "config_name = \"dev_ws_config.json\"\n",
    "ws = Workspace.get(name = 'aml-prj001-weu-dev-001',subscription_id = 'todo',resource_group = 'todo',auth=auth)\n",
    "ws = Workspace.from_config(path=\"../../\", auth=auth, _file_name=config_name)\n",
    "\n",
    "ws.update(v1_legacy_mode=True)"
   ]
  },
  {
   "cell_type": "markdown",
   "metadata": {},
   "source": [
    "## AML: Write login config cache  to disk"
   ]
  },
  {
   "cell_type": "code",
   "execution_count": null,
   "metadata": {},
   "outputs": [],
   "source": [
    "import os\n",
    "old_loc = os.getcwd()\n",
    "try:\n",
    "    ws.write_config(path=\"../../\", file_name=config_name)\n",
    "except Exception as e:\n",
    "    raise Exception(\"Error - authenticate_workspace_and_write_config - Cannot write config-file\") from e\n",
    "finally: \n",
    "    os.chdir(old_loc) # Change back to working location..."
   ]
  },
  {
   "cell_type": "markdown",
   "metadata": {},
   "source": [
    "### AML: Verify that we can read Login cache to retrieve Auzre ML workspace, without Auth"
   ]
  },
  {
   "cell_type": "code",
   "execution_count": null,
   "metadata": {},
   "outputs": [],
   "source": [
    "ws = Workspace.from_config(path=\"../../\", auth=auth, _file_name=config_name)"
   ]
  },
  {
   "cell_type": "markdown",
   "metadata": {},
   "source": [
    "# Attach Databricks cluster to AML workspace"
   ]
  },
  {
   "cell_type": "code",
   "execution_count": null,
   "metadata": {},
   "outputs": [],
   "source": [
    "from azureml.core.compute import ComputeTarget\n",
    "from azureml.core.compute import DatabricksCompute\n",
    "\n",
    "dev_rg = 'abc-def-esml-project001-weu-dev-001-rg'\n",
    "dev_workspace = 'dbx-prj001-weu-dev-001'\n",
    "db_compute_name = 's-p001-m01-rt91' # Your pre-created DBX cluster - friendlu name\n",
    "my_dbx_cluster_url_name = '1234-1234-zxcvzxv' # See web browser URL when having cluster selected\n",
    "\n",
    "db_resource_group = 'abc-def-esml-project001-weu-dev-004-rg'\n",
    "db_workspace_name = 'dbx-prj001-weu-dev-003'\n",
    "\n",
    "all_envs = {\n",
    "    'dev': {'resource_group': dev_rg, 'workspace_name':dev_workspace},\n",
    "    'test': {'resource_group': 'xyz-xyz-esml-project001-weu-test-001-rg', 'workspace_name': 'z'},\n",
    "    'prod': {'resource_group': 'xyz-xyz-esml-project001-weu-prod-001-rg', 'workspace_name': 'z'}\n",
    "}\n",
    "all_envs = p_factory.set_dbx_token(all_envs)\n",
    "db_access_token=all_envs[p.dev_test_prod]['access_token']  # Databricks access token, is earlier fetched from keyvault\n",
    "\n",
    "# If you get the below - the token is expired or faulty.\n",
    "'''\n",
    "Service invocation failed!\n",
    "Request: GET adb-1234.11.azuredatabricks.net/api/2.0/workspace/list\n",
    "Status Code: 403 Forbidden\n",
    "Reason Phrase: Forbidden\n",
    "Response Body: {\"error_code\":\"403\",\"message\":\"Invalid access to Org: 1234\"}\n",
    "\n",
    "'''\n",
    "\n",
    "config = DatabricksCompute.attach_configuration(\n",
    "resource_group = db_resource_group,\n",
    "workspace_name = db_workspace_name,\n",
    "access_token= db_access_token)\n",
    "\n",
    "databricks_compute=ComputeTarget.attach(p.ws, db_compute_name, config)"
   ]
  }
 ],
 "metadata": {
  "kernelspec": {
   "display_name": "Python 3.8.13 ('azure_automl_esml_v144')",
   "language": "python",
   "name": "python3"
  },
  "language_info": {
   "codemirror_mode": {
    "name": "ipython",
    "version": 3
   },
   "file_extension": ".py",
   "mimetype": "text/x-python",
   "name": "python",
   "nbconvert_exporter": "python",
   "pygments_lexer": "ipython3",
   "version": "3.8.13"
  },
  "orig_nbformat": 4,
  "vscode": {
   "interpreter": {
    "hash": "a4a3f6f829c0fbf992fdd78de6ec4e694e293d154a9b96895f90a426de0ee97e"
   }
  }
 },
 "nbformat": 4,
 "nbformat_minor": 2
}
