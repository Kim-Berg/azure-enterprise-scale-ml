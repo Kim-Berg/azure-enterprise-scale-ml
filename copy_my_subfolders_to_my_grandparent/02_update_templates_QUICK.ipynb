{
 "cells": [
  {
   "cell_type": "markdown",
   "metadata": {},
   "source": [
    "# Copies TEMPLATES (SAFE Notebook to use for UPDATE.)\n",
    "- About this notebook: Copies TEMPLATES: Notebook templates, Pipeline templates, lake_settings & model_settings"
   ]
  },
  {
   "cell_type": "code",
   "execution_count": 2,
   "metadata": {},
   "outputs": [],
   "source": [
    "import os\n",
    "import shutil\n",
    "import uuid\n",
    "target_start_path = \"../../\"\n",
    "def copy_and_overwrite_folder(source,target):\n",
    "    os.makedirs(os.path.dirname(target), exist_ok=True)\n",
    "    if os.path.exists(target):\n",
    "        shutil.rmtree(target)\n",
    "    shutil.copytree(source, target)\n",
    "\n",
    "def copy_and_overwrite_file(source,target):\n",
    "    if(os.path.exists(target) == False):\n",
    "        os.makedirs(os.path.dirname(target), exist_ok=True)\n",
    "    if os.path.exists(target):\n",
    "        os.remove(target)\n",
    "    shutil.copy(source, target)"
   ]
  },
  {
   "cell_type": "markdown",
   "metadata": {},
   "source": [
    "# 1) BICEP utils\n",
    "- Add private DSVM to a project\n",
    "- Create and attach a private AKS cluster to Azure ML"
   ]
  },
  {
   "cell_type": "code",
   "execution_count": 4,
   "metadata": {},
   "outputs": [],
   "source": [
    "# AI FACTORY - BICEP utils: Add private DSVM, Create and attach a private AKS cluster to Azure ML\n",
    "source_bicep_util = \"../environment_setup/aifactory/bicep/esml-util\"\n",
    "target_bicep_util = target_start_path+\"aifactory/esml-util\"\n",
    "copy_and_overwrite_folder(source_bicep_util,target_bicep_util)"
   ]
  },
  {
   "cell_type": "markdown",
   "metadata": {},
   "source": [
    "# 1 B) mlops template\n",
    "- Note: The mlops template is generic (does not need to be copied), hence you can use the centralized GITHUB one, but then you need to change the `start path` in Azure Devops Azure CLI steps.\n",
    "- If copy as your own templat (run the below cell), which is recommended - you can customize it, and the Azure Devops template will find the files directly."
   ]
  },
  {
   "cell_type": "code",
   "execution_count": null,
   "metadata": {},
   "outputs": [],
   "source": [
    "# A) MLOPS\n",
    "source_templates = \"./mlops/01_template_v14\"\n",
    "target_templates = target_start_path+\"mlops/01_template_v14\"\n",
    "copy_and_overwrite_folder(source_templates,target_templates)"
   ]
  },
  {
   "cell_type": "markdown",
   "metadata": {},
   "source": [
    "# 2 A,B,C,D MORE FREQUENTLY - Update notebook templates, pipeline templates, mlops template, bicep template\n",
    "- 2A: Notebook templates\n",
    "- 2B: Pipeline templates\n",
    "- 2C: Lake_settings.json  + model_settings.json (will also create backups)"
   ]
  },
  {
   "cell_type": "markdown",
   "metadata": {},
   "source": [
    "## 2 A) QUICKSTART notebook templates ONLY"
   ]
  },
  {
   "cell_type": "code",
   "execution_count": 3,
   "metadata": {},
   "outputs": [],
   "source": [
    "# QUICKSTART NOTEBOOKS\n",
    "source_notebooks_quickstart = \"./notebook_templates/1_quickstart/\"\n",
    "target_notebooks_quickstart = target_start_path+\"notebook_templates_quickstart\"\n",
    "copy_and_overwrite_folder(source_notebooks_quickstart,target_notebooks_quickstart)\n",
    "\n",
    "# QUICKSTART NOTEBOOKS - Databricks\n",
    "source_notebooks_quickstart = \"./notebook_templates/notebook_databricks/\"\n",
    "target_notebooks_quickstart = target_start_path+\"notebook_databricks\"\n",
    "copy_and_overwrite_folder(source_notebooks_quickstart,target_notebooks_quickstart)"
   ]
  },
  {
   "cell_type": "markdown",
   "metadata": {},
   "source": [
    "# 2B) Pipeline templates only\n",
    "- WHEN to update? \n",
    "    - Needs to be updated if ESML fix is in ESMLRT, Runtime, or in the Pipeline template python files themselves"
   ]
  },
  {
   "cell_type": "code",
   "execution_count": null,
   "metadata": {},
   "outputs": [],
   "source": [
    "# PIPELINE TEMPLATES ONLY\n",
    "source_templates = \"./settings/enterprise_specific/dev_test_prod_defaults/batch/pipeline_template\"\n",
    "target_templates = target_start_path+\"settings/enterprise_specific/dev_test_prod_defaults/batch/pipeline_template\"\n",
    "copy_and_overwrite_folder(source_templates,target_templates)"
   ]
  },
  {
   "cell_type": "markdown",
   "metadata": {},
   "source": [
    "## 2 A+B+C: Notebooks & Pipeline templates\n",
    "- When  to update? \n",
    "    - For monthly / quartely ESML updates, such as the OCTOBER 2022 update"
   ]
  },
  {
   "cell_type": "code",
   "execution_count": 2,
   "metadata": {},
   "outputs": [],
   "source": [
    "uid = uuid.uuid4().hex\n",
    "bak_name = \"bak_\"+uid[0:5]\n",
    "\n",
    "# QUICKSTART NOTEBOOKS\n",
    "\n",
    "source_notebooks_quickstart = \"./notebook_templates/1_quickstart/\"\n",
    "target_notebooks_quickstart = target_start_path+\"notebook_templates_quickstart\"\n",
    "copy_and_overwrite_folder(source_notebooks_quickstart,target_notebooks_quickstart)\n",
    "\n",
    "# PIPELINE TEMPLATES\n",
    "source_templates = \"./settings/enterprise_specific/dev_test_prod_defaults/batch/pipeline_template\"\n",
    "target_templates = target_start_path+\"settings/enterprise_specific/dev_test_prod_defaults/batch/pipeline_template\"\n",
    "copy_and_overwrite_folder(source_templates,target_templates)\n",
    "\n",
    "# BACKUP - LAKE_SETTINGS\n",
    "bak_source_templates = target_start_path+\"settings/project_specific/model/lake_settings.json\"\n",
    "if os.path.exists(bak_source_templates):\n",
    "    bak_target_templates = target_start_path+\"settings/project_specific/model/lake_settings.\"+bak_name+\".json\"\n",
    "    copy_and_overwrite_file(bak_source_templates,bak_target_templates)\n",
    "\n",
    "# OVERWRITE - LAKE_SETTINGS\n",
    "bak_source_templates = \"./settings/project_specific/model/lake_settings.json\"\n",
    "bak_target_templates = target_start_path+\"settings/project_specific/model/lake_settings.json\"\n",
    "copy_and_overwrite_file(bak_source_templates,bak_target_templates)\n",
    "\n",
    "# BACKUP - MODEL_SETTINGS\n",
    "bak_source_templates = target_start_path+\"settings/project_specific/model/model_settings.json\"\n",
    "if os.path.exists(bak_source_templates):\n",
    "    bak_target_templates = target_start_path+\"settings/project_specific/model/model_settings.\"+bak_name+\".json\"\n",
    "    copy_and_overwrite_file(bak_source_templates,bak_target_templates)\n",
    "\n",
    "# OVERWRITE - - MODEL_SETTINGS\n",
    "bak_source_templates = \"./settings/project_specific/model/model_settings.json\"\n",
    "bak_target_templates = target_start_path+\"settings/project_specific/model/model_settings.json\"\n",
    "copy_and_overwrite_file(bak_source_templates,bak_target_templates)"
   ]
  }
 ],
 "metadata": {
  "kernelspec": {
   "display_name": "Python 3.8.13 ('azure_automl_esml_v144')",
   "language": "python",
   "name": "python3"
  },
  "language_info": {
   "codemirror_mode": {
    "name": "ipython",
    "version": 3
   },
   "file_extension": ".py",
   "mimetype": "text/x-python",
   "name": "python",
   "nbconvert_exporter": "python",
   "pygments_lexer": "ipython3",
   "version": "3.8.13"
  },
  "orig_nbformat": 4,
  "vscode": {
   "interpreter": {
    "hash": "a4a3f6f829c0fbf992fdd78de6ec4e694e293d154a9b96895f90a426de0ee97e"
   }
  }
 },
 "nbformat": 4,
 "nbformat_minor": 2
}
